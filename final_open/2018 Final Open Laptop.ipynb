{
 "cells": [
  {
   "cell_type": "markdown",
   "metadata": {},
   "source": [
    "# 2018 Final Open Laptop"
   ]
  },
  {
   "cell_type": "markdown",
   "metadata": {},
   "source": [
    "## Problem 1 (5 POINTS)\n",
    "On your latop create a new folder where all materials for this exam will be stored. Name this folder `2018_FINAL`. Within this folder initialize a git repository."
   ]
  },
  {
   "cell_type": "markdown",
   "metadata": {},
   "source": [
    "## Problem 2 (5 POINTS)\n",
    "Add a markdown file to this directory and give it a title that GitHub would automatically display when visiting this repository. Also ensure that your git repository will never store files that have the extension `.env`. Complete the local git workflow and give the commit message an emoji only."
   ]
  },
  {
   "cell_type": "markdown",
   "metadata": {},
   "source": [
    "## Problem 3 (15 POINTS)\n",
    "Within the `2018_FINAL` folder, create a new folder named `data`. This folder should be a regular python package that contains a module `here.py`. Within your `here.py` module should be a python class that conforms to the following specifications:\n",
    "\n",
    "1. The class name is `Data`.\n",
    "2. Upon initialization, this class calls out to the Flu Tracker RESTful API (http://www.flutrack.org/) and creates a pandas dataframe which contains results from the last `4` days. Make sure the resulting dataframe is saved as an attribute for all objects generated from this class.\n",
    "3. It has a property attribute called `total_sample` which equals the number of rows in the pandas dataframe.\n",
    "4. To access this class, make sure the following import statement would work if someones current working directory was `2018_FINAL`:\n",
    "```\n",
    "from data import Data\n",
    "```\n",
    "5. Complete the local git workflow and make sure your commit message says \"Problem 3 complete\"."
   ]
  },
  {
   "cell_type": "markdown",
   "metadata": {},
   "source": [
    "## Problem 4 (15 POINTS)\n",
    "Make sure that your current working directory is within `2018_FINAL`. Create a new regular python package called `analysis`. This package should have a module named `foo.py`. Within `foo.py` create a class which inherits from the Data class in Problem 3. Make sure that this class conforms to the following specifications:\n",
    "1. Upon initialization, it explicitly invokes the Data class initialization.\n",
    "2. It contains a method called `transform` which does the following:  \n",
    "    a. Because you inherited from the Data object, you should have a dataframe attribute.  \n",
    "    b. This method should create a new column called `first5`. `first5` should contain the first 5 characters from the `tweet_date` variable.\n",
    "3. It contains a method called `visualize`. `visualize` should create a barplot of the number of records that occur within each category of `first5`. `visualize` should also be smart enough to only run if the column `first5` is available. If it isn't, then an exception should be thrown.\n",
    "4. Complete the local git workflow and make sure your commit message says \"Problem 4 complete\"."
   ]
  },
  {
   "cell_type": "markdown",
   "metadata": {},
   "source": [
    "## Problem 5 (10 POINTS)\n",
    "Reset the git head to the place it was at the end of Problem 2. Generate the `MD5` hash of the entire folder `2018_FINAL`, write it down, you will need this in a minute. Create a compressed tarball of the entire `2018_FINAL` folder. Email me the compressed tarball with the title [YOUR NAME] 2018 BIOS821 Final. In the body of the email include the text:  \n",
    "MD5: [YOUR GENERATED MD5 HASH Value]"
   ]
  },
  {
   "cell_type": "markdown",
   "metadata": {},
   "source": [
    "> VOILA! Enjoy your holiday break!"
   ]
  }
 ],
 "metadata": {
  "kernelspec": {
   "display_name": "Python 3",
   "language": "python",
   "name": "python3"
  },
  "language_info": {
   "codemirror_mode": {
    "name": "ipython",
    "version": 3
   },
   "file_extension": ".py",
   "mimetype": "text/x-python",
   "name": "python",
   "nbconvert_exporter": "python",
   "pygments_lexer": "ipython3",
   "version": "3.5.5"
  }
 },
 "nbformat": 4,
 "nbformat_minor": 2
}
