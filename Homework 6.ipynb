{
 "cells": [
  {
   "cell_type": "markdown",
   "metadata": {},
   "source": [
    "### Homework 6 - Avani Gupta"
   ]
  },
  {
   "cell_type": "markdown",
   "metadata": {},
   "source": [
    "1. A Caesar cipher is a very simple method of encoding and decoding data. \n",
    "\tThe cipher simply replaces characters with the character offset by k places.\n",
    "\tFor example, if the offset is 3, we replace a with d, b with e etc. \n",
    "\tThe cipher wraps around so we replace y with b, z with c and so on. \n",
    "\tPunctuation, spaces and numbers are left unchanged. \n",
    "\tIn order to complete this assignment, look into the python package string, it may be helpful.\n",
    "\t\n",
    "(a) Write a function named encode \n",
    "- that takes as arguments a string and an integer offset \n",
    "- returns the encoded cipher\n",
    "- Be sure to document your function.\n",
    "\n",
    "(b) Write a function named decode \n",
    "- that takes as arguments a cipher and an integer offset \n",
    "- returns the decoded string."
   ]
  },
  {
   "cell_type": "code",
   "execution_count": 34,
   "metadata": {},
   "outputs": [
    {
     "name": "stdout",
     "output_type": "stream",
     "text": [
      "dydql\n"
     ]
    }
   ],
   "source": [
    "#a - encode function\n",
    "abcLower = 'abcdefghijklmnopqrstuvwxyz'\n",
    "abcUpper = str.upper(abcLower) #uppercase alpha\n",
    "\n",
    "enc = dict(zip(abcLower, range(26))) #a:0\n",
    "dec = dict(enumerate(abcLower)) #0:a\n",
    "\n",
    "\n",
    "def encode(string, key):\n",
    "    ans = ''\n",
    "    if not isinstance(string, str): #troubleshooting for non-string\n",
    "        return \"Input Not String\"\n",
    "    if not isinstance(key, int): #troubleshooting for non-integer\n",
    "        return \"Key Not Integer\"\n",
    "    else:\n",
    "        for c in list(string):\n",
    "            if c.isalpha():\n",
    "                c = c.lower() #convert all to lower\n",
    "                c = enc[c] # convert letter to number\n",
    "                c = c + key # add key to numerical alph\n",
    "                c = c % 26  #remainder of 26 so can convert back\n",
    "                c = dec[c] # convert number to letter\n",
    "                ans+=c # add to empty string\n",
    "            else:\n",
    "                pass\n",
    "        print(ans)\n",
    "\n",
    "encode('avani????', 3)"
   ]
  },
  {
   "cell_type": "code",
   "execution_count": 35,
   "metadata": {},
   "outputs": [],
   "source": [
    "#b - decode function\n",
    "def decode(string, key):\n",
    "    ans = ''\n",
    "    if not isinstance(string, str):\n",
    "        return \"Input Not String\"\n",
    "    if not isinstance(key, int):\n",
    "        return \"Key Not Integer\"\n",
    "    else:\n",
    "        for c in list(string):\n",
    "            if c.isalpha():\n",
    "                c = c.lower() #convert all to lower\n",
    "                c = enc[c] # convert letter to number\n",
    "                c = c - key # subtract key to numerical alph\n",
    "                c = c % 26  #remainder of 26 so can convert back\n",
    "                c = dec[c] # convert number to letter\n",
    "                ans+=c # add to empty string\n",
    "            else:\n",
    "                pass\n",
    "        print(ans)"
   ]
  },
  {
   "cell_type": "code",
   "execution_count": 36,
   "metadata": {},
   "outputs": [
    {
     "name": "stdout",
     "output_type": "stream",
     "text": [
      "avani\n"
     ]
    }
   ],
   "source": [
    "decode('dydql',3)"
   ]
  },
  {
   "cell_type": "markdown",
   "metadata": {},
   "source": [
    "c) Write a function named letter_count\n",
    "\n",
    "- that takes as argument a string and returns a tuple.\n",
    "- The first element in the tuple is a dictionary.\n",
    "- The dictionary's keys are comprised of every unique upper case letter from the english alphabet.\n",
    "- The values in this dictionary are percentages of the times that letter (either lower or upper case) is present in the input string.\n",
    "- The second element in the tuple is the number of letters either upper or lower case in the input string."
   ]
  },
  {
   "cell_type": "code",
   "execution_count": 57,
   "metadata": {},
   "outputs": [],
   "source": [
    "def letter_count(string): #takes argument as string\n",
    "    if not isinstance(string, str): #troubleshooting for non-string term\n",
    "        return \"Input Not String\"\n",
    "    else:\n",
    "        string = str.upper(string) #convert to uppercase\n",
    "        len1 = len(string) #create len - second element of tuple\n",
    "        dictCount = {letter : 0 for letter in abcUpper} #counter - 0 for each alpha to begin\n",
    "        for letter in string:\n",
    "            if letter.isalpha():\n",
    "                dictCount[letter] += 1 #add 1 to counter per alphabet\n",
    "                dictCount[letter] = (dictCount[letter]/len1) #convert percentage \n",
    "            else:\n",
    "                pass\n",
    "    tup1=(dictCount, len1) #tuple elements\n",
    "    print(tup1)"
   ]
  },
  {
   "cell_type": "markdown",
   "metadata": {},
   "source": [
    "(d) Use the following nursery rhyme to test all three functions above and use a random offset between 5 and 9 where needed:\n",
    "\n",
    "Humpty Dumpty sat on a wall,\n",
    "Humpty Dumpty had a great fall;\n",
    "All the king's horses and all the king's men\n",
    "Couldn't put Humpty together again."
   ]
  },
  {
   "cell_type": "code",
   "execution_count": 45,
   "metadata": {},
   "outputs": [
    {
     "name": "stdout",
     "output_type": "stream",
     "text": [
      "nasvzejasvzeygzutgcgrrnasvzejasvzengjgmxkgzlgrrgrrznkqotmynuxykygtjgrrznkqotmyskiuarjtzvaznasvzezumkznkxgmgot\n",
      "bogjnsxogjnsmunihuquffbogjnsxogjnsbuxualyunzuffuffnbyechambilmymuhxuffnbyechamgywiofxhnjonbogjnsniaynbyluauch\n",
      "({'A': 0.007352941176470588, 'B': 0, 'C': 0.0072992700729927005, 'D': 0.0073529411763182334, 'E': 0.00735294117647058, 'F': 0.0072992700729927005, 'G': 0.0073529411763182334, 'H': 0.007352941176470588, 'I': 0.007352938316909425, 'J': 0, 'K': 0.0073525494165911885, 'L': 0.007352941176470588, 'M': 0.007352941176469476, 'N': 0.007352941176469476, 'O': 0.00735294115559788, 'P': 0.007352941176469476, 'Q': 0, 'R': 0.007352938316909425, 'S': 0.0073529411763182334, 'T': 0.007352941176470588, 'U': 0.00735294117647058, 'V': 0, 'W': 0.0072992700729927005, 'X': 0, 'Y': 0.0073529411763182334, 'Z': 0}, 137)\n"
     ]
    }
   ],
   "source": [
    "humpty= (\"Humpty Dumpty sat on a wall,\\\n",
    "Humpty Dumpty had a great fall;\\\n",
    "All the king's horses and all the king's me\\\n",
    "Couldn't put Humpty together again.\")\n",
    "         \n",
    "encode(humpty,6)\n",
    "decode(humpty,6)\n",
    "letter_count(humpty) "
   ]
  },
  {
   "cell_type": "code",
   "execution_count": null,
   "metadata": {},
   "outputs": [],
   "source": []
  }
 ],
 "metadata": {
  "kernelspec": {
   "display_name": "Python 3",
   "language": "python",
   "name": "python3"
  },
  "language_info": {
   "codemirror_mode": {
    "name": "ipython",
    "version": 3
   },
   "file_extension": ".py",
   "mimetype": "text/x-python",
   "name": "python",
   "nbconvert_exporter": "python",
   "pygments_lexer": "ipython3",
   "version": "3.6.5"
  }
 },
 "nbformat": 4,
 "nbformat_minor": 2
}
