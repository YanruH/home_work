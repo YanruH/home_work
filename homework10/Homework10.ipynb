{
 "cells": [
  {
   "cell_type": "markdown",
   "metadata": {},
   "source": [
    "# Homework 10"
   ]
  },
  {
   "cell_type": "markdown",
   "metadata": {},
   "source": [
    "## Problem 1. 30 POINTS\n",
    "Create a bash shell script that will create a sqlite database of the 4 csv files in this directory. Make sure that you assing meaningful data types and constraints to your database."
   ]
  },
  {
   "cell_type": "code",
   "execution_count": 1,
   "metadata": {},
   "outputs": [
    {
     "name": "stdout",
     "output_type": "stream",
     "text": [
      "/Users/sinclair/bios821/home_work/home_work/homework10\n"
     ]
    }
   ],
   "source": [
    "#please don't run the cell because I have already created .sh file and .db file using these codes\n",
    "\"\"\"\n",
    "%%bash\n",
    "cat >> data4.sh << EOF\n",
    "> #!/bin/bash\n",
    "> sqlite3 data4.db << eof\n",
    "> CREATE TABLE billing(\n",
    ">   \"billingid\" TEXT UNIQUE NOT NULL PRIMARY KEY,\n",
    ">   \"encounterid\" TEXT,\n",
    ">   \"code\" TEXT\n",
    "> );\n",
    "> CREATE TABLE encounter(\n",
    ">   \"encounterid\" TEXT UNIQUE NOT NULL PRIMARY KEY,\n",
    ">   \"patientid\" TEXT,\n",
    ">   \"encounterdate\" TEXT,\n",
    ">   \"encounterphysician\" TEXT,\n",
    ">   \"encounterreason\" TEXT,\n",
    ">   \"billingamount\"  \n",
    "> );\n",
    "> CREATE TABLE patient(\n",
    ">   \"patientid\" TEXT UNIQUE NOT NULL PRIMARY KEY,\n",
    ">   \"lastname\" TEXT,\n",
    ">   \"firstname\" TEXT,\n",
    ">   \"gender\" TEXT,\n",
    ">   \"dob\" TEXT\n",
    "> );\n",
    "> CREATE TABLE physician(\n",
    ">   \"physicianid\" TEXT UNIQUE NOT NULL PRIMARY KEY,\n",
    ">   \"lastname\" TEXT,\n",
    ">   \"firstname\" TEXT,\n",
    ">   \"specialty\" TEXT\n",
    "> );\n",
    "> .mode csv\n",
    "> .import billing.csv billing\n",
    "> .import encounter.csv encounter\n",
    "> .import patient.csv patient\n",
    "> .import physician.csv physician\n",
    "> .schema billing\n",
    "> .schema encounter\n",
    "> .schema patient\n",
    "> .schema physician\n",
    "> eof\n",
    "> EOF\n",
    "chmod 744 data4.sh\n",
    "./data4.sh\n",
    "\"\"\""
   ]
  },
  {
   "cell_type": "code",
   "execution_count": 41,
   "metadata": {},
   "outputs": [
    {
     "name": "stdout",
     "output_type": "stream",
     "text": [
      "total 256\n",
      "drwxr-xr-x  12 sinclair  staff    384 Nov 26 17:55 .\n",
      "drwxr-xr-x  13 sinclair  staff    416 Nov 24 18:03 ..\n",
      "-rw-r--r--@  1 sinclair  staff   6148 Nov 26 17:55 .DS_Store\n",
      "drwxr-xr-x   3 sinclair  staff     96 Nov 25 16:43 .ipynb_checkpoints\n",
      "-rw-r--r--   1 sinclair  staff  18283 Nov 26 17:55 Homework10.ipynb\n",
      "-rw-r--r--   1 sinclair  staff    241 Nov 24 18:03 billing.csv\n",
      "-rw-r--r--   1 sinclair  staff  36864 Nov 25 18:19 data4.db\n",
      "-rwxr--r--   1 sinclair  staff    823 Nov 25 18:18 data4.sh\n",
      "-rw-r--r--   1 sinclair  staff    368 Nov 24 18:03 encounter.csv\n",
      "-rw-r--r--@  1 sinclair  staff  44014 Nov 26 17:55 graph.pdf\n",
      "-rw-r--r--   1 sinclair  staff    152 Nov 24 18:03 patient.csv\n",
      "-rw-r--r--   1 sinclair  staff    141 Nov 24 18:03 physician.csv\n"
     ]
    }
   ],
   "source": [
    "%%bash\n",
    "ls -al"
   ]
  },
  {
   "cell_type": "markdown",
   "metadata": {},
   "source": [
    "## Problem 2. 30 POINTS.\n",
    "Using python, answer the following questions:\n",
    "    1. Provide code that creates a pandas dataframe that contains a patient-level dataset with:\n",
    "        - LastName\n",
    "        - FirstName\n",
    "        - Total Billing Amount\n",
    "    2. The billing department needs to modify each billing statment so that we take the total billing amount for each person, multiply it by 4.2 and subtract 10. Create a new column on your pandas dataframe that applies this correction and name this variable `correction`.\n",
    "    3. For all patients less than 40 years old, create a pandas data frame that contains:\n",
    "        - LastName\n",
    "        - FirstName\n",
    "        - physician last name\n",
    "        - physician first name\n",
    "        - total times seen that physician\n",
    "    "
   ]
  },
  {
   "cell_type": "code",
   "execution_count": 42,
   "metadata": {},
   "outputs": [
    {
     "data": {
      "text/html": [
       "<div>\n",
       "<style scoped>\n",
       "    .dataframe tbody tr th:only-of-type {\n",
       "        vertical-align: middle;\n",
       "    }\n",
       "\n",
       "    .dataframe tbody tr th {\n",
       "        vertical-align: top;\n",
       "    }\n",
       "\n",
       "    .dataframe thead th {\n",
       "        text-align: right;\n",
       "    }\n",
       "</style>\n",
       "<table border=\"1\" class=\"dataframe\">\n",
       "  <thead>\n",
       "    <tr style=\"text-align: right;\">\n",
       "      <th></th>\n",
       "      <th>lastname</th>\n",
       "      <th>firstname</th>\n",
       "      <th>billingamount</th>\n",
       "    </tr>\n",
       "    <tr>\n",
       "      <th>patientid</th>\n",
       "      <th></th>\n",
       "      <th></th>\n",
       "      <th></th>\n",
       "    </tr>\n",
       "  </thead>\n",
       "  <tbody>\n",
       "    <tr>\n",
       "      <th>1</th>\n",
       "      <td>doe</td>\n",
       "      <td>john</td>\n",
       "      <td>186.97</td>\n",
       "    </tr>\n",
       "    <tr>\n",
       "      <th>2</th>\n",
       "      <td>doe</td>\n",
       "      <td>jane</td>\n",
       "      <td>0.00</td>\n",
       "    </tr>\n",
       "    <tr>\n",
       "      <th>3</th>\n",
       "      <td>sickly</td>\n",
       "      <td>joseph</td>\n",
       "      <td>888.10</td>\n",
       "    </tr>\n",
       "    <tr>\n",
       "      <th>4</th>\n",
       "      <td>well</td>\n",
       "      <td>sally</td>\n",
       "      <td>0.00</td>\n",
       "    </tr>\n",
       "    <tr>\n",
       "      <th>5</th>\n",
       "      <td>daily</td>\n",
       "      <td>bob</td>\n",
       "      <td>375.69</td>\n",
       "    </tr>\n",
       "  </tbody>\n",
       "</table>\n",
       "</div>"
      ],
      "text/plain": [
       "          lastname firstname  billingamount\n",
       "patientid                                  \n",
       "1              doe      john         186.97\n",
       "2              doe      jane           0.00\n",
       "3           sickly    joseph         888.10\n",
       "4             well     sally           0.00\n",
       "5            daily       bob         375.69"
      ]
     },
     "execution_count": 42,
     "metadata": {},
     "output_type": "execute_result"
    }
   ],
   "source": [
    "import pandas as pd\n",
    "from sqlalchemy import create_engine\n",
    "engine = create_engine('sqlite:///data4.db')\n",
    "df1 = pd.read_sql('select * from patient;', engine)\n",
    "df2 = pd.read_sql('select * from encounter;', engine)\n",
    "df1 = df1.drop([0])\n",
    "df2 = df2.drop([0])\n",
    "df1 = df1.drop(columns = ['gender', 'dob'])\n",
    "df2 = df2.drop(columns = ['encounterid', 'encounterdate', 'encounterphysician', 'encounterreason'])\n",
    "df2 = df2.groupby(['patientid'])['billingamount'].sum()\n",
    "df2 = df2.to_frame()\n",
    "df = pd.merge(df1, df2, on = 'patientid', how = 'outer')\n",
    "df['billingamount'] = df['billingamount'].apply(lambda x: 0.00 if pd.isna(x) else float(x))\n",
    "df.set_index(['patientid'])\n"
   ]
  },
  {
   "cell_type": "code",
   "execution_count": 43,
   "metadata": {},
   "outputs": [
    {
     "data": {
      "text/html": [
       "<div>\n",
       "<style scoped>\n",
       "    .dataframe tbody tr th:only-of-type {\n",
       "        vertical-align: middle;\n",
       "    }\n",
       "\n",
       "    .dataframe tbody tr th {\n",
       "        vertical-align: top;\n",
       "    }\n",
       "\n",
       "    .dataframe thead th {\n",
       "        text-align: right;\n",
       "    }\n",
       "</style>\n",
       "<table border=\"1\" class=\"dataframe\">\n",
       "  <thead>\n",
       "    <tr style=\"text-align: right;\">\n",
       "      <th></th>\n",
       "      <th>patientid</th>\n",
       "      <th>lastname</th>\n",
       "      <th>firstname</th>\n",
       "      <th>billingamount</th>\n",
       "      <th>correction</th>\n",
       "    </tr>\n",
       "  </thead>\n",
       "  <tbody>\n",
       "    <tr>\n",
       "      <th>0</th>\n",
       "      <td>1</td>\n",
       "      <td>doe</td>\n",
       "      <td>john</td>\n",
       "      <td>186.97</td>\n",
       "      <td>775.274</td>\n",
       "    </tr>\n",
       "    <tr>\n",
       "      <th>1</th>\n",
       "      <td>2</td>\n",
       "      <td>doe</td>\n",
       "      <td>jane</td>\n",
       "      <td>0.00</td>\n",
       "      <td>0.000</td>\n",
       "    </tr>\n",
       "    <tr>\n",
       "      <th>2</th>\n",
       "      <td>3</td>\n",
       "      <td>sickly</td>\n",
       "      <td>joseph</td>\n",
       "      <td>888.10</td>\n",
       "      <td>3720.020</td>\n",
       "    </tr>\n",
       "    <tr>\n",
       "      <th>3</th>\n",
       "      <td>4</td>\n",
       "      <td>well</td>\n",
       "      <td>sally</td>\n",
       "      <td>0.00</td>\n",
       "      <td>0.000</td>\n",
       "    </tr>\n",
       "    <tr>\n",
       "      <th>4</th>\n",
       "      <td>5</td>\n",
       "      <td>daily</td>\n",
       "      <td>bob</td>\n",
       "      <td>375.69</td>\n",
       "      <td>1567.898</td>\n",
       "    </tr>\n",
       "  </tbody>\n",
       "</table>\n",
       "</div>"
      ],
      "text/plain": [
       "  patientid lastname firstname  billingamount  correction\n",
       "0         1      doe      john         186.97     775.274\n",
       "1         2      doe      jane           0.00       0.000\n",
       "2         3   sickly    joseph         888.10    3720.020\n",
       "3         4     well     sally           0.00       0.000\n",
       "4         5    daily       bob         375.69    1567.898"
      ]
     },
     "execution_count": 43,
     "metadata": {},
     "output_type": "execute_result"
    }
   ],
   "source": [
    "df['correction'] = df['billingamount'].apply(lambda x: 4.2 * x - 10 if x != 0 else x)\n",
    "df"
   ]
  },
  {
   "cell_type": "code",
   "execution_count": 44,
   "metadata": {},
   "outputs": [
    {
     "data": {
      "text/html": [
       "<div>\n",
       "<style scoped>\n",
       "    .dataframe tbody tr th:only-of-type {\n",
       "        vertical-align: middle;\n",
       "    }\n",
       "\n",
       "    .dataframe tbody tr th {\n",
       "        vertical-align: top;\n",
       "    }\n",
       "\n",
       "    .dataframe thead th {\n",
       "        text-align: right;\n",
       "    }\n",
       "</style>\n",
       "<table border=\"1\" class=\"dataframe\">\n",
       "  <thead>\n",
       "    <tr style=\"text-align: right;\">\n",
       "      <th></th>\n",
       "      <th></th>\n",
       "      <th></th>\n",
       "      <th></th>\n",
       "      <th>times</th>\n",
       "    </tr>\n",
       "    <tr>\n",
       "      <th>patientlastname</th>\n",
       "      <th>patientfirstname</th>\n",
       "      <th>physicianlastname</th>\n",
       "      <th>physicianfirstname</th>\n",
       "      <th></th>\n",
       "    </tr>\n",
       "  </thead>\n",
       "  <tbody>\n",
       "    <tr>\n",
       "      <th rowspan=\"2\" valign=\"top\">daily</th>\n",
       "      <th rowspan=\"2\" valign=\"top\">bob</th>\n",
       "      <th>na</th>\n",
       "      <th>li</th>\n",
       "      <td>1</td>\n",
       "    </tr>\n",
       "    <tr>\n",
       "      <th>satterwhite</th>\n",
       "      <th>jill</th>\n",
       "      <td>1</td>\n",
       "    </tr>\n",
       "    <tr>\n",
       "      <th rowspan=\"3\" valign=\"top\">sickly</th>\n",
       "      <th rowspan=\"3\" valign=\"top\">joseph</th>\n",
       "      <th>na</th>\n",
       "      <th>li</th>\n",
       "      <td>3</td>\n",
       "    </tr>\n",
       "    <tr>\n",
       "      <th>wei</th>\n",
       "      <th>liu</th>\n",
       "      <td>2</td>\n",
       "    </tr>\n",
       "    <tr>\n",
       "      <th>whitecoat</th>\n",
       "      <th>bill</th>\n",
       "      <td>1</td>\n",
       "    </tr>\n",
       "    <tr>\n",
       "      <th>well</th>\n",
       "      <th>sally</th>\n",
       "      <th>None</th>\n",
       "      <th>None</th>\n",
       "      <td>0</td>\n",
       "    </tr>\n",
       "  </tbody>\n",
       "</table>\n",
       "</div>"
      ],
      "text/plain": [
       "                                                                       times\n",
       "patientlastname patientfirstname physicianlastname physicianfirstname       \n",
       "daily           bob              na                li                      1\n",
       "                                 satterwhite       jill                    1\n",
       "sickly          joseph           na                li                      3\n",
       "                                 wei               liu                     2\n",
       "                                 whitecoat         bill                    1\n",
       "well            sally            None              None                    0"
      ]
     },
     "execution_count": 44,
     "metadata": {},
     "output_type": "execute_result"
    }
   ],
   "source": [
    "from datetime import datetime\n",
    "from dateutil import relativedelta\n",
    "import numpy as np\n",
    "df1 = pd.read_sql('select * from patient;', engine)\n",
    "df1 = df1.drop([0])\n",
    "df1 = df1.rename(columns = {'lastname': 'patientlastname', 'firstname': 'patientfirstname'})\n",
    "df2 = pd.read_sql('select * from encounter;', engine)\n",
    "df2 = df2.drop([0])\n",
    "df2['times'] = 1\n",
    "df2 = df2.rename(columns = {'encounterphysician': 'physicianid'})\n",
    "df3 = pd.read_sql('select * from physician;', engine)\n",
    "df3 = df3.drop([0])\n",
    "df3 = df3.rename(columns = {'lastname': 'physicianlastname', 'firstname': 'physicianfirstname'})\n",
    "df = pd.merge(df1, df2, on = 'patientid', how = 'outer')\n",
    "df = pd.merge(df, df3, on = 'physicianid', how = 'outer')\n",
    "df = df.drop(columns = ['patientid', 'physicianid', 'gender', 'encounterid', 'encounterdate', 'encounterreason', 'billingamount', 'specialty'])\n",
    "df['times'] = df['times'].apply(lambda x: 0 if pd.isna(x) else x)\n",
    "df['physicianlastname'] = df['physicianlastname'].apply(lambda x: 'None' if pd.isna(x) else x)\n",
    "df['physicianfirstname'] = df['physicianfirstname'].apply(lambda x: 'None' if pd.isna(x) else x)\n",
    "df['dob'] = pd.to_datetime(df['dob'], format = '%m/%d/%y')\n",
    "df['dob'] = df['dob'].apply(lambda x: x if x.year <= 2018 else x.replace(year = x.year - 100))\n",
    "now = datetime.now()\n",
    "df['age'] = df['dob'].apply(lambda x: int(relativedelta.relativedelta(now, x).years) if True else x)\n",
    "df = df.loc[df['age'] < 40]\n",
    "df['times'] = df['times'].astype(int)\n",
    "df = df.groupby(['patientlastname', 'patientfirstname', 'physicianlastname', 'physicianfirstname'])['times'].sum()\n",
    "df = df.to_frame()\n",
    "df\n"
   ]
  },
  {
   "cell_type": "markdown",
   "metadata": {},
   "source": [
    "## Problem 1. 15 POINTS\n",
    "You should have received an email that contains:\n",
    "    - host\n",
    "    - user\n",
    "    - password\n",
    "    \n",
    "Go ahead and create three environment variables that hold this information. From this point forward, if you need this information, you should refer to the environment variables and NOT the values themselves. You will lose all points, if the values themselves are in the code and submitted to github. You will have effectively disclosed very sensitive data. **NOTE**, there is no code you turn in to get points for this problem. Rather, I will know that you have done this by reviewing the code below."
   ]
  },
  {
   "cell_type": "markdown",
   "metadata": {},
   "source": [
    "## Problem 2. 5 POINTS\n",
    "Create a `sqlalchemy` engine that is connected to our database. **NOTE** use the environment variables set up in problem 1 to do this. There should be NO host, username, or passwords visible if you are using environment variables correctly. You may receive some `ImportError`. You will need to figure out how to resolve these issues."
   ]
  },
  {
   "cell_type": "code",
   "execution_count": 45,
   "metadata": {},
   "outputs": [],
   "source": [
    "import os\n",
    "from sqlalchemy import create_engine\n",
    "engine2 = create_engine(\"postgresql://\"+os.environ.get(\"user\")+\":\"+os.environ.get(\"password\")+\"@\"+os.environ.get(\"host\"))\n"
   ]
  },
  {
   "cell_type": "markdown",
   "metadata": {},
   "source": [
    "## Problem 3. 20 POINTS\n",
    "Using the engine created in Problem 2. Use sqlalchemy to help you create a hand drawn ER diagram. Please find a way to get you hand-drawn ER diagram into this repository. HINT, if you take a picture with your phone, you can use that image (which is just a file) to put into this directory."
   ]
  },
  {
   "cell_type": "code",
   "execution_count": 46,
   "metadata": {},
   "outputs": [],
   "source": [
    "from sqlalchemy import MetaData\n",
    "from sqlalchemy_schemadisplay import create_schema_graph\n",
    "\n",
    "m = MetaData(engine2)\n",
    "graph = create_schema_graph(metadata=m,font=20*20,\n",
    "                 show_datatypes=False,\n",
    "                 show_indexes=False,\n",
    "                 rankdir='LR',\n",
    "                 concentrate=False)\n",
    "graph.write_pdf('graph.pdf')"
   ]
  },
  {
   "cell_type": "code",
   "execution_count": null,
   "metadata": {},
   "outputs": [],
   "source": []
  }
 ],
 "metadata": {
  "kernelspec": {
   "display_name": "Python 3",
   "language": "python",
   "name": "python3"
  },
  "language_info": {
   "codemirror_mode": {
    "name": "ipython",
    "version": 3
   },
   "file_extension": ".py",
   "mimetype": "text/x-python",
   "name": "python",
   "nbconvert_exporter": "python",
   "pygments_lexer": "ipython3",
   "version": "3.6.5"
  }
 },
 "nbformat": 4,
 "nbformat_minor": 2
}
