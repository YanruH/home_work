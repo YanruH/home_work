{
 "cells": [
  {
   "cell_type": "markdown",
   "metadata": {},
   "source": [
    "# Homework 10"
   ]
  },
  {
   "cell_type": "markdown",
   "metadata": {},
   "source": [
    "## Problem 1. 30 POINTS\n",
    "Create a bash shell script that will create a sqlite database of the 4 csv files in this directory. Make sure that you assing meaningful data types and constraints to your database."
   ]
  },
  {
   "cell_type": "markdown",
   "metadata": {},
   "source": [
    "## Problem 2. 30 POINTS.\n",
    "Using python, answer the following questions:\n",
    "    1. Provide code that creates a pandas dataframe that contains a patient-level dataset with:\n",
    "        - LastName\n",
    "        - FirstName\n",
    "        - Total Billing Amount\n",
    "    2. The billing department needs to modify each billing statment so that we take the total billing amount for each person, multiply it by 4.2 and subtract 10. Create a new column on your pandas dataframe that applies this correction and name this variable `correction`.\n",
    "    3. For all patients less than 40 years old, create a pandas data frame that contains:\n",
    "        - LastName\n",
    "        - FirstName\n",
    "        - physician last name\n",
    "        - physician first name\n",
    "        - total times seen that physician\n",
    "    "
   ]
  },
  {
   "cell_type": "code",
   "execution_count": 5,
   "metadata": {},
   "outputs": [
    {
     "data": {
      "text/html": [
       "<div>\n",
       "<style scoped>\n",
       "    .dataframe tbody tr th:only-of-type {\n",
       "        vertical-align: middle;\n",
       "    }\n",
       "\n",
       "    .dataframe tbody tr th {\n",
       "        vertical-align: top;\n",
       "    }\n",
       "\n",
       "    .dataframe thead th {\n",
       "        text-align: right;\n",
       "    }\n",
       "</style>\n",
       "<table border=\"1\" class=\"dataframe\">\n",
       "  <thead>\n",
       "    <tr style=\"text-align: right;\">\n",
       "      <th></th>\n",
       "      <th>lastname</th>\n",
       "      <th>firstname</th>\n",
       "      <th>totalbill</th>\n",
       "    </tr>\n",
       "  </thead>\n",
       "  <tbody>\n",
       "    <tr>\n",
       "      <th>0</th>\n",
       "      <td>doe</td>\n",
       "      <td>john</td>\n",
       "      <td>186.97</td>\n",
       "    </tr>\n",
       "    <tr>\n",
       "      <th>1</th>\n",
       "      <td>sickly</td>\n",
       "      <td>joseph</td>\n",
       "      <td>888.10</td>\n",
       "    </tr>\n",
       "    <tr>\n",
       "      <th>2</th>\n",
       "      <td>daily</td>\n",
       "      <td>bob</td>\n",
       "      <td>375.69</td>\n",
       "    </tr>\n",
       "  </tbody>\n",
       "</table>\n",
       "</div>"
      ],
      "text/plain": [
       "  lastname firstname  totalbill\n",
       "0      doe      john     186.97\n",
       "1   sickly    joseph     888.10\n",
       "2    daily       bob     375.69"
      ]
     },
     "execution_count": 5,
     "metadata": {},
     "output_type": "execute_result"
    }
   ],
   "source": [
    "#Question 1\n",
    "from sqlalchemy import create_engine\n",
    "import pandas as pd\n",
    "\n",
    "engine=create_engine('sqlite:///mydatabase.sqlite')\n",
    "\n",
    "\n",
    "df=pd.read_sql('''select p.lastname,p.firstname,sum(e.billamount) as totalbill\n",
    "from encounter e left join patient p on e.patientid==p.patientid\n",
    "group by e.patientid;\n",
    "''',engine)\n",
    "df"
   ]
  },
  {
   "cell_type": "code",
   "execution_count": 6,
   "metadata": {},
   "outputs": [
    {
     "data": {
      "text/html": [
       "<div>\n",
       "<style scoped>\n",
       "    .dataframe tbody tr th:only-of-type {\n",
       "        vertical-align: middle;\n",
       "    }\n",
       "\n",
       "    .dataframe tbody tr th {\n",
       "        vertical-align: top;\n",
       "    }\n",
       "\n",
       "    .dataframe thead th {\n",
       "        text-align: right;\n",
       "    }\n",
       "</style>\n",
       "<table border=\"1\" class=\"dataframe\">\n",
       "  <thead>\n",
       "    <tr style=\"text-align: right;\">\n",
       "      <th></th>\n",
       "      <th>lastname</th>\n",
       "      <th>firstname</th>\n",
       "      <th>totalbill</th>\n",
       "      <th>correction</th>\n",
       "    </tr>\n",
       "  </thead>\n",
       "  <tbody>\n",
       "    <tr>\n",
       "      <th>0</th>\n",
       "      <td>doe</td>\n",
       "      <td>john</td>\n",
       "      <td>186.97</td>\n",
       "      <td>775.274</td>\n",
       "    </tr>\n",
       "    <tr>\n",
       "      <th>1</th>\n",
       "      <td>sickly</td>\n",
       "      <td>joseph</td>\n",
       "      <td>888.10</td>\n",
       "      <td>3720.020</td>\n",
       "    </tr>\n",
       "    <tr>\n",
       "      <th>2</th>\n",
       "      <td>daily</td>\n",
       "      <td>bob</td>\n",
       "      <td>375.69</td>\n",
       "      <td>1567.898</td>\n",
       "    </tr>\n",
       "  </tbody>\n",
       "</table>\n",
       "</div>"
      ],
      "text/plain": [
       "  lastname firstname  totalbill  correction\n",
       "0      doe      john     186.97     775.274\n",
       "1   sickly    joseph     888.10    3720.020\n",
       "2    daily       bob     375.69    1567.898"
      ]
     },
     "execution_count": 6,
     "metadata": {},
     "output_type": "execute_result"
    }
   ],
   "source": [
    "#Question 2\n",
    "df['correction']=df['totalbill']*4.2-10\n",
    "df"
   ]
  },
  {
   "cell_type": "code",
   "execution_count": 7,
   "metadata": {},
   "outputs": [
    {
     "data": {
      "text/html": [
       "<div>\n",
       "<style scoped>\n",
       "    .dataframe tbody tr th:only-of-type {\n",
       "        vertical-align: middle;\n",
       "    }\n",
       "\n",
       "    .dataframe tbody tr th {\n",
       "        vertical-align: top;\n",
       "    }\n",
       "\n",
       "    .dataframe thead th {\n",
       "        text-align: right;\n",
       "    }\n",
       "</style>\n",
       "<table border=\"1\" class=\"dataframe\">\n",
       "  <thead>\n",
       "    <tr style=\"text-align: right;\">\n",
       "      <th></th>\n",
       "      <th>patientlastname</th>\n",
       "      <th>patientfirstname</th>\n",
       "      <th>physicianlastname</th>\n",
       "      <th>physicianfirstname</th>\n",
       "      <th>birthday</th>\n",
       "    </tr>\n",
       "  </thead>\n",
       "  <tbody>\n",
       "    <tr>\n",
       "      <th>0</th>\n",
       "      <td>doe</td>\n",
       "      <td>john</td>\n",
       "      <td>whitecoat</td>\n",
       "      <td>bill</td>\n",
       "      <td>2/3/63</td>\n",
       "    </tr>\n",
       "    <tr>\n",
       "      <th>1</th>\n",
       "      <td>sickly</td>\n",
       "      <td>joseph</td>\n",
       "      <td>wei</td>\n",
       "      <td>liu</td>\n",
       "      <td>4/2/81</td>\n",
       "    </tr>\n",
       "    <tr>\n",
       "      <th>2</th>\n",
       "      <td>sickly</td>\n",
       "      <td>joseph</td>\n",
       "      <td>wei</td>\n",
       "      <td>liu</td>\n",
       "      <td>4/2/81</td>\n",
       "    </tr>\n",
       "    <tr>\n",
       "      <th>3</th>\n",
       "      <td>sickly</td>\n",
       "      <td>joseph</td>\n",
       "      <td>na</td>\n",
       "      <td>li</td>\n",
       "      <td>4/2/81</td>\n",
       "    </tr>\n",
       "    <tr>\n",
       "      <th>4</th>\n",
       "      <td>sickly</td>\n",
       "      <td>joseph</td>\n",
       "      <td>na</td>\n",
       "      <td>li</td>\n",
       "      <td>4/2/81</td>\n",
       "    </tr>\n",
       "    <tr>\n",
       "      <th>5</th>\n",
       "      <td>daily</td>\n",
       "      <td>bob</td>\n",
       "      <td>na</td>\n",
       "      <td>li</td>\n",
       "      <td>9/2/91</td>\n",
       "    </tr>\n",
       "    <tr>\n",
       "      <th>6</th>\n",
       "      <td>daily</td>\n",
       "      <td>bob</td>\n",
       "      <td>satterwhite</td>\n",
       "      <td>jill</td>\n",
       "      <td>9/2/91</td>\n",
       "    </tr>\n",
       "    <tr>\n",
       "      <th>7</th>\n",
       "      <td>sickly</td>\n",
       "      <td>joseph</td>\n",
       "      <td>na</td>\n",
       "      <td>li</td>\n",
       "      <td>4/2/81</td>\n",
       "    </tr>\n",
       "    <tr>\n",
       "      <th>8</th>\n",
       "      <td>doe</td>\n",
       "      <td>john</td>\n",
       "      <td>satterwhite</td>\n",
       "      <td>jill</td>\n",
       "      <td>2/3/63</td>\n",
       "    </tr>\n",
       "    <tr>\n",
       "      <th>9</th>\n",
       "      <td>sickly</td>\n",
       "      <td>joseph</td>\n",
       "      <td>whitecoat</td>\n",
       "      <td>bill</td>\n",
       "      <td>4/2/81</td>\n",
       "    </tr>\n",
       "  </tbody>\n",
       "</table>\n",
       "</div>"
      ],
      "text/plain": [
       "  patientlastname patientfirstname physicianlastname physicianfirstname  \\\n",
       "0             doe             john         whitecoat               bill   \n",
       "1          sickly           joseph               wei                liu   \n",
       "2          sickly           joseph               wei                liu   \n",
       "3          sickly           joseph                na                 li   \n",
       "4          sickly           joseph                na                 li   \n",
       "5           daily              bob                na                 li   \n",
       "6           daily              bob       satterwhite               jill   \n",
       "7          sickly           joseph                na                 li   \n",
       "8             doe             john       satterwhite               jill   \n",
       "9          sickly           joseph         whitecoat               bill   \n",
       "\n",
       "  birthday  \n",
       "0   2/3/63  \n",
       "1   4/2/81  \n",
       "2   4/2/81  \n",
       "3   4/2/81  \n",
       "4   4/2/81  \n",
       "5   9/2/91  \n",
       "6   9/2/91  \n",
       "7   4/2/81  \n",
       "8   2/3/63  \n",
       "9   4/2/81  "
      ]
     },
     "execution_count": 7,
     "metadata": {},
     "output_type": "execute_result"
    }
   ],
   "source": [
    "#Question 3\n",
    "#extract essential information for processing\n",
    "df3=pd.read_sql('''select p.lastname as patientlastname,\n",
    "p.firstname as patientfirstname,phy.lastname as physicianlastname,\n",
    "phy.firstname as physicianfirstname,\n",
    "p.birthday\n",
    "from encounter e \n",
    "left join patient p on e.patientid==p.patientid\n",
    "left join physician phy on e.physician==phy.physicianid;\n",
    "''',engine)\n",
    "df3\n"
   ]
  },
  {
   "cell_type": "code",
   "execution_count": 8,
   "metadata": {},
   "outputs": [
    {
     "name": "stderr",
     "output_type": "stream",
     "text": [
      "/anaconda3/lib/python3.6/site-packages/ipykernel_launcher.py:3: SettingWithCopyWarning: \n",
      "A value is trying to be set on a copy of a slice from a DataFrame\n",
      "\n",
      "See the caveats in the documentation: http://pandas.pydata.org/pandas-docs/stable/indexing.html#indexing-view-versus-copy\n",
      "  This is separate from the ipykernel package so we can avoid doing imports until\n",
      "/anaconda3/lib/python3.6/site-packages/ipykernel_launcher.py:4: SettingWithCopyWarning: \n",
      "A value is trying to be set on a copy of a slice from a DataFrame\n",
      "\n",
      "See the caveats in the documentation: http://pandas.pydata.org/pandas-docs/stable/indexing.html#indexing-view-versus-copy\n",
      "  after removing the cwd from sys.path.\n"
     ]
    }
   ],
   "source": [
    "#add age column\n",
    "df3.birthday=pd.to_datetime(df3.birthday)\n",
    "df3.birthday[0]=pd.to_datetime(\"1963-02-03\")\n",
    "df3.birthday[8]=pd.to_datetime(\"1963-02-03\")\n",
    "df3['age']=2018-df3.birthday.dt.year\n",
    "\n"
   ]
  },
  {
   "cell_type": "code",
   "execution_count": 9,
   "metadata": {},
   "outputs": [
    {
     "data": {
      "text/html": [
       "<div>\n",
       "<style scoped>\n",
       "    .dataframe tbody tr th:only-of-type {\n",
       "        vertical-align: middle;\n",
       "    }\n",
       "\n",
       "    .dataframe tbody tr th {\n",
       "        vertical-align: top;\n",
       "    }\n",
       "\n",
       "    .dataframe thead th {\n",
       "        text-align: right;\n",
       "    }\n",
       "</style>\n",
       "<table border=\"1\" class=\"dataframe\">\n",
       "  <thead>\n",
       "    <tr style=\"text-align: right;\">\n",
       "      <th></th>\n",
       "      <th></th>\n",
       "      <th></th>\n",
       "      <th></th>\n",
       "      <th>timesseenbyphysician</th>\n",
       "    </tr>\n",
       "    <tr>\n",
       "      <th>patientlastname</th>\n",
       "      <th>patientfirstname</th>\n",
       "      <th>physicianlastname</th>\n",
       "      <th>physicianfirstname</th>\n",
       "      <th></th>\n",
       "    </tr>\n",
       "  </thead>\n",
       "  <tbody>\n",
       "    <tr>\n",
       "      <th rowspan=\"2\" valign=\"top\">daily</th>\n",
       "      <th rowspan=\"2\" valign=\"top\">bob</th>\n",
       "      <th>na</th>\n",
       "      <th>li</th>\n",
       "      <td>1</td>\n",
       "    </tr>\n",
       "    <tr>\n",
       "      <th>satterwhite</th>\n",
       "      <th>jill</th>\n",
       "      <td>1</td>\n",
       "    </tr>\n",
       "    <tr>\n",
       "      <th rowspan=\"2\" valign=\"top\">doe</th>\n",
       "      <th rowspan=\"2\" valign=\"top\">john</th>\n",
       "      <th>satterwhite</th>\n",
       "      <th>jill</th>\n",
       "      <td>1</td>\n",
       "    </tr>\n",
       "    <tr>\n",
       "      <th>whitecoat</th>\n",
       "      <th>bill</th>\n",
       "      <td>1</td>\n",
       "    </tr>\n",
       "    <tr>\n",
       "      <th rowspan=\"3\" valign=\"top\">sickly</th>\n",
       "      <th rowspan=\"3\" valign=\"top\">joseph</th>\n",
       "      <th>na</th>\n",
       "      <th>li</th>\n",
       "      <td>3</td>\n",
       "    </tr>\n",
       "    <tr>\n",
       "      <th>wei</th>\n",
       "      <th>liu</th>\n",
       "      <td>2</td>\n",
       "    </tr>\n",
       "    <tr>\n",
       "      <th>whitecoat</th>\n",
       "      <th>bill</th>\n",
       "      <td>1</td>\n",
       "    </tr>\n",
       "  </tbody>\n",
       "</table>\n",
       "</div>"
      ],
      "text/plain": [
       "                                                                       timesseenbyphysician\n",
       "patientlastname patientfirstname physicianlastname physicianfirstname                      \n",
       "daily           bob              na                li                                     1\n",
       "                                 satterwhite       jill                                   1\n",
       "doe             john             satterwhite       jill                                   1\n",
       "                                 whitecoat         bill                                   1\n",
       "sickly          joseph           na                li                                     3\n",
       "                                 wei               liu                                    2\n",
       "                                 whitecoat         bill                                   1"
      ]
     },
     "execution_count": 9,
     "metadata": {},
     "output_type": "execute_result"
    }
   ],
   "source": [
    "df3[df3.age<40]\n",
    "df3test=df3.groupby(['patientlastname','patientfirstname','physicianlastname','physicianfirstname']).count()\n",
    "df3test=df3test.drop(columns=['age'])\n",
    "df3test=df3test.rename(dict(birthday='timesseenbyphysician'),axis=1)\n",
    "df3test\n"
   ]
  },
  {
   "cell_type": "markdown",
   "metadata": {},
   "source": [
    "## Problem 1. 15 POINTS\n",
    "You should have received an email that contains:\n",
    "    - host\n",
    "    - user\n",
    "    - password\n",
    "    \n",
    "Go ahead and create three environment variables that hold this information. From this point forward, if you need this information, you should refer to the environment variables and NOT the values themselves. You will lose all points, if the values themselves are in the code and submitted to github. You will have effectively disclosed very sensitive data. **NOTE**, there is no code you turn in to get points for this problem. Rather, I will know that you have done this by reviewing the code below."
   ]
  },
  {
   "cell_type": "markdown",
   "metadata": {},
   "source": [
    "## Problem 2. 5 POINTS\n",
    "Create a `sqlalchemy` engine that is connected to our database. **NOTE** use the environment variables set up in problem 1 to do this. There should be NO host, username, or passwords visible if you are using environment variables correctly. You may receive some `ImportError`. You will need to figure out how to resolve these issues."
   ]
  },
  {
   "cell_type": "code",
   "execution_count": 2,
   "metadata": {},
   "outputs": [],
   "source": [
    "from sqlalchemy import create_engine\n",
    "import os\n",
    "\n",
    "string='postgresql://' + os.getenv('user') + ':' + os.getenv('password') + '@' + os.getenv('host')\n",
    "enginefinal=create_engine(string)"
   ]
  },
  {
   "cell_type": "markdown",
   "metadata": {},
   "source": [
    "## Problem 3. 20 POINTS\n",
    "Using the engine created in Problem 2. Use sqlalchemy to help you create a hand drawn ER diagram. Please find a way to get you hand-drawn ER diagram into this repository. HINT, if you take a picture with your phone, you can use that image (which is just a file) to put into this directory."
   ]
  },
  {
   "cell_type": "code",
   "execution_count": 10,
   "metadata": {},
   "outputs": [
    {
     "name": "stdout",
     "output_type": "stream",
     "text": [
      "************\n",
      "TABLE: patient\n",
      "COLUMNS:\n",
      "\tpatientid\n",
      "\tlastname\n",
      "\tfirstname\n",
      "\tgender\n",
      "\tdob\n",
      "************\n",
      "TABLE: physician\n",
      "COLUMNS:\n",
      "\tphysicianid\n",
      "\tlastname\n",
      "\tfirstname\n",
      "\tspecialty\n",
      "************\n",
      "TABLE: encounter\n",
      "COLUMNS:\n",
      "\tencounterid\n",
      "\tpatientid\n",
      "\tencounterdate\n",
      "\tencounterphysician\n",
      "\tencounterreason\n",
      "\tbillingamount\n",
      "************\n",
      "TABLE: billing\n",
      "COLUMNS:\n",
      "\tbillingid\n",
      "\tencounterid\n",
      "\tcode\n"
     ]
    }
   ],
   "source": [
    "from sqlalchemy.schema import MetaData\n",
    "m=MetaData()\n",
    "m.reflect(enginefinal)\n",
    "\n",
    "for table in m.tables.values():\n",
    "    print('************')\n",
    "    print('TABLE: ' + table.name)\n",
    "    print('COLUMNS:')\n",
    "    for column in table.c:\n",
    "        print('\\t'+column.name)"
   ]
  },
  {
   "cell_type": "code",
   "execution_count": 11,
   "metadata": {},
   "outputs": [
    {
     "name": "stdout",
     "output_type": "stream",
     "text": [
      "patientid     int64\n",
      "lastname     object\n",
      "firstname    object\n",
      "gender       object\n",
      "dob          object\n",
      "dtype: object\n",
      "physicianid     int64\n",
      "lastname       object\n",
      "firstname      object\n",
      "specialty      object\n",
      "dtype: object\n",
      "encounterid             int64\n",
      "patientid               int64\n",
      "encounterdate          object\n",
      "encounterphysician      int64\n",
      "encounterreason        object\n",
      "billingamount         float64\n",
      "dtype: object\n",
      "billingid       int64\n",
      "encounterid     int64\n",
      "code           object\n",
      "dtype: object\n"
     ]
    }
   ],
   "source": [
    "tablepatient=pd.read_sql('select * from patient;',enginefinal)\n",
    "print(tablepatient.dtypes)\n",
    "tablephysician=pd.read_sql('select * from physician;',enginefinal)\n",
    "print(tablephysician.dtypes)\n",
    "tableencounter=pd.read_sql('select * from encounter;',enginefinal)\n",
    "print(tableencounter.dtypes)\n",
    "tablebilling=pd.read_sql('select * from billing;',enginefinal)\n",
    "print(tablebilling.dtypes)"
   ]
  },
  {
   "cell_type": "code",
   "execution_count": 14,
   "metadata": {},
   "outputs": [
    {
     "name": "stdout",
     "output_type": "stream",
     "text": [
      "immutabledict({'patient': Table('patient', MetaData(bind=None), Column('patientid', INTEGER(), table=<patient>, primary_key=True, nullable=False, server_default=DefaultClause(<sqlalchemy.sql.elements.TextClause object at 0x114290cc0>, for_update=False)), Column('lastname', VARCHAR(length=50), table=<patient>), Column('firstname', VARCHAR(length=50), table=<patient>), Column('gender', VARCHAR(length=1), table=<patient>), Column('dob', DATE(), table=<patient>), schema=None), 'physician': Table('physician', MetaData(bind=None), Column('physicianid', INTEGER(), table=<physician>, primary_key=True, nullable=False, server_default=DefaultClause(<sqlalchemy.sql.elements.TextClause object at 0x1142a5fd0>, for_update=False)), Column('lastname', VARCHAR(length=50), table=<physician>), Column('firstname', VARCHAR(length=50), table=<physician>), Column('specialty', VARCHAR(length=50), table=<physician>), schema=None), 'encounter': Table('encounter', MetaData(bind=None), Column('encounterid', INTEGER(), table=<encounter>, primary_key=True, nullable=False, server_default=DefaultClause(<sqlalchemy.sql.elements.TextClause object at 0x1154bf940>, for_update=False)), Column('patientid', INTEGER(), ForeignKey('patient.patientid'), table=<encounter>), Column('encounterdate', DATE(), table=<encounter>), Column('encounterphysician', INTEGER(), ForeignKey('physician.physicianid'), table=<encounter>), Column('encounterreason', VARCHAR(length=50), table=<encounter>), Column('billingamount', DOUBLE_PRECISION(precision=53), table=<encounter>), schema=None), 'billing': Table('billing', MetaData(bind=None), Column('billingid', INTEGER(), table=<billing>, primary_key=True, nullable=False, server_default=DefaultClause(<sqlalchemy.sql.elements.TextClause object at 0x1154bf6a0>, for_update=False)), Column('encounterid', INTEGER(), ForeignKey('encounter.encounterid'), table=<billing>), Column('code', VARCHAR(length=50), table=<billing>), schema=None)})\n"
     ]
    }
   ],
   "source": [
    "m.reflect(bind=engine)\n",
    "print(m.tables)"
   ]
  },
  {
   "cell_type": "code",
   "execution_count": 12,
   "metadata": {},
   "outputs": [],
   "source": [
    "from sqlalchemy import inspect\n",
    "insp = inspect(engine)\n"
   ]
  },
  {
   "cell_type": "code",
   "execution_count": 37,
   "metadata": {},
   "outputs": [
    {
     "name": "stdout",
     "output_type": "stream",
     "text": [
      "['patientid']\n",
      "[]\n",
      "['physicianid']\n",
      "[]\n",
      "['encounterid']\n",
      "[{'name': None, 'constrained_columns': ['patientid'], 'referred_schema': None, 'referred_table': 'patient', 'referred_columns': ['patientid'], 'options': {}}]\n",
      "['billingid']\n",
      "[{'name': None, 'constrained_columns': ['encounterid'], 'referred_schema': None, 'referred_table': 'encounter', 'referred_columns': ['encounterid'], 'options': {}}]\n"
     ]
    },
    {
     "name": "stderr",
     "output_type": "stream",
     "text": [
      "/anaconda3/lib/python3.6/site-packages/ipykernel_launcher.py:1: SADeprecationWarning: Call to deprecated method get_primary_keys.  Use get_pk_constraint instead.\n",
      "  \"\"\"Entry point for launching an IPython kernel.\n",
      "/anaconda3/lib/python3.6/site-packages/ipykernel_launcher.py:3: SADeprecationWarning: Call to deprecated method get_primary_keys.  Use get_pk_constraint instead.\n",
      "  This is separate from the ipykernel package so we can avoid doing imports until\n",
      "/anaconda3/lib/python3.6/site-packages/ipykernel_launcher.py:5: SADeprecationWarning: Call to deprecated method get_primary_keys.  Use get_pk_constraint instead.\n",
      "  \"\"\"\n",
      "/anaconda3/lib/python3.6/site-packages/ipykernel_launcher.py:7: SADeprecationWarning: Call to deprecated method get_primary_keys.  Use get_pk_constraint instead.\n",
      "  import sys\n"
     ]
    }
   ],
   "source": [
    "print(insp.get_primary_keys('patient'))\n",
    "print(insp.get_foreign_keys('patient'))\n",
    "print(insp.get_primary_keys('physician'))\n",
    "print(insp.get_foreign_keys('physician'))\n",
    "print(insp.get_primary_keys('encounter'))\n",
    "print(insp.get_foreign_keys('encounter'))\n",
    "print(insp.get_primary_keys('billing'))\n",
    "print(insp.get_foreign_keys('billing'))"
   ]
  },
  {
   "cell_type": "markdown",
   "metadata": {},
   "source": [
    "![title](./IMG_3005.jpg)"
   ]
  },
  {
   "cell_type": "code",
   "execution_count": null,
   "metadata": {},
   "outputs": [],
   "source": []
  }
 ],
 "metadata": {
  "kernelspec": {
   "display_name": "Python 3",
   "language": "python",
   "name": "python3"
  },
  "language_info": {
   "codemirror_mode": {
    "name": "ipython",
    "version": 3
   },
   "file_extension": ".py",
   "mimetype": "text/x-python",
   "name": "python",
   "nbconvert_exporter": "python",
   "pygments_lexer": "ipython3",
   "version": "3.6.5"
  }
 },
 "nbformat": 4,
 "nbformat_minor": 2
}
