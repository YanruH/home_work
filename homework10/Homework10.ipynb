{
 "cells": [
  {
   "cell_type": "markdown",
   "metadata": {},
   "source": [
    "# Homework 10"
   ]
  },
  {
   "cell_type": "markdown",
   "metadata": {},
   "source": [
    "## Problem 1. 30 POINTS\n",
    "Create a bash shell script that will create a sqlite database of the 4 csv files in this directory. Make sure that you assing meaningful data types and constraints to your database."
   ]
  },
  {
   "cell_type": "code",
   "execution_count": 65,
   "metadata": {
    "collapsed": true
   },
   "outputs": [],
   "source": [
    "%%bash\n",
    "cat > createsql.sh<<EOF\n",
    "#!/bin/bash\n",
    "\n",
    "sqlite3 mydata.db <<EOF\n",
    "\n",
    "CREATE TABLE billing (\n",
    "billingid INT NOT NULL PRIMARY KEY,\n",
    "encounterid INT NOT NULL,\n",
    "code CHAR(5) NOT NULL);\n",
    "\n",
    "CREATE TABLE encounter (\n",
    "encounterid INT NOT NULL PRIMARY KEY,\n",
    "patientid INT NOT NULL,\n",
    "encounterdate DATE NOT NULL,\n",
    "encounterphysician INT NOT NULL,\n",
    "encounterreason CHAR(12) NOT NULL,\n",
    "billingamount REAL NOT NULL);\n",
    "\n",
    "CREATE TABLE patient (\n",
    "patientid INT NOT NULL PRIMARY KEY,\n",
    "lastname CHAR(8) NOT NULL,\n",
    "firstname CHAR(8) NOT NULL,\n",
    "gender CHAR(3) NOT NULL,\n",
    "DOB DATE NOT NULL);\n",
    "\n",
    "CREATE TABLE physician (\n",
    "physicianid INT NOT NULL PRIMARY KEY,\n",
    "lastname CHAR(12) NOT NULL,\n",
    "firstname CHAR(6) NOT NULL,\n",
    "specialty CHAR(12) NOT NULL);\n",
    "\n",
    ".mode csv\n",
    "\n",
    ".import billing.csv billing\n",
    ".import encounter.csv encounter\n",
    ".import patient.csv patient\n",
    ".import physician.csv physician\n",
    "\n",
    "EOF\n",
    "chmod 777 createsql.sh"
   ]
  },
  {
   "cell_type": "code",
   "execution_count": 66,
   "metadata": {
    "collapsed": true
   },
   "outputs": [],
   "source": [
    "%%bash\n",
    "./createsql.sh"
   ]
  },
  {
   "cell_type": "code",
   "execution_count": 74,
   "metadata": {},
   "outputs": [
    {
     "name": "stdout",
     "output_type": "stream",
     "text": [
      "total 208\n",
      "drwxr-xr-x  10 zhoukaile  staff    340 Nov 26 16:27 .\n",
      "drwxr-xr-x  13 zhoukaile  staff    442 Nov 23 17:13 ..\n",
      "drwxr-xr-x   3 zhoukaile  staff    102 Nov 23 17:33 .ipynb_checkpoints\n",
      "-rw-r--r--   1 zhoukaile  staff  46843 Nov 26 16:27 Homework10.ipynb\n",
      "-rw-r--r--@  1 zhoukaile  staff    241 Nov 23 17:13 billing.csv\n",
      "-rwxrwxrwx   1 zhoukaile  staff    805 Nov 24 15:54 createsql.sh\n",
      "-rw-r--r--@  1 zhoukaile  staff    368 Nov 23 17:13 encounter.csv\n",
      "-rw-r--r--   1 zhoukaile  staff  36864 Nov 24 15:54 mydata.db\n",
      "-rw-r--r--@  1 zhoukaile  staff    152 Nov 23 17:13 patient.csv\n",
      "-rw-r--r--@  1 zhoukaile  staff    141 Nov 23 17:13 physician.csv\n",
      "billing    encounter  patient    physician\n",
      "﻿patientid|lastname|firstname|gender|dob\n",
      "1|doe|john|m|2/3/63\n",
      "2|doe|jane|f|7/23/71\n",
      "3|sickly|joseph|m|4/2/81\n",
      "4|well|sally|f|8/17/87\n",
      "5|daily|bob|m|9/2/91\n",
      "﻿billingid|encounterid|code\n",
      "1|1|54321\n",
      "2|1|54322\n",
      "3|2|78634\n",
      "4|3|23847\n",
      "5|4|78645\n",
      "6|5|22211\n",
      "7|5|30000\n",
      "8|5|46352\n",
      "9|5|45221\n",
      "10|6|10001\n",
      "11|7|42222\n",
      "12|8|75533\n",
      "13|8|23463\n",
      "14|9|78654\n",
      "15|9|30002\n",
      "16|9|48373\n",
      "17|9|25474\n",
      "18|9|99987\n",
      "19|9|47232\n",
      "20|10|E8763\n"
     ]
    }
   ],
   "source": [
    "%%bash\n",
    "ls -al\n",
    "sqlite3 mydata.db\n",
    ".table\n",
    "select * from patient;\n",
    "select * from billing;"
   ]
  },
  {
   "cell_type": "markdown",
   "metadata": {},
   "source": [
    "## Problem 2. 30 POINTS.\n",
    "Using python, answer the following questions:\n",
    "    1. Provide code that creates a pandas dataframe that contains a patient-level dataset with:\n",
    "        - LastName\n",
    "        - FirstName\n",
    "        - Total Billing Amount\n",
    "    2. The billing department needs to modify each billing statment so that we take the total billing amount for each person, multiply it by 4.2 and subtract 10. Create a new column on your pandas dataframe that applies this correction and name this variable `correction`.\n",
    "    3. For all patients less than 40 years old, create a pandas data frame that contains:\n",
    "        - LastName\n",
    "        - FirstName\n",
    "        - physician last name\n",
    "        - physician first name\n",
    "        - total times seen that physician\n",
    "    "
   ]
  },
  {
   "cell_type": "code",
   "execution_count": 1,
   "metadata": {
    "collapsed": true
   },
   "outputs": [],
   "source": [
    "# 1. create a pandas dataframe \n",
    "from sqlalchemy import create_engine\n",
    "import pandas as pd\n",
    "engine = create_engine('sqlite:///mydata.db')\n",
    "patient = pd.read_sql(\"select patientid, lastname, firstname from patient;\", engine)\n",
    "billing = pd.read_sql(\"select patientid, billingamount from encounter;\", engine)\n",
    "df = pd.merge(patient, billing, on=\"patientid\").drop(\"patientid\", axis=1)"
   ]
  },
  {
   "cell_type": "code",
   "execution_count": 85,
   "metadata": {},
   "outputs": [
    {
     "data": {
      "text/html": [
       "<div>\n",
       "<style>\n",
       "    .dataframe thead tr:only-child th {\n",
       "        text-align: right;\n",
       "    }\n",
       "\n",
       "    .dataframe thead th {\n",
       "        text-align: left;\n",
       "    }\n",
       "\n",
       "    .dataframe tbody tr th {\n",
       "        vertical-align: top;\n",
       "    }\n",
       "</style>\n",
       "<table border=\"1\" class=\"dataframe\">\n",
       "  <thead>\n",
       "    <tr style=\"text-align: right;\">\n",
       "      <th></th>\n",
       "      <th>lastname</th>\n",
       "      <th>firstname</th>\n",
       "      <th>billingamount</th>\n",
       "    </tr>\n",
       "  </thead>\n",
       "  <tbody>\n",
       "    <tr>\n",
       "      <th>0</th>\n",
       "      <td>doe</td>\n",
       "      <td>john</td>\n",
       "      <td>99.32</td>\n",
       "    </tr>\n",
       "    <tr>\n",
       "      <th>1</th>\n",
       "      <td>doe</td>\n",
       "      <td>john</td>\n",
       "      <td>87.65</td>\n",
       "    </tr>\n",
       "    <tr>\n",
       "      <th>2</th>\n",
       "      <td>sickly</td>\n",
       "      <td>joseph</td>\n",
       "      <td>100.01</td>\n",
       "    </tr>\n",
       "    <tr>\n",
       "      <th>3</th>\n",
       "      <td>sickly</td>\n",
       "      <td>joseph</td>\n",
       "      <td>43.76</td>\n",
       "    </tr>\n",
       "    <tr>\n",
       "      <th>4</th>\n",
       "      <td>sickly</td>\n",
       "      <td>joseph</td>\n",
       "      <td>553.23</td>\n",
       "    </tr>\n",
       "  </tbody>\n",
       "</table>\n",
       "</div>"
      ],
      "text/plain": [
       "  lastname firstname billingamount\n",
       "0      doe      john         99.32\n",
       "1      doe      john         87.65\n",
       "2   sickly    joseph        100.01\n",
       "3   sickly    joseph         43.76\n",
       "4   sickly    joseph        553.23"
      ]
     },
     "execution_count": 85,
     "metadata": {},
     "output_type": "execute_result"
    }
   ],
   "source": [
    "df.head()"
   ]
  },
  {
   "cell_type": "code",
   "execution_count": 86,
   "metadata": {
    "collapsed": true
   },
   "outputs": [],
   "source": [
    "# 2. add new column\n",
    "df[\"correction\"] = 4.2*df.groupby(['lastname','firstname'])[\"billingamount\"].transform('sum')- 10\n"
   ]
  },
  {
   "cell_type": "code",
   "execution_count": 87,
   "metadata": {},
   "outputs": [
    {
     "data": {
      "text/html": [
       "<div>\n",
       "<style>\n",
       "    .dataframe thead tr:only-child th {\n",
       "        text-align: right;\n",
       "    }\n",
       "\n",
       "    .dataframe thead th {\n",
       "        text-align: left;\n",
       "    }\n",
       "\n",
       "    .dataframe tbody tr th {\n",
       "        vertical-align: top;\n",
       "    }\n",
       "</style>\n",
       "<table border=\"1\" class=\"dataframe\">\n",
       "  <thead>\n",
       "    <tr style=\"text-align: right;\">\n",
       "      <th></th>\n",
       "      <th>lastname</th>\n",
       "      <th>firstname</th>\n",
       "      <th>billingamount</th>\n",
       "      <th>correction</th>\n",
       "    </tr>\n",
       "  </thead>\n",
       "  <tbody>\n",
       "    <tr>\n",
       "      <th>0</th>\n",
       "      <td>doe</td>\n",
       "      <td>john</td>\n",
       "      <td>99.32</td>\n",
       "      <td>775.274</td>\n",
       "    </tr>\n",
       "    <tr>\n",
       "      <th>1</th>\n",
       "      <td>doe</td>\n",
       "      <td>john</td>\n",
       "      <td>87.65</td>\n",
       "      <td>775.274</td>\n",
       "    </tr>\n",
       "    <tr>\n",
       "      <th>2</th>\n",
       "      <td>sickly</td>\n",
       "      <td>joseph</td>\n",
       "      <td>100.01</td>\n",
       "      <td>3720.020</td>\n",
       "    </tr>\n",
       "    <tr>\n",
       "      <th>3</th>\n",
       "      <td>sickly</td>\n",
       "      <td>joseph</td>\n",
       "      <td>43.76</td>\n",
       "      <td>3720.020</td>\n",
       "    </tr>\n",
       "    <tr>\n",
       "      <th>4</th>\n",
       "      <td>sickly</td>\n",
       "      <td>joseph</td>\n",
       "      <td>553.23</td>\n",
       "      <td>3720.020</td>\n",
       "    </tr>\n",
       "  </tbody>\n",
       "</table>\n",
       "</div>"
      ],
      "text/plain": [
       "  lastname firstname billingamount  correction\n",
       "0      doe      john         99.32     775.274\n",
       "1      doe      john         87.65     775.274\n",
       "2   sickly    joseph        100.01    3720.020\n",
       "3   sickly    joseph         43.76    3720.020\n",
       "4   sickly    joseph        553.23    3720.020"
      ]
     },
     "execution_count": 87,
     "metadata": {},
     "output_type": "execute_result"
    }
   ],
   "source": [
    "df.head()"
   ]
  },
  {
   "cell_type": "code",
   "execution_count": 88,
   "metadata": {
    "collapsed": true
   },
   "outputs": [],
   "source": [
    "# 3. less than 40 years\n",
    "encounter = pd.read_sql(\"select encounterid, patientid, encounterphysician from encounter;\", engine).drop(0)\n",
    "patient = pd.read_sql(\"select patientid, lastname, firstname, DOB from patient;\", engine).drop(0)\n",
    "physician = pd.read_sql(\"select physicianid, lastname, firstname from physician;\", engine).drop(0)"
   ]
  },
  {
   "cell_type": "code",
   "execution_count": 89,
   "metadata": {},
   "outputs": [
    {
     "data": {
      "text/html": [
       "<div>\n",
       "<style>\n",
       "    .dataframe thead tr:only-child th {\n",
       "        text-align: right;\n",
       "    }\n",
       "\n",
       "    .dataframe thead th {\n",
       "        text-align: left;\n",
       "    }\n",
       "\n",
       "    .dataframe tbody tr th {\n",
       "        vertical-align: top;\n",
       "    }\n",
       "</style>\n",
       "<table border=\"1\" class=\"dataframe\">\n",
       "  <thead>\n",
       "    <tr style=\"text-align: right;\">\n",
       "      <th></th>\n",
       "      <th>physicianid</th>\n",
       "      <th>physician last name</th>\n",
       "      <th>physician first name</th>\n",
       "    </tr>\n",
       "  </thead>\n",
       "  <tbody>\n",
       "    <tr>\n",
       "      <th>1</th>\n",
       "      <td>1</td>\n",
       "      <td>whitecoat</td>\n",
       "      <td>bill</td>\n",
       "    </tr>\n",
       "    <tr>\n",
       "      <th>2</th>\n",
       "      <td>2</td>\n",
       "      <td>satterwhite</td>\n",
       "      <td>jill</td>\n",
       "    </tr>\n",
       "    <tr>\n",
       "      <th>3</th>\n",
       "      <td>3</td>\n",
       "      <td>na</td>\n",
       "      <td>li</td>\n",
       "    </tr>\n",
       "    <tr>\n",
       "      <th>4</th>\n",
       "      <td>4</td>\n",
       "      <td>wei</td>\n",
       "      <td>liu</td>\n",
       "    </tr>\n",
       "  </tbody>\n",
       "</table>\n",
       "</div>"
      ],
      "text/plain": [
       "  physicianid physician last name physician first name\n",
       "1           1           whitecoat                 bill\n",
       "2           2         satterwhite                 jill\n",
       "3           3                  na                   li\n",
       "4           4                 wei                  liu"
      ]
     },
     "execution_count": 89,
     "metadata": {},
     "output_type": "execute_result"
    }
   ],
   "source": [
    "physician.rename(columns={\"lastname\":\"physician last name\", \"firstname\":\"physician first name\"}, inplace=True)\n",
    "physician.head()"
   ]
  },
  {
   "cell_type": "code",
   "execution_count": 90,
   "metadata": {
    "collapsed": true
   },
   "outputs": [],
   "source": [
    "patenc = pd.merge(patient, encounter, on= 'patientid', how='outer')"
   ]
  },
  {
   "cell_type": "code",
   "execution_count": 91,
   "metadata": {
    "collapsed": true
   },
   "outputs": [],
   "source": [
    "patencphy = pd.merge(patenc, physician, left_on='encounterphysician', right_on='physicianid', how='outer')"
   ]
  },
  {
   "cell_type": "code",
   "execution_count": 92,
   "metadata": {},
   "outputs": [
    {
     "data": {
      "text/html": [
       "<div>\n",
       "<style>\n",
       "    .dataframe thead tr:only-child th {\n",
       "        text-align: right;\n",
       "    }\n",
       "\n",
       "    .dataframe thead th {\n",
       "        text-align: left;\n",
       "    }\n",
       "\n",
       "    .dataframe tbody tr th {\n",
       "        vertical-align: top;\n",
       "    }\n",
       "</style>\n",
       "<table border=\"1\" class=\"dataframe\">\n",
       "  <thead>\n",
       "    <tr style=\"text-align: right;\">\n",
       "      <th></th>\n",
       "      <th>patientid</th>\n",
       "      <th>lastname</th>\n",
       "      <th>firstname</th>\n",
       "      <th>DOB</th>\n",
       "      <th>encounterid</th>\n",
       "      <th>encounterphysician</th>\n",
       "      <th>physicianid</th>\n",
       "      <th>physician last name</th>\n",
       "      <th>physician first name</th>\n",
       "    </tr>\n",
       "  </thead>\n",
       "  <tbody>\n",
       "    <tr>\n",
       "      <th>0</th>\n",
       "      <td>1</td>\n",
       "      <td>doe</td>\n",
       "      <td>john</td>\n",
       "      <td>2/3/63</td>\n",
       "      <td>1</td>\n",
       "      <td>1</td>\n",
       "      <td>1</td>\n",
       "      <td>whitecoat</td>\n",
       "      <td>bill</td>\n",
       "    </tr>\n",
       "    <tr>\n",
       "      <th>1</th>\n",
       "      <td>3</td>\n",
       "      <td>sickly</td>\n",
       "      <td>joseph</td>\n",
       "      <td>4/2/81</td>\n",
       "      <td>10</td>\n",
       "      <td>1</td>\n",
       "      <td>1</td>\n",
       "      <td>whitecoat</td>\n",
       "      <td>bill</td>\n",
       "    </tr>\n",
       "    <tr>\n",
       "      <th>2</th>\n",
       "      <td>1</td>\n",
       "      <td>doe</td>\n",
       "      <td>john</td>\n",
       "      <td>2/3/63</td>\n",
       "      <td>9</td>\n",
       "      <td>2</td>\n",
       "      <td>2</td>\n",
       "      <td>satterwhite</td>\n",
       "      <td>jill</td>\n",
       "    </tr>\n",
       "    <tr>\n",
       "      <th>3</th>\n",
       "      <td>5</td>\n",
       "      <td>daily</td>\n",
       "      <td>bob</td>\n",
       "      <td>9/2/91</td>\n",
       "      <td>7</td>\n",
       "      <td>2</td>\n",
       "      <td>2</td>\n",
       "      <td>satterwhite</td>\n",
       "      <td>jill</td>\n",
       "    </tr>\n",
       "    <tr>\n",
       "      <th>4</th>\n",
       "      <td>2</td>\n",
       "      <td>doe</td>\n",
       "      <td>jane</td>\n",
       "      <td>7/23/71</td>\n",
       "      <td>NaN</td>\n",
       "      <td>NaN</td>\n",
       "      <td>NaN</td>\n",
       "      <td>NaN</td>\n",
       "      <td>NaN</td>\n",
       "    </tr>\n",
       "  </tbody>\n",
       "</table>\n",
       "</div>"
      ],
      "text/plain": [
       "  patientid lastname firstname      DOB encounterid encounterphysician  \\\n",
       "0         1      doe      john   2/3/63           1                  1   \n",
       "1         3   sickly    joseph   4/2/81          10                  1   \n",
       "2         1      doe      john   2/3/63           9                  2   \n",
       "3         5    daily       bob   9/2/91           7                  2   \n",
       "4         2      doe      jane  7/23/71         NaN                NaN   \n",
       "\n",
       "  physicianid physician last name physician first name  \n",
       "0           1           whitecoat                 bill  \n",
       "1           1           whitecoat                 bill  \n",
       "2           2         satterwhite                 jill  \n",
       "3           2         satterwhite                 jill  \n",
       "4         NaN                 NaN                  NaN  "
      ]
     },
     "execution_count": 92,
     "metadata": {},
     "output_type": "execute_result"
    }
   ],
   "source": [
    "patencphy.head()"
   ]
  },
  {
   "cell_type": "code",
   "execution_count": 93,
   "metadata": {},
   "outputs": [
    {
     "data": {
      "text/html": [
       "<div>\n",
       "<style>\n",
       "    .dataframe thead tr:only-child th {\n",
       "        text-align: right;\n",
       "    }\n",
       "\n",
       "    .dataframe thead th {\n",
       "        text-align: left;\n",
       "    }\n",
       "\n",
       "    .dataframe tbody tr th {\n",
       "        vertical-align: top;\n",
       "    }\n",
       "</style>\n",
       "<table border=\"1\" class=\"dataframe\">\n",
       "  <thead>\n",
       "    <tr style=\"text-align: right;\">\n",
       "      <th></th>\n",
       "      <th>patientid</th>\n",
       "      <th>lastname</th>\n",
       "      <th>firstname</th>\n",
       "      <th>DOB</th>\n",
       "      <th>encounterid</th>\n",
       "      <th>encounterphysician</th>\n",
       "      <th>physicianid</th>\n",
       "      <th>physician last name</th>\n",
       "      <th>physician first name</th>\n",
       "    </tr>\n",
       "  </thead>\n",
       "  <tbody>\n",
       "    <tr>\n",
       "      <th>0</th>\n",
       "      <td>1</td>\n",
       "      <td>doe</td>\n",
       "      <td>john</td>\n",
       "      <td>1963-02-03</td>\n",
       "      <td>1</td>\n",
       "      <td>1</td>\n",
       "      <td>1</td>\n",
       "      <td>whitecoat</td>\n",
       "      <td>bill</td>\n",
       "    </tr>\n",
       "    <tr>\n",
       "      <th>1</th>\n",
       "      <td>3</td>\n",
       "      <td>sickly</td>\n",
       "      <td>joseph</td>\n",
       "      <td>1981-04-02</td>\n",
       "      <td>10</td>\n",
       "      <td>1</td>\n",
       "      <td>1</td>\n",
       "      <td>whitecoat</td>\n",
       "      <td>bill</td>\n",
       "    </tr>\n",
       "    <tr>\n",
       "      <th>2</th>\n",
       "      <td>1</td>\n",
       "      <td>doe</td>\n",
       "      <td>john</td>\n",
       "      <td>1963-02-03</td>\n",
       "      <td>9</td>\n",
       "      <td>2</td>\n",
       "      <td>2</td>\n",
       "      <td>satterwhite</td>\n",
       "      <td>jill</td>\n",
       "    </tr>\n",
       "    <tr>\n",
       "      <th>3</th>\n",
       "      <td>5</td>\n",
       "      <td>daily</td>\n",
       "      <td>bob</td>\n",
       "      <td>1991-09-02</td>\n",
       "      <td>7</td>\n",
       "      <td>2</td>\n",
       "      <td>2</td>\n",
       "      <td>satterwhite</td>\n",
       "      <td>jill</td>\n",
       "    </tr>\n",
       "    <tr>\n",
       "      <th>4</th>\n",
       "      <td>2</td>\n",
       "      <td>doe</td>\n",
       "      <td>jane</td>\n",
       "      <td>1971-07-23</td>\n",
       "      <td>NaN</td>\n",
       "      <td>NaN</td>\n",
       "      <td>NaN</td>\n",
       "      <td>NaN</td>\n",
       "      <td>NaN</td>\n",
       "    </tr>\n",
       "  </tbody>\n",
       "</table>\n",
       "</div>"
      ],
      "text/plain": [
       "  patientid lastname firstname        DOB encounterid encounterphysician  \\\n",
       "0         1      doe      john 1963-02-03           1                  1   \n",
       "1         3   sickly    joseph 1981-04-02          10                  1   \n",
       "2         1      doe      john 1963-02-03           9                  2   \n",
       "3         5    daily       bob 1991-09-02           7                  2   \n",
       "4         2      doe      jane 1971-07-23         NaN                NaN   \n",
       "\n",
       "  physicianid physician last name physician first name  \n",
       "0           1           whitecoat                 bill  \n",
       "1           1           whitecoat                 bill  \n",
       "2           2         satterwhite                 jill  \n",
       "3           2         satterwhite                 jill  \n",
       "4         NaN                 NaN                  NaN  "
      ]
     },
     "execution_count": 93,
     "metadata": {},
     "output_type": "execute_result"
    }
   ],
   "source": [
    "## convert date mm/dd/yy to yyyy-mm-dd\n",
    "patencphy.DOB = pd.to_datetime(patencphy.DOB)\n",
    "patencphy.DOB = patencphy['DOB'].mask(patencphy['DOB'].dt.year > 2018, \n",
    "                                         patencphy['DOB'] - pd.offsets.DateOffset(years=100))\n",
    "patencphy.head()"
   ]
  },
  {
   "cell_type": "code",
   "execution_count": 105,
   "metadata": {},
   "outputs": [
    {
     "data": {
      "text/html": [
       "<div>\n",
       "<style>\n",
       "    .dataframe thead tr:only-child th {\n",
       "        text-align: right;\n",
       "    }\n",
       "\n",
       "    .dataframe thead th {\n",
       "        text-align: left;\n",
       "    }\n",
       "\n",
       "    .dataframe tbody tr th {\n",
       "        vertical-align: top;\n",
       "    }\n",
       "</style>\n",
       "<table border=\"1\" class=\"dataframe\">\n",
       "  <thead>\n",
       "    <tr style=\"text-align: right;\">\n",
       "      <th></th>\n",
       "      <th>patientid</th>\n",
       "      <th>lastname</th>\n",
       "      <th>firstname</th>\n",
       "      <th>DOB</th>\n",
       "      <th>encounterid</th>\n",
       "      <th>encounterphysician</th>\n",
       "      <th>physicianid</th>\n",
       "      <th>physician last name</th>\n",
       "      <th>physician first name</th>\n",
       "    </tr>\n",
       "  </thead>\n",
       "  <tbody>\n",
       "    <tr>\n",
       "      <th>1</th>\n",
       "      <td>3</td>\n",
       "      <td>sickly</td>\n",
       "      <td>joseph</td>\n",
       "      <td>1981-04-02</td>\n",
       "      <td>10</td>\n",
       "      <td>1</td>\n",
       "      <td>1</td>\n",
       "      <td>whitecoat</td>\n",
       "      <td>bill</td>\n",
       "    </tr>\n",
       "    <tr>\n",
       "      <th>3</th>\n",
       "      <td>5</td>\n",
       "      <td>daily</td>\n",
       "      <td>bob</td>\n",
       "      <td>1991-09-02</td>\n",
       "      <td>7</td>\n",
       "      <td>2</td>\n",
       "      <td>2</td>\n",
       "      <td>satterwhite</td>\n",
       "      <td>jill</td>\n",
       "    </tr>\n",
       "    <tr>\n",
       "      <th>5</th>\n",
       "      <td>4</td>\n",
       "      <td>well</td>\n",
       "      <td>sally</td>\n",
       "      <td>1987-08-17</td>\n",
       "      <td>NaN</td>\n",
       "      <td>NaN</td>\n",
       "      <td>NaN</td>\n",
       "      <td>NaN</td>\n",
       "      <td>NaN</td>\n",
       "    </tr>\n",
       "    <tr>\n",
       "      <th>6</th>\n",
       "      <td>3</td>\n",
       "      <td>sickly</td>\n",
       "      <td>joseph</td>\n",
       "      <td>1981-04-02</td>\n",
       "      <td>2</td>\n",
       "      <td>4</td>\n",
       "      <td>4</td>\n",
       "      <td>wei</td>\n",
       "      <td>liu</td>\n",
       "    </tr>\n",
       "    <tr>\n",
       "      <th>7</th>\n",
       "      <td>3</td>\n",
       "      <td>sickly</td>\n",
       "      <td>joseph</td>\n",
       "      <td>1981-04-02</td>\n",
       "      <td>3</td>\n",
       "      <td>4</td>\n",
       "      <td>4</td>\n",
       "      <td>wei</td>\n",
       "      <td>liu</td>\n",
       "    </tr>\n",
       "  </tbody>\n",
       "</table>\n",
       "</div>"
      ],
      "text/plain": [
       "  patientid lastname firstname        DOB encounterid encounterphysician  \\\n",
       "1         3   sickly    joseph 1981-04-02          10                  1   \n",
       "3         5    daily       bob 1991-09-02           7                  2   \n",
       "5         4     well     sally 1987-08-17         NaN                NaN   \n",
       "6         3   sickly    joseph 1981-04-02           2                  4   \n",
       "7         3   sickly    joseph 1981-04-02           3                  4   \n",
       "\n",
       "  physicianid physician last name physician first name  \n",
       "1           1           whitecoat                 bill  \n",
       "3           2         satterwhite                 jill  \n",
       "5         NaN                 NaN                  NaN  \n",
       "6           4                 wei                  liu  \n",
       "7           4                 wei                  liu  "
      ]
     },
     "execution_count": 105,
     "metadata": {},
     "output_type": "execute_result"
    }
   ],
   "source": [
    "## select age < 40 \n",
    "patencphy = patencphy[patencphy.DOB > pd.to_datetime('11/24/78')]\n",
    "patencphy.head()"
   ]
  },
  {
   "cell_type": "code",
   "execution_count": 113,
   "metadata": {},
   "outputs": [
    {
     "data": {
      "text/html": [
       "<div>\n",
       "<style>\n",
       "    .dataframe thead tr:only-child th {\n",
       "        text-align: right;\n",
       "    }\n",
       "\n",
       "    .dataframe thead th {\n",
       "        text-align: left;\n",
       "    }\n",
       "\n",
       "    .dataframe tbody tr th {\n",
       "        vertical-align: top;\n",
       "    }\n",
       "</style>\n",
       "<table border=\"1\" class=\"dataframe\">\n",
       "  <thead>\n",
       "    <tr style=\"text-align: right;\">\n",
       "      <th></th>\n",
       "      <th>patientid</th>\n",
       "      <th>lastname</th>\n",
       "      <th>firstname</th>\n",
       "      <th>physicianid</th>\n",
       "      <th>physician last name</th>\n",
       "      <th>physician first name</th>\n",
       "    </tr>\n",
       "  </thead>\n",
       "  <tbody>\n",
       "    <tr>\n",
       "      <th>1</th>\n",
       "      <td>3</td>\n",
       "      <td>sickly</td>\n",
       "      <td>joseph</td>\n",
       "      <td>1</td>\n",
       "      <td>whitecoat</td>\n",
       "      <td>bill</td>\n",
       "    </tr>\n",
       "    <tr>\n",
       "      <th>3</th>\n",
       "      <td>5</td>\n",
       "      <td>daily</td>\n",
       "      <td>bob</td>\n",
       "      <td>2</td>\n",
       "      <td>satterwhite</td>\n",
       "      <td>jill</td>\n",
       "    </tr>\n",
       "    <tr>\n",
       "      <th>5</th>\n",
       "      <td>4</td>\n",
       "      <td>well</td>\n",
       "      <td>sally</td>\n",
       "      <td>NaN</td>\n",
       "      <td>NaN</td>\n",
       "      <td>NaN</td>\n",
       "    </tr>\n",
       "    <tr>\n",
       "      <th>6</th>\n",
       "      <td>3</td>\n",
       "      <td>sickly</td>\n",
       "      <td>joseph</td>\n",
       "      <td>4</td>\n",
       "      <td>wei</td>\n",
       "      <td>liu</td>\n",
       "    </tr>\n",
       "    <tr>\n",
       "      <th>7</th>\n",
       "      <td>3</td>\n",
       "      <td>sickly</td>\n",
       "      <td>joseph</td>\n",
       "      <td>4</td>\n",
       "      <td>wei</td>\n",
       "      <td>liu</td>\n",
       "    </tr>\n",
       "    <tr>\n",
       "      <th>8</th>\n",
       "      <td>3</td>\n",
       "      <td>sickly</td>\n",
       "      <td>joseph</td>\n",
       "      <td>3</td>\n",
       "      <td>na</td>\n",
       "      <td>li</td>\n",
       "    </tr>\n",
       "    <tr>\n",
       "      <th>9</th>\n",
       "      <td>3</td>\n",
       "      <td>sickly</td>\n",
       "      <td>joseph</td>\n",
       "      <td>3</td>\n",
       "      <td>na</td>\n",
       "      <td>li</td>\n",
       "    </tr>\n",
       "    <tr>\n",
       "      <th>10</th>\n",
       "      <td>3</td>\n",
       "      <td>sickly</td>\n",
       "      <td>joseph</td>\n",
       "      <td>3</td>\n",
       "      <td>na</td>\n",
       "      <td>li</td>\n",
       "    </tr>\n",
       "    <tr>\n",
       "      <th>11</th>\n",
       "      <td>5</td>\n",
       "      <td>daily</td>\n",
       "      <td>bob</td>\n",
       "      <td>3</td>\n",
       "      <td>na</td>\n",
       "      <td>li</td>\n",
       "    </tr>\n",
       "  </tbody>\n",
       "</table>\n",
       "</div>"
      ],
      "text/plain": [
       "   patientid lastname firstname physicianid physician last name  \\\n",
       "1          3   sickly    joseph           1           whitecoat   \n",
       "3          5    daily       bob           2         satterwhite   \n",
       "5          4     well     sally         NaN                 NaN   \n",
       "6          3   sickly    joseph           4                 wei   \n",
       "7          3   sickly    joseph           4                 wei   \n",
       "8          3   sickly    joseph           3                  na   \n",
       "9          3   sickly    joseph           3                  na   \n",
       "10         3   sickly    joseph           3                  na   \n",
       "11         5    daily       bob           3                  na   \n",
       "\n",
       "   physician first name  \n",
       "1                  bill  \n",
       "3                  jill  \n",
       "5                   NaN  \n",
       "6                   liu  \n",
       "7                   liu  \n",
       "8                    li  \n",
       "9                    li  \n",
       "10                   li  \n",
       "11                   li  "
      ]
     },
     "execution_count": 113,
     "metadata": {},
     "output_type": "execute_result"
    }
   ],
   "source": [
    "enctimes = patencphy.filter(items=['patientid','lastname','firstname','physicianid','physician last name','physician first name'])\n",
    "enctimes"
   ]
  },
  {
   "cell_type": "code",
   "execution_count": 114,
   "metadata": {
    "collapsed": true
   },
   "outputs": [],
   "source": [
    "enctimes['total times seen that physician'] = enctimes.groupby(['patientid','physicianid'])['physicianid'].transform('count')"
   ]
  },
  {
   "cell_type": "code",
   "execution_count": 115,
   "metadata": {},
   "outputs": [
    {
     "data": {
      "text/html": [
       "<div>\n",
       "<style>\n",
       "    .dataframe thead tr:only-child th {\n",
       "        text-align: right;\n",
       "    }\n",
       "\n",
       "    .dataframe thead th {\n",
       "        text-align: left;\n",
       "    }\n",
       "\n",
       "    .dataframe tbody tr th {\n",
       "        vertical-align: top;\n",
       "    }\n",
       "</style>\n",
       "<table border=\"1\" class=\"dataframe\">\n",
       "  <thead>\n",
       "    <tr style=\"text-align: right;\">\n",
       "      <th></th>\n",
       "      <th>lastname</th>\n",
       "      <th>firstname</th>\n",
       "      <th>physician last name</th>\n",
       "      <th>physician first name</th>\n",
       "      <th>total times seen that physician</th>\n",
       "    </tr>\n",
       "  </thead>\n",
       "  <tbody>\n",
       "    <tr>\n",
       "      <th>1</th>\n",
       "      <td>sickly</td>\n",
       "      <td>joseph</td>\n",
       "      <td>whitecoat</td>\n",
       "      <td>bill</td>\n",
       "      <td>1.0</td>\n",
       "    </tr>\n",
       "    <tr>\n",
       "      <th>3</th>\n",
       "      <td>daily</td>\n",
       "      <td>bob</td>\n",
       "      <td>satterwhite</td>\n",
       "      <td>jill</td>\n",
       "      <td>1.0</td>\n",
       "    </tr>\n",
       "    <tr>\n",
       "      <th>5</th>\n",
       "      <td>well</td>\n",
       "      <td>sally</td>\n",
       "      <td>NaN</td>\n",
       "      <td>NaN</td>\n",
       "      <td>NaN</td>\n",
       "    </tr>\n",
       "    <tr>\n",
       "      <th>6</th>\n",
       "      <td>sickly</td>\n",
       "      <td>joseph</td>\n",
       "      <td>wei</td>\n",
       "      <td>liu</td>\n",
       "      <td>2.0</td>\n",
       "    </tr>\n",
       "    <tr>\n",
       "      <th>8</th>\n",
       "      <td>sickly</td>\n",
       "      <td>joseph</td>\n",
       "      <td>na</td>\n",
       "      <td>li</td>\n",
       "      <td>3.0</td>\n",
       "    </tr>\n",
       "    <tr>\n",
       "      <th>11</th>\n",
       "      <td>daily</td>\n",
       "      <td>bob</td>\n",
       "      <td>na</td>\n",
       "      <td>li</td>\n",
       "      <td>1.0</td>\n",
       "    </tr>\n",
       "  </tbody>\n",
       "</table>\n",
       "</div>"
      ],
      "text/plain": [
       "   lastname firstname physician last name physician first name  \\\n",
       "1    sickly    joseph           whitecoat                 bill   \n",
       "3     daily       bob         satterwhite                 jill   \n",
       "5      well     sally                 NaN                  NaN   \n",
       "6    sickly    joseph                 wei                  liu   \n",
       "8    sickly    joseph                  na                   li   \n",
       "11    daily       bob                  na                   li   \n",
       "\n",
       "    total times seen that physician  \n",
       "1                               1.0  \n",
       "3                               1.0  \n",
       "5                               NaN  \n",
       "6                               2.0  \n",
       "8                               3.0  \n",
       "11                              1.0  "
      ]
     },
     "execution_count": 115,
     "metadata": {},
     "output_type": "execute_result"
    }
   ],
   "source": [
    "enctimes = enctimes.drop_duplicates().drop(['patientid','physicianid'],axis=1)\n",
    "enctimes"
   ]
  },
  {
   "cell_type": "code",
   "execution_count": 101,
   "metadata": {
    "collapsed": true
   },
   "outputs": [],
   "source": []
  },
  {
   "cell_type": "markdown",
   "metadata": {},
   "source": [
    "## Problem 1. 15 POINTS\n",
    "You should have received an email that contains:\n",
    "    - host\n",
    "    - user\n",
    "    - password\n",
    "    \n",
    "Go ahead and create three environment variables that hold this information. From this point forward, if you need this information, you should refer to the environment variables and NOT the values themselves. You will lose all points, if the values themselves are in the code and submitted to github. You will have effectively disclosed very sensitive data. **NOTE**, there is no code you turn in to get points for this problem. Rather, I will know that you have done this by reviewing the code below."
   ]
  },
  {
   "cell_type": "markdown",
   "metadata": {},
   "source": [
    "## Problem 2. 5 POINTS\n",
    "Create a `sqlalchemy` engine that is connected to our database. **NOTE** use the environment variables set up in problem 1 to do this. There should be NO host, username, or passwords visible if you are using environment variables correctly. You may receive some `ImportError`. You will need to figure out how to resolve these issues."
   ]
  },
  {
   "cell_type": "code",
   "execution_count": null,
   "metadata": {
    "collapsed": true
   },
   "outputs": [],
   "source": [
    "## install psycopg2\n",
    "## export user=****\n",
    "## export password=****\n",
    "## export host=****"
   ]
  },
  {
   "cell_type": "code",
   "execution_count": 2,
   "metadata": {},
   "outputs": [
    {
     "ename": "TypeError",
     "evalue": "must be str, not NoneType",
     "output_type": "error",
     "traceback": [
      "\u001b[0;31m---------------------------------------------------------------------------\u001b[0m",
      "\u001b[0;31mTypeError\u001b[0m                                 Traceback (most recent call last)",
      "\u001b[0;32m<ipython-input-2-fdb133e55f81>\u001b[0m in \u001b[0;36m<module>\u001b[0;34m()\u001b[0m\n\u001b[1;32m      1\u001b[0m \u001b[0;32mimport\u001b[0m \u001b[0mos\u001b[0m\u001b[0;34m\u001b[0m\u001b[0m\n\u001b[0;32m----> 2\u001b[0;31m \u001b[0mmyengine\u001b[0m \u001b[0;34m=\u001b[0m \u001b[0mcreate_engine\u001b[0m\u001b[0;34m(\u001b[0m\u001b[0;34m\"postgresql://\"\u001b[0m\u001b[0;34m+\u001b[0m\u001b[0mos\u001b[0m\u001b[0;34m.\u001b[0m\u001b[0mgetenv\u001b[0m\u001b[0;34m(\u001b[0m\u001b[0;34m\"user\"\u001b[0m\u001b[0;34m)\u001b[0m\u001b[0;34m+\u001b[0m\u001b[0;34m\":\"\u001b[0m\u001b[0;34m+\u001b[0m\u001b[0mos\u001b[0m\u001b[0;34m.\u001b[0m\u001b[0mgetenv\u001b[0m\u001b[0;34m(\u001b[0m\u001b[0;34m\"password\"\u001b[0m\u001b[0;34m)\u001b[0m\u001b[0;34m+\u001b[0m\u001b[0;34m\"@\"\u001b[0m\u001b[0;34m+\u001b[0m\u001b[0mos\u001b[0m\u001b[0;34m.\u001b[0m\u001b[0mgetenv\u001b[0m\u001b[0;34m(\u001b[0m\u001b[0;34m\"host\"\u001b[0m\u001b[0;34m)\u001b[0m\u001b[0;34m)\u001b[0m\u001b[0;34m\u001b[0m\u001b[0m\n\u001b[0m",
      "\u001b[0;31mTypeError\u001b[0m: must be str, not NoneType"
     ]
    }
   ],
   "source": [
    "import os\n",
    "myengine = create_engine(\"postgresql://\"+os.getenv(\"user\")+\":\"+os.getenv(\"password\")+\"@\"+os.getenv(\"host\"))"
   ]
  },
  {
   "cell_type": "markdown",
   "metadata": {},
   "source": [
    "## Problem 3. 20 POINTS\n",
    "Using the engine created in Problem 2. Use sqlalchemy to help you create a hand drawn ER diagram. Please find a way to get you hand-drawn ER diagram into this repository. HINT, if you take a picture with your phone, you can use that image (which is just a file) to put into this directory."
   ]
  },
  {
   "cell_type": "code",
   "execution_count": 69,
   "metadata": {
    "collapsed": true
   },
   "outputs": [],
   "source": [
    "from sqlalchemy.schema import MetaData\n",
    "meta = MetaData()\n",
    "meta.reflect(bind=myengine)"
   ]
  },
  {
   "cell_type": "code",
   "execution_count": 71,
   "metadata": {},
   "outputs": [
    {
     "name": "stdout",
     "output_type": "stream",
     "text": [
      "*********\n",
      "table:patient\n",
      "columns:\n",
      "\tpatientid\n",
      "\tlastname\n",
      "\tfirstname\n",
      "\tgender\n",
      "\tdob\n",
      "*********\n",
      "table:physician\n",
      "columns:\n",
      "\tphysicianid\n",
      "\tlastname\n",
      "\tfirstname\n",
      "\tspecialty\n",
      "*********\n",
      "table:encounter\n",
      "columns:\n",
      "\tencounterid\n",
      "\tpatientid\n",
      "\tencounterdate\n",
      "\tencounterphysician\n",
      "\tencounterreason\n",
      "\tbillingamount\n",
      "*********\n",
      "table:billing\n",
      "columns:\n",
      "\tbillingid\n",
      "\tencounterid\n",
      "\tcode\n"
     ]
    }
   ],
   "source": [
    "for table in meta.tables.values():\n",
    "    print('*********')\n",
    "    print('table:' + table.name)\n",
    "    print('columns:')\n",
    "    for column in table.c:\n",
    "        print('\\t'+column.name)\n",
    "        "
   ]
  },
  {
   "cell_type": "code",
   "execution_count": 73,
   "metadata": {},
   "outputs": [
    {
     "data": {
      "text/plain": [
       "[Table('patient', MetaData(bind=None), Column('patientid', INTEGER(), table=<patient>, primary_key=True, nullable=False, server_default=DefaultClause(<sqlalchemy.sql.elements.TextClause object at 0x10fd68d68>, for_update=False)), Column('lastname', VARCHAR(length=50), table=<patient>), Column('firstname', VARCHAR(length=50), table=<patient>), Column('gender', VARCHAR(length=1), table=<patient>), Column('dob', DATE(), table=<patient>), schema=None),\n",
       " Table('physician', MetaData(bind=None), Column('physicianid', INTEGER(), table=<physician>, primary_key=True, nullable=False, server_default=DefaultClause(<sqlalchemy.sql.elements.TextClause object at 0x10fca3d68>, for_update=False)), Column('lastname', VARCHAR(length=50), table=<physician>), Column('firstname', VARCHAR(length=50), table=<physician>), Column('specialty', VARCHAR(length=50), table=<physician>), schema=None),\n",
       " Table('encounter', MetaData(bind=None), Column('encounterid', INTEGER(), table=<encounter>, primary_key=True, nullable=False, server_default=DefaultClause(<sqlalchemy.sql.elements.TextClause object at 0x10fd2d1d0>, for_update=False)), Column('patientid', INTEGER(), ForeignKey('patient.patientid'), table=<encounter>), Column('encounterdate', DATE(), table=<encounter>), Column('encounterphysician', INTEGER(), ForeignKey('physician.physicianid'), table=<encounter>), Column('encounterreason', VARCHAR(length=50), table=<encounter>), Column('billingamount', DOUBLE_PRECISION(precision=53), table=<encounter>), schema=None),\n",
       " Table('billing', MetaData(bind=None), Column('billingid', INTEGER(), table=<billing>, primary_key=True, nullable=False, server_default=DefaultClause(<sqlalchemy.sql.elements.TextClause object at 0x10fd2ef28>, for_update=False)), Column('encounterid', INTEGER(), ForeignKey('encounter.encounterid'), table=<billing>), Column('code', VARCHAR(length=50), table=<billing>), schema=None)]"
      ]
     },
     "execution_count": 73,
     "metadata": {},
     "output_type": "execute_result"
    }
   ],
   "source": [
    "meta.sorted_tables"
   ]
  },
  {
   "cell_type": "code",
   "execution_count": 4,
   "metadata": {},
   "outputs": [
    {
     "data": {
      "image/jpeg": "[encoded data removed]",
      "text/plain": [
       "<IPython.core.display.Image object>"
      ]
     },
     "execution_count": 4,
     "metadata": {},
     "output_type": "execute_result"
    }
   ],
   "source": [
    "from IPython.display import Image\n",
    "Image(filename='ER diagram.jpeg')"
   ]
  },
  {
   "cell_type": "code",
   "execution_count": null,
   "metadata": {
    "collapsed": true
   },
   "outputs": [],
   "source": []
  }
 ],
 "metadata": {
  "kernelspec": {
   "display_name": "Python 3",
   "language": "python",
   "name": "python3"
  },
  "language_info": {
   "codemirror_mode": {
    "name": "ipython",
    "version": 3
   },
   "file_extension": ".py",
   "mimetype": "text/x-python",
   "name": "python",
   "nbconvert_exporter": "python",
   "pygments_lexer": "ipython3",
   "version": "3.6.1"
  }
 },
 "nbformat": 4,
 "nbformat_minor": 2
}
