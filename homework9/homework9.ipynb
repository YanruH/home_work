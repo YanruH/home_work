{
 "cells": [
  {
   "cell_type": "markdown",
   "metadata": {},
   "source": [
    "# Homework 9"
   ]
  },
  {
   "cell_type": "markdown",
   "metadata": {},
   "source": [
    "## 1. Closed Laptop Questions. 10 POINTS\n",
    "Provide the binary values for each bit in the following numpy dtypes:  \n",
    "    a. `np.int8(7)`   \n",
    "    b. `np.int16(7)`   \n",
    "    c. `np.uint8(4)`    "
   ]
  },
  {
   "cell_type": "markdown",
   "metadata": {},
   "source": [
    "## 2. Closed Laptop Questions. 10 POINTS\n",
    "Provide the strides for each of the folling numpy arrays:  \n",
    "a. `np.array([[0, 1, 2], [3, 4, 5]], dtype='int32')`  \n",
    "b. `np.array([[0, 1, 2], [3, 4, 5]], dtype='uint64')`  \n",
    "c. `np.array([0, 1, 2, 3, 4, 5], dtype='uint32')`  "
   ]
  },
  {
   "cell_type": "markdown",
   "metadata": {},
   "source": [
    "## 3. Consider the following Image. \n",
    "![img](whereswaldo.jpg)"
   ]
  },
  {
   "cell_type": "markdown",
   "metadata": {},
   "source": [
    "### 10 POINTS. \n",
    "Consider that you can read this image into python and create a numpy array as follows:"
   ]
  },
  {
   "cell_type": "code",
   "execution_count": null,
   "metadata": {},
   "outputs": [],
   "source": [
    "from scipy.misc import imread\n",
    "import matplotlib.pyplot as plt\n",
    "%matplotlib inline\n",
    "waldo = imread('whereswaldo.jpg')\n",
    "plt.imshow(waldo)"
   ]
  },
  {
   "cell_type": "code",
   "execution_count": null,
   "metadata": {},
   "outputs": [],
   "source": [
    "waldo.shape"
   ]
  },
  {
   "cell_type": "markdown",
   "metadata": {},
   "source": [
    "### Use array slicing/indexing to obtain...\n",
    "Look on the red wall. There is an oval frame on the wall containing a man with a red wiggly mustache. Obtain a smaller image of the peron in the frame with the red mustache. Try to get the crop as tight as possible. Save this crop as an object named `red_mustache`."
   ]
  },
  {
   "cell_type": "markdown",
   "metadata": {},
   "source": [
    "### 10 POINTS.\n",
    "What is the dimensions of this crop?  \n",
    "What are the strides of this crop?"
   ]
  },
  {
   "cell_type": "code",
   "execution_count": null,
   "metadata": {},
   "outputs": [],
   "source": []
  },
  {
   "cell_type": "markdown",
   "metadata": {},
   "source": [
    "### 10 POINTS.\n",
    "On the same wall is a frame with a man and woman in a picture. Using the same dimensions as above, crop the original photo so that you get a crop of the man and woman in the picture on the wall. Save this crop as `man_woman`. It's okay if this picture isn't cropped as well, but it should have both people in the crop **and have the same dimensions** as the `red_mustache` crop."
   ]
  },
  {
   "cell_type": "code",
   "execution_count": null,
   "metadata": {},
   "outputs": [],
   "source": []
  },
  {
   "cell_type": "markdown",
   "metadata": {},
   "source": [
    "### 10 POINTS.\n",
    "Combine these two images to make one numpy array. Do this in a way that makes it easy for someone who uses the numpy array to quickly understand that it is two distinct arrays."
   ]
  },
  {
   "cell_type": "code",
   "execution_count": null,
   "metadata": {},
   "outputs": [],
   "source": []
  },
  {
   "cell_type": "markdown",
   "metadata": {},
   "source": [
    "## Ordinary Least Squares. 40 Points.\n",
    "Create a class called `OLS`. \n",
    "1. When creating an object from this new type, `OLS` should expect two numpy arrays: `x` and `y`. \n",
    "2. For this class, create a method called `beta_coef`. This function should take an optional parameter called `intercept`. If true this function will first add the intercept data to `x`, otherwise, if false, it will assume that information is already present. This function should then return the $\\hat{\\beta}$ coefficient vector of the least-squares estimate from a linear model.\n",
    "3. Create a third method called ssr (model sum of squares). This method will calculate the `ssr` as follows:  \n",
    "$(\\hat{y}-\\bar{y}_n)^{T}(\\hat{y}-\\bar{y_{n}})$  \n",
    "\n",
    "This notation $y_{n}$ denotes a vector of means size $n$. $\\hat{y}$ denotes a predicted value."
   ]
  }
 ],
 "metadata": {
  "kernelspec": {
   "display_name": "Python 3",
   "language": "python",
   "name": "python3"
  },
  "language_info": {
   "codemirror_mode": {
    "name": "ipython",
    "version": 3
   },
   "file_extension": ".py",
   "mimetype": "text/x-python",
   "name": "python",
   "nbconvert_exporter": "python",
   "pygments_lexer": "ipython3",
   "version": "3.5.5"
  }
 },
 "nbformat": 4,
 "nbformat_minor": 2
}
