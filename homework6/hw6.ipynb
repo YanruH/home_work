{
 "cells": [
  {
   "cell_type": "code",
   "execution_count": 3,
   "metadata": {},
   "outputs": [],
   "source": [
    "def encode(x, y):\n",
    "    \"\"\"\n",
    "    The function named \"encode\" takes two arguments, x and y.\n",
    "    x is a string and y is any non-negative integer.\n",
    "    The output will be the encoded result by Caesar cipher method.\n",
    "    \"\"\"\n",
    "    if isinstance(y, int) == False:\n",
    "        return \"Eh, error! Please input an integer!\"\n",
    "    if y < 0:\n",
    "        return \"eh, error! Please input a positive number!\"\n",
    "    z = ''\n",
    "    y = y % 26\n",
    "    for char in x:\n",
    "        if ord(char) >= 65 and ord(char) <= 90:\n",
    "            if ord(char) + y <= 90:\n",
    "                z = z + chr(ord(char) + y)\n",
    "            else:\n",
    "                z = z + chr(ord(char) + y - 26)\n",
    "        elif ord(char) >= 97 and ord(char) <= 122:\n",
    "            if ord(char) + y <= 122:\n",
    "                z = z + chr(ord(char) + y)\n",
    "            else:\n",
    "                z = z + chr(ord(char) + y - 26)\n",
    "        else:\n",
    "            z = z + char\n",
    "    return z"
   ]
  },
  {
   "cell_type": "code",
   "execution_count": 4,
   "metadata": {},
   "outputs": [],
   "source": [
    "def decode(x, y):\n",
    "    \"\"\"\n",
    "    The function named \"decode\" takes two arguments, x and y.\n",
    "    x is a string which is encoded cipher and y is any non-negative integer.\n",
    "    The output will be the decoded result by Caesar cipher method.\n",
    "    \"\"\"\n",
    "    if isinstance(y, int) == False:\n",
    "        return \"Eh, error! Please input an integer!\"\n",
    "    if y < 0:\n",
    "        return \"eh, error! Please input a positive number!\"\n",
    "    if isinstance(y, int) == False:\n",
    "        return \"Eh, error! Please input an integer!\"\n",
    "    if y < 0:\n",
    "        return \"eh, error! Please input a positive number!\"\n",
    "    z = ''\n",
    "    y = y % 26\n",
    "    for char in x:\n",
    "        if ord(char) >= 65 and ord(char) <= 90:\n",
    "            if ord(char) - y >= 65:\n",
    "                z = z + chr(ord(char) - y)\n",
    "            else:\n",
    "                z = z + chr(ord(char) - y + 26)\n",
    "        elif ord(char) >= 97 and ord(char) <= 122:\n",
    "            if ord(char) - y >= 97:\n",
    "                z = z + chr(ord(char) - y)\n",
    "            else:\n",
    "                z = z + chr(ord(char) - y + 26)\n",
    "        else:\n",
    "            z = z + char\n",
    "    return z"
   ]
  },
  {
   "cell_type": "code",
   "execution_count": 5,
   "metadata": {},
   "outputs": [],
   "source": [
    "def letter_count(x):\n",
    "    \"\"\"\n",
    "    The function named \"letter_count\" takes only one argument, x.\n",
    "    x is a string.\n",
    "    The output will be a tuple whose first element is a dictionary with keys of all capital alpha letter\n",
    "    and corresponding value of the percentage that this letter no matter upper or lower appears.\n",
    "    The tuple's second element is the total number of upper or lower letters in the string x. \n",
    "    \"\"\"\n",
    "    length_x = 0\n",
    "    for char in x:\n",
    "        if char.isalpha() == True:\n",
    "            length_x = length_x + 1\n",
    "    dict_x = {\n",
    "            }\n",
    "    for i in range(65, 91):\n",
    "        perc_x = (x.count(chr(i)) + x.count(chr(i + 32))) / length_x * 100\n",
    "        dict_x.update({chr(i): perc_x})\n",
    "    return (dict_x, length_x)"
   ]
  },
  {
   "cell_type": "code",
   "execution_count": 7,
   "metadata": {},
   "outputs": [
    {
     "name": "stdout",
     "output_type": "stream",
     "text": [
      "Humpty Dumpty sat on a wall,\n",
      "Humpty Dumpty had a great fall;\n",
      "All the king's horses and all the king's men\n",
      "Couldn't put Humpty together again.\n"
     ]
    }
   ],
   "source": [
    "rhyme = \"Humpty Dumpty sat on a wall,\\nHumpty Dumpty had a great fall;\\nAll the king's horses and all the king's men\\nCouldn't put Humpty together again.\"\n",
    "print(rhyme)"
   ]
  },
  {
   "cell_type": "code",
   "execution_count": 8,
   "metadata": {},
   "outputs": [
    {
     "name": "stdout",
     "output_type": "stream",
     "text": [
      "Qdvych Mdvych bjc xw j fjuu,\n",
      "Qdvych Mdvych qjm j panjc ojuu;\n",
      "Juu cqn trwp'b qxabnb jwm juu cqn trwp'b vnw\n",
      "Lxdumw'c ydc Qdvych cxpncqna jpjrw.\n"
     ]
    }
   ],
   "source": [
    "print(encode(rhyme, 9))"
   ]
  },
  {
   "cell_type": "code",
   "execution_count": 9,
   "metadata": {},
   "outputs": [
    {
     "name": "stdout",
     "output_type": "stream",
     "text": [
      "Humpty Dumpty sat on a wall,\n",
      "Humpty Dumpty had a great fall;\n",
      "All the king's horses and all the king's men\n",
      "Couldn't put Humpty together again.\n"
     ]
    }
   ],
   "source": [
    "print(decode(encode(rhyme, 9), 9))"
   ]
  },
  {
   "cell_type": "code",
   "execution_count": 10,
   "metadata": {},
   "outputs": [
    {
     "name": "stdout",
     "output_type": "stream",
     "text": [
      "Yldgkp Uldgkp jrk fe r nrcc,\n",
      "Yldgkp Uldgkp yru r xivrk wrcc;\n",
      "Rcc kyv bzex'j yfijvj reu rcc kyv bzex'j dve\n",
      "Tflcue'k glk Yldgkp kfxvkyvi rxrze.\n"
     ]
    }
   ],
   "source": [
    "print(decode(rhyme, 9))"
   ]
  },
  {
   "cell_type": "code",
   "execution_count": 11,
   "metadata": {},
   "outputs": [
    {
     "name": "stdout",
     "output_type": "stream",
     "text": [
      "({'A': 10.909090909090908, 'B': 0.0, 'C': 0.9090909090909091, 'D': 4.545454545454546, 'E': 6.363636363636363, 'F': 0.9090909090909091, 'G': 4.545454545454546, 'H': 7.2727272727272725, 'I': 2.727272727272727, 'J': 0.0, 'K': 1.8181818181818181, 'L': 8.181818181818182, 'M': 5.454545454545454, 'N': 6.363636363636363, 'O': 3.6363636363636362, 'P': 5.454545454545454, 'Q': 0.0, 'R': 2.727272727272727, 'S': 4.545454545454546, 'T': 11.818181818181818, 'U': 6.363636363636363, 'V': 0.0, 'W': 0.9090909090909091, 'X': 0.0, 'Y': 4.545454545454546, 'Z': 0.0}, 110)\n"
     ]
    }
   ],
   "source": [
    "print(letter_count(rhyme))"
   ]
  },
  {
   "cell_type": "code",
   "execution_count": null,
   "metadata": {},
   "outputs": [],
   "source": []
  }
 ],
 "metadata": {
  "kernelspec": {
   "display_name": "Python 3",
   "language": "python",
   "name": "python3"
  },
  "language_info": {
   "codemirror_mode": {
    "name": "ipython",
    "version": 3
   },
   "file_extension": ".py",
   "mimetype": "text/x-python",
   "name": "python",
   "nbconvert_exporter": "python",
   "pygments_lexer": "ipython3",
   "version": "3.7.0"
  }
 },
 "nbformat": 4,
 "nbformat_minor": 2
}
