{
 "cells": [
  {
   "cell_type": "markdown",
   "metadata": {},
   "source": [
    "# Homework 6\n",
    "Please complete all questions below in a conda environment hosting your own jupyter interactive computing environment.\n",
    "**Do not push any of your homework to github until Thursday's class. If you post homework early, I will take 20 points \n",
    "off.**\n",
    "\n",
    "1. A Caesar cipher is a very simple method of encoding and decoding data. The cipher simply replaces characters \n",
    "with the character offset by k places. For example, if the offset is 3, we replace `a` with `d`, `b` with `e` etc. The \n",
    "cipher wraps around so we replace `y` with `b`, `z` with `c` and so on. Punctuation, spaces and numbers are \n",
    "left unchanged. In order to complete this assignment, look into the python package `string`, it may be helpful."
   ]
  },
  {
   "cell_type": "markdown",
   "metadata": {},
   "source": [
    "#1a Write a function named `encode` that takes as arguments a string and an integer offset and returns the encoded\n",
    "cipher. Be sure to document your function."
   ]
  },
  {
   "cell_type": "code",
   "execution_count": 4,
   "metadata": {},
   "outputs": [
    {
     "data": {
      "text/plain": [
       "'mjqqtymjwjmtbfwjdtz'"
      ]
     },
     "execution_count": 4,
     "metadata": {},
     "output_type": "execute_result"
    }
   ],
   "source": [
    "\n",
    "#Function to encode a string passed as first argument by number off offset positions in standard english alphabet (an \n",
    "#integer provided by second argument passed to function). \n",
    "\n",
    "def encode(string, integer):\n",
    "    ref_alphabet = ['a', 'b', 'c', 'd', 'e', 'f', 'g', 'h', 'i', 'j', 'k', 'l', 'm', \n",
    "                    'n', 'o', 'p', 'q', 'r', 's', 't', 'u', 'v', 'w', 'x', 'y', 'z']\n",
    "    encoded_string = ''\n",
    "    string = string.lower()\n",
    "    for letter in string:\n",
    "        generator = (i for i,x in enumerate(ref_alphabet) if x == letter)\n",
    "        for i in generator:\n",
    "            new_index = i + int(integer)\n",
    "            if new_index < 26:\n",
    "                new_letter = ref_alphabet[new_index]\n",
    "                encoded_string = encoded_string + str(new_letter)\n",
    "                pass\n",
    "            else:\n",
    "                wrapped_index = new_index - 26\n",
    "                new_letter = ref_alphabet[wrapped_index]\n",
    "                encoded_string = encoded_string + str(new_letter)\n",
    "                pass\n",
    "            pass\n",
    "        pass\n",
    "    return encoded_string\n",
    "\n",
    "#Test Case:\n",
    "encode('hellotherehowareyou', 5)"
   ]
  },
  {
   "cell_type": "markdown",
   "metadata": {},
   "source": [
    "#1b Write a function named `decode` that takes as arguments a cipher and an integer offset and returns the decoded\n",
    "string."
   ]
  },
  {
   "cell_type": "code",
   "execution_count": 1,
   "metadata": {},
   "outputs": [
    {
     "name": "stdout",
     "output_type": "stream",
     "text": [
      "hellotherehowareyou\n"
     ]
    }
   ],
   "source": [
    "#Decode function such that function takes a string argument and an integer argument indicating the number of\n",
    "#offset letters in standard english alphabet.\n",
    "\n",
    "def decode(string, integer):\n",
    "    ref_alphabet = ['a', 'b', 'c', 'd', 'e', 'f', 'g', 'h', 'i', 'j', 'k', 'l', 'm', \n",
    "                    'n', 'o', 'p', 'q', 'r', 's', 't', 'u', 'v', 'w', 'x', 'y', 'z']\n",
    "    decoded_string = ''\n",
    "    for letter in string:\n",
    "        generator = (i for i,x in enumerate(ref_alphabet) if x == letter)\n",
    "        for i in generator:\n",
    "            new_index = i - int(integer)\n",
    "            new_letter = ref_alphabet[new_index]\n",
    "            decoded_string = decoded_string + str(new_letter)\n",
    "            pass\n",
    "        pass\n",
    "    print(decoded_string)\n",
    "    return\n",
    "\n",
    "#Test Case:\n",
    "decode('mjqqtymjwjmtbfwjdtz', 5)"
   ]
  },
  {
   "cell_type": "markdown",
   "metadata": {},
   "source": [
    "#1c Write a function named `letter_count` that takes as argument a string and returns a tuple. The first element in the tuple is a dictionary. The dictionary's keys are comprised of every unique upper case letter from the english alphabet. \n",
    "\n",
    "The values in this dictionary are percentages of the times that letter (either lower or upper case) is present in the \n",
    "input string.  The second element in the tuple is the number of letters either upper or lower case in the input string."
   ]
  },
  {
   "cell_type": "code",
   "execution_count": 3,
   "metadata": {},
   "outputs": [
    {
     "name": "stdout",
     "output_type": "stream",
     "text": [
      "({'A': [50.0], 'B': [50.0], 'C': [0.0], 'D': [0.0], 'E': [0.0], 'F': [0.0], 'G': [0.0], 'H': [0.0], 'I': [0.0], 'J': [0.0], 'K': [0.0], 'L': [0.0], 'M': [0.0], 'N': [0.0], 'O': [0.0], 'P': [0.0], 'Q': [0.0], 'R': [0.0], 'S': [0.0], 'T': [0.0], 'U': [0.0], 'V': [0.0], 'W': [0.0], 'X': [0.0], 'Y': [0.0], 'Z': [0.0]}, 2)\n",
      "({'A': [14.285714285714285], 'B': [14.285714285714285], 'C': [14.285714285714285], 'D': [14.285714285714285], 'E': [14.285714285714285], 'F': [14.285714285714285], 'G': [14.285714285714285], 'H': [0.0], 'I': [0.0], 'J': [0.0], 'K': [0.0], 'L': [0.0], 'M': [0.0], 'N': [0.0], 'O': [0.0], 'P': [0.0], 'Q': [0.0], 'R': [0.0], 'S': [0.0], 'T': [0.0], 'U': [0.0], 'V': [0.0], 'W': [0.0], 'X': [0.0], 'Y': [0.0], 'Z': [0.0]}, 7)\n",
      "({'A': [33.33333333333333], 'B': [33.33333333333333], 'C': [33.33333333333333], 'D': [0.0], 'E': [0.0], 'F': [0.0], 'G': [0.0], 'H': [0.0], 'I': [0.0], 'J': [0.0], 'K': [0.0], 'L': [0.0], 'M': [0.0], 'N': [0.0], 'O': [0.0], 'P': [0.0], 'Q': [0.0], 'R': [0.0], 'S': [0.0], 'T': [0.0], 'U': [0.0], 'V': [0.0], 'W': [0.0], 'X': [0.0], 'Y': [0.0], 'Z': [0.0]}, 9)\n",
      "({'A': [4.545454545454546], 'B': [0.0], 'C': [0.0], 'D': [1.5151515151515151], 'E': [6.0606060606060606], 'F': [0.0], 'G': [1.5151515151515151], 'H': [6.0606060606060606], 'I': [4.545454545454546], 'J': [1.5151515151515151], 'K': [0.0], 'L': [3.0303030303030303], 'M': [3.0303030303030303], 'N': [9.090909090909092], 'O': [13.636363636363635], 'P': [1.5151515151515151], 'Q': [0.0], 'R': [1.5151515151515151], 'S': [3.0303030303030303], 'T': [1.5151515151515151], 'U': [3.0303030303030303], 'V': [0.0], 'W': [3.0303030303030303], 'X': [0.0], 'Y': [7.575757575757576], 'Z': [0.0]}, 50)\n"
     ]
    }
   ],
   "source": [
    "#Function to perform... Input string --> output tuple such that first element is dictionary (key = Capital Letter,\n",
    "#value = percentage of that letter out of total letters in string) and second element is TOTAL NUMBER of EACH \n",
    "#UNIQUE LETTER \n",
    "\n",
    "def letter_count(string):\n",
    "    import collections\n",
    "    from collections import defaultdict\n",
    "    list_alphabet = ['A', 'B', 'C', 'D', 'E', 'F', 'G', 'H', 'I', 'J', 'K', 'L', 'M', \n",
    "                    'N', 'O', 'P', 'Q', 'R', 'S', 'T', 'U', 'V', 'W', 'X', 'Y', 'Z']\n",
    "    all_caps_string = string.upper()\n",
    "    letter_counts = collections.Counter(all_caps_string)\n",
    "    letter_ord_counts = {letter: letter_counts[letter] for letter in list_alphabet}\n",
    "    counts_list = list(letter_ord_counts.values())\n",
    "    letter_freq_dict = {letter: [letter_counts[letter]/len(string)*100] for letter in list_alphabet}\n",
    "    final_tuple_out = (letter_freq_dict, sum(counts_list))\n",
    "    print(final_tuple_out)\n",
    "    return\n",
    "\n",
    "#Test Cases:\n",
    "letter_count('ab')\n",
    "letter_count('abcdefg')\n",
    "letter_count('aaabbbccc')\n",
    "letter_count('Hello my name is Danny. How are you? I enjoy using Python. Woohoo!')"
   ]
  },
  {
   "cell_type": "markdown",
   "metadata": {},
   "source": [
    "(d) Use the following nursery rhyme to test all three functions above and use a random offset between 5 and 9 \n",
    "where needed:\n",
    "```\n",
    "Humpty Dumpty sat on a wall,\n",
    "Humpty Dumpty had a great fall;\n",
    "All the king's horses and all the king's men\n",
    "Couldn't put Humpty together again."
   ]
  },
  {
   "cell_type": "code",
   "execution_count": 6,
   "metadata": {},
   "outputs": [
    {
     "name": "stdout",
     "output_type": "stream",
     "text": [
      "nasvzejasvzeygzutgcgrrnasvzejasvzengjgmxkgzlgrrgrrznkqotmynuxykygtjgrrznkqotmysktiuarjtzvaznasvzezumkznkxgmgot\n",
      "humptydumptysatonawallhumptydumptyhadagreatfallallthekingshorsesandallthekingsmencouldntputhumptytogetheragain\n",
      "({'A': [8.51063829787234], 'B': [0.0], 'C': [0.7092198581560284], 'D': [3.546099290780142], 'E': [4.964539007092199], 'F': [0.7092198581560284], 'G': [3.546099290780142], 'H': [5.673758865248227], 'I': [2.127659574468085], 'J': [0.0], 'K': [1.4184397163120568], 'L': [6.382978723404255], 'M': [4.25531914893617], 'N': [4.964539007092199], 'O': [2.8368794326241136], 'P': [4.25531914893617], 'Q': [0.0], 'R': [2.127659574468085], 'S': [3.546099290780142], 'T': [9.219858156028367], 'U': [4.964539007092199], 'V': [0.0], 'W': [0.7092198581560284], 'X': [0.0], 'Y': [3.546099290780142], 'Z': [0.0]}, 110)\n"
     ]
    }
   ],
   "source": [
    "#Testing each of the above 3 functions using the following sample string:\n",
    "\n",
    "import random\n",
    "\n",
    "#Function 1\n",
    "\n",
    "def encode(string, integer):\n",
    "    ref_alphabet = ['a', 'b', 'c', 'd', 'e', 'f', 'g', 'h', 'i', 'j', 'k', 'l', 'm', \n",
    "                    'n', 'o', 'p', 'q', 'r', 's', 't', 'u', 'v', 'w', 'x', 'y', 'z']\n",
    "    encoded_string = ''\n",
    "    string = string.lower()\n",
    "    for letter in string:\n",
    "        generator = (i for i,x in enumerate(ref_alphabet) if x == letter)\n",
    "        for i in generator:\n",
    "            new_index = i + int(integer)\n",
    "            if new_index < 26:\n",
    "                new_letter = ref_alphabet[new_index]\n",
    "                encoded_string = encoded_string + str(new_letter)\n",
    "                pass\n",
    "            else:\n",
    "                wrapped_index = new_index - 26\n",
    "                new_letter = ref_alphabet[wrapped_index]\n",
    "                encoded_string = encoded_string + str(new_letter)\n",
    "                pass\n",
    "            pass\n",
    "        pass\n",
    "    return encoded_string\n",
    "\n",
    "#Function 2\n",
    "\n",
    "def decode(string, integer):\n",
    "    ref_alphabet = ['a', 'b', 'c', 'd', 'e', 'f', 'g', 'h', 'i', 'j', 'k', 'l', 'm', \n",
    "                    'n', 'o', 'p', 'q', 'r', 's', 't', 'u', 'v', 'w', 'x', 'y', 'z']\n",
    "    decoded_string = ''\n",
    "    for letter in string:\n",
    "        generator = (i for i,x in enumerate(ref_alphabet) if x == letter)\n",
    "        for i in generator:\n",
    "            new_index = i - int(integer)\n",
    "            new_letter = ref_alphabet[new_index]\n",
    "            decoded_string = decoded_string + str(new_letter)\n",
    "            pass\n",
    "        pass\n",
    "    return decoded_string\n",
    "\n",
    "#Function 3\n",
    "\n",
    "def letter_count(string):\n",
    "    import collections\n",
    "    from collections import defaultdict\n",
    "    list_alphabet = ['A', 'B', 'C', 'D', 'E', 'F', 'G', 'H', 'I', 'J', 'K', 'L', 'M', \n",
    "                    'N', 'O', 'P', 'Q', 'R', 'S', 'T', 'U', 'V', 'W', 'X', 'Y', 'Z']\n",
    "    all_caps_string = string.upper()\n",
    "    letter_counts = collections.Counter(all_caps_string)\n",
    "    letter_ord_counts = {letter: letter_counts[letter] for letter in list_alphabet}\n",
    "    counts_list = list(letter_ord_counts.values())\n",
    "    letter_freq_dict = {letter: [letter_counts[letter]/len(string)*100] for letter in list_alphabet}\n",
    "    final_tuple_out = (letter_freq_dict, sum(counts_list))\n",
    "    return final_tuple_out\n",
    "\n",
    "#Trying out the functions with sample \"Humpty Dumpty\" text\n",
    "\n",
    "rand_offset_number = random.randint(5,9)\n",
    "sample_string = 'Humpty Dumpty sat on a wall, Humpty Dumpty had a great fall; All the king\\'s horses and all the king\\'s men Couldn\\'t put Humpty together again.'\n",
    "encoded_text = encode(sample_string, rand_offset_number)\n",
    "print(encoded_text)\n",
    "\n",
    "decoded_text = decode(encoded_text, rand_offset_number)\n",
    "print(decoded_text)\n",
    "\n",
    "letter_analysis = letter_count(sample_string)\n",
    "print(letter_analysis)\n"
   ]
  }
 ],
 "metadata": {
  "kernelspec": {
   "display_name": "Python 3",
   "language": "python",
   "name": "python3"
  },
  "language_info": {
   "codemirror_mode": {
    "name": "ipython",
    "version": 3
   },
   "file_extension": ".py",
   "mimetype": "text/x-python",
   "name": "python",
   "nbconvert_exporter": "python",
   "pygments_lexer": "ipython3",
   "version": "3.6.5"
  }
 },
 "nbformat": 4,
 "nbformat_minor": 2
}
