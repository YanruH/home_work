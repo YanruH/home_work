{
 "cells": [
  {
   "cell_type": "code",
   "execution_count": 7,
   "metadata": {
    "collapsed": true
   },
   "outputs": [],
   "source": [
    "import string"
   ]
  },
  {
   "cell_type": "code",
   "execution_count": 44,
   "metadata": {
    "collapsed": true
   },
   "outputs": [],
   "source": [
    "#(a)\n",
    "\n",
    "def encode(input_string, offset_number):\n",
    "    \"\"\"create an empty string\"\"\"\n",
    "    result = '' \n",
    "    \"\"\"start to count each character in the string\"\"\"\n",
    "    for char in input_string: \n",
    "        \"\"\"check if the character is the lowercase\"\"\"\n",
    "        if char.islower(): \n",
    "            \"\"\"Combine the shifted character with previous string\"\"\"\n",
    "            result = result + chr((ord(char) + offset_number-97) % 26 + 97) \n",
    "            \"\"\"check if the character is the uppercase\"\"\"\n",
    "        elif char.isupper(): \n",
    "            \"\"\"Combine the shifted character with previous string\"\"\"\n",
    "            result = result + chr((ord(char) + offset_number-65) % 26 + 65)\n",
    "            \"\"\"check if the character is the space between the words\"\"\"\n",
    "        elif char == ' ': \n",
    "            \"\"\"Combine the space with previous string\"\"\"\n",
    "            result = result + char\n",
    "            \"\"\"Check if the char is punctuation \"\"\"\n",
    "        else:\n",
    "            result = result + char\n",
    "    return result "
   ]
  },
  {
   "cell_type": "code",
   "execution_count": 45,
   "metadata": {},
   "outputs": [
    {
     "data": {
      "text/plain": [
       "'A'"
      ]
     },
     "execution_count": 45,
     "metadata": {},
     "output_type": "execute_result"
    }
   ],
   "source": [
    "encode('U', 6)"
   ]
  },
  {
   "cell_type": "code",
   "execution_count": 49,
   "metadata": {
    "collapsed": true
   },
   "outputs": [],
   "source": [
    "#(b)\n",
    "\n",
    "def decode(input_string, offset_number):\n",
    "    \"\"\"create an empty string\"\"\"\n",
    "    result = '' \n",
    "    \"\"\"start to count each character in the string\"\"\"\n",
    "    for char in input_string: \n",
    "        \"\"\"check if the character is the lowercase\"\"\"\n",
    "        if char.islower(): \n",
    "            \"\"\"Combine the shifted character with previous string\"\"\"\n",
    "            result = result + chr((ord(char) - offset_number-97) % 26 + 97) \n",
    "            \"\"\"check if the character is the uppercase\"\"\"\n",
    "        elif char.isupper(): \n",
    "            \"\"\"Combine the shifted character with previous string\"\"\"\n",
    "            result = result + chr((ord(char) - offset_number-65) % 26 + 65)\n",
    "            \"\"\"check if the character is the space between the words\"\"\"\n",
    "        elif char == ' ': \n",
    "            \"\"\"Combine the space with previous string\"\"\"\n",
    "            result = result + char\n",
    "        else:\n",
    "            \"\"\"Check if the char is punctuation \"\"\"\n",
    "            result = result + char\n",
    "    return result \n"
   ]
  },
  {
   "cell_type": "code",
   "execution_count": 51,
   "metadata": {},
   "outputs": [
    {
     "data": {
      "text/plain": [
       "'U'"
      ]
     },
     "execution_count": 51,
     "metadata": {},
     "output_type": "execute_result"
    }
   ],
   "source": [
    "decode('A', 6)"
   ]
  },
  {
   "cell_type": "code",
   "execution_count": 48,
   "metadata": {
    "collapsed": true
   },
   "outputs": [],
   "source": [
    "#(c)\n",
    "\n",
    "def letter_count(string):\n",
    "    count = 0\n",
    "    \"\"\"First set a counter to counter the total number of letters either in lowercase or uppercase\"\"\"\n",
    "    for char in string: \n",
    "        if char.islower() or char.isupper():\n",
    "            count = count + 1\n",
    "    \"\"\"then count uppercase and lowercase of each letter individually and combine them together divide by total count\"\"\"\n",
    "    dic = {\n",
    "        'A': ((string.count('A')+string.count('a'))/count)*100, \n",
    "        'B': ((string.count('B')+string.count('b'))/count)*100, \n",
    "        'C': ((string.count('C')+string.count('c'))/count)*100, \n",
    "        'D': ((string.count('D')+string.count('d'))/count)*100, \n",
    "        'E': ((string.count('E')+string.count('e'))/count)*100, \n",
    "        'F': ((string.count('F')+string.count('f'))/count)*100,\n",
    "        'G': ((string.count('G')+string.count('g'))/count)*100,\n",
    "        'H': ((string.count('H')+string.count('h'))/count)*100,\n",
    "        'I': ((string.count('I')+string.count('i'))/count)*100,\n",
    "        'J': ((string.count('J')+string.count('j'))/count)*100, \n",
    "        'K': ((string.count('K')+string.count('k'))/count)*100, \n",
    "        'L': ((string.count('L')+string.count('l'))/count)*100, \n",
    "        'M': ((string.count('M')+string.count('m'))/count)*100, \n",
    "        'N': ((string.count('N')+string.count('n'))/count)*100, \n",
    "        'O': ((string.count('O')+string.count('o'))/count)*100,\n",
    "        'P': ((string.count('P')+string.count('p'))/count)*100, \n",
    "        'Q': ((string.count('Q')+string.count('q'))/count)*100, \n",
    "        'R': ((string.count('R')+string.count('r'))/count)*100, \n",
    "        'S': ((string.count('S')+string.count('s'))/count)*100, \n",
    "        'T': ((string.count('T')+string.count('t'))/count)*100, \n",
    "        'U': ((string.count('U')+string.count('u'))/count)*100, \n",
    "        'V': ((string.count('V')+string.count('v'))/count)*100, \n",
    "        'W': ((string.count('W')+string.count('w'))/count)*100, \n",
    "        'X': ((string.count('X')+string.count('x'))/count)*100, \n",
    "        'Y': ((string.count('Y')+string.count('y'))/count)*100, \n",
    "        'Z': ((string.count('Z')+string.count('z'))/count)*100    \n",
    "    }\n",
    "    return (dic, count)\n",
    "\n"
   ]
  },
  {
   "cell_type": "code",
   "execution_count": 19,
   "metadata": {},
   "outputs": [
    {
     "data": {
      "text/plain": [
       "({'A': 14.285714285714285,\n",
       "  'B': 85.71428571428571,\n",
       "  'C': 0.0,\n",
       "  'D': 0.0,\n",
       "  'E': 0.0,\n",
       "  'F': 0.0,\n",
       "  'G': 0.0,\n",
       "  'H': 0.0,\n",
       "  'I': 0.0,\n",
       "  'J': 0.0,\n",
       "  'K': 0.0,\n",
       "  'L': 0.0,\n",
       "  'M': 0.0,\n",
       "  'N': 0.0,\n",
       "  'O': 0.0,\n",
       "  'P': 0.0,\n",
       "  'Q': 0.0,\n",
       "  'R': 0.0,\n",
       "  'S': 0.0,\n",
       "  'T': 0.0,\n",
       "  'U': 0.0,\n",
       "  'V': 0.0,\n",
       "  'W': 0.0,\n",
       "  'X': 0.0,\n",
       "  'Y': 0.0,\n",
       "  'Z': 0.0},\n",
       " 7)"
      ]
     },
     "execution_count": 19,
     "metadata": {},
     "output_type": "execute_result"
    }
   ],
   "source": [
    "letter_count('bbbB bba')"
   ]
  },
  {
   "cell_type": "code",
   "execution_count": 52,
   "metadata": {},
   "outputs": [
    {
     "name": "stdout",
     "output_type": "stream",
     "text": [
      "Humpty Dumpty sat on a wall,\n",
      "Humpty Dumpty had a great fall; \n",
      "All the king's horses and all the king's men \n",
      "Couldn't put Humpty together again.\n"
     ]
    }
   ],
   "source": [
    "input = \"Humpty Dumpty sat on a wall,\\nHumpty Dumpty had a great fall; \\nAll the king's horses and all the king's men \\nCouldn't put Humpty together again.\"\n",
    "print (input)"
   ]
  },
  {
   "cell_type": "code",
   "execution_count": 59,
   "metadata": {},
   "outputs": [
    {
     "name": "stdout",
     "output_type": "stream",
     "text": [
      "Humpty Dumpty sat on a wall,\n",
      "Humpty Dumpty had a great fall; \n",
      "All the king's horses and all the king's men \n",
      "Couldn't put Humpty together again.\n"
     ]
    }
   ],
   "source": [
    "print(decode(encode(input, 6),6))"
   ]
  },
  {
   "cell_type": "code",
   "execution_count": 62,
   "metadata": {},
   "outputs": [
    {
     "data": {
      "text/plain": [
       "({'A': 10.909090909090908,\n",
       "  'B': 0.0,\n",
       "  'C': 0.9090909090909091,\n",
       "  'D': 4.545454545454546,\n",
       "  'E': 6.363636363636363,\n",
       "  'F': 0.9090909090909091,\n",
       "  'G': 4.545454545454546,\n",
       "  'H': 7.2727272727272725,\n",
       "  'I': 2.727272727272727,\n",
       "  'J': 0.0,\n",
       "  'K': 1.8181818181818181,\n",
       "  'L': 8.181818181818182,\n",
       "  'M': 5.454545454545454,\n",
       "  'N': 6.363636363636363,\n",
       "  'O': 3.6363636363636362,\n",
       "  'P': 5.454545454545454,\n",
       "  'Q': 0.0,\n",
       "  'R': 2.727272727272727,\n",
       "  'S': 4.545454545454546,\n",
       "  'T': 11.818181818181818,\n",
       "  'U': 6.363636363636363,\n",
       "  'V': 0.0,\n",
       "  'W': 0.9090909090909091,\n",
       "  'X': 0.0,\n",
       "  'Y': 4.545454545454546,\n",
       "  'Z': 0.0},\n",
       " 110)"
      ]
     },
     "execution_count": 62,
     "metadata": {},
     "output_type": "execute_result"
    }
   ],
   "source": [
    "letter_count(input)"
   ]
  },
  {
   "cell_type": "code",
   "execution_count": 64,
   "metadata": {},
   "outputs": [
    {
     "name": "stdout",
     "output_type": "stream",
     "text": [
      "Nasvze Jasvze ygz ut g cgrr,\n",
      "Nasvze Jasvze ngj g mxkgz lgrr; \n",
      "Grr znk qotm'y nuxyky gtj grr znk qotm'y skt \n",
      "Iuarjt'z vaz Nasvze zumkznkx gmgot.\n"
     ]
    }
   ],
   "source": [
    "print(encode(input, 6))"
   ]
  },
  {
   "cell_type": "code",
   "execution_count": null,
   "metadata": {
    "collapsed": true
   },
   "outputs": [],
   "source": []
  }
 ],
 "metadata": {
  "kernelspec": {
   "display_name": "Python 3",
   "language": "python",
   "name": "python3"
  },
  "language_info": {
   "codemirror_mode": {
    "name": "ipython",
    "version": 3
   },
   "file_extension": ".py",
   "mimetype": "text/x-python",
   "name": "python",
   "nbconvert_exporter": "python",
   "pygments_lexer": "ipython3",
   "version": "3.5.4"
  }
 },
 "nbformat": 4,
 "nbformat_minor": 2
}
