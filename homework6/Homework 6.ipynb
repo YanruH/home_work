{
 "cells": [
  {
   "cell_type": "markdown",
   "metadata": {},
   "source": [
    "1. A Caesar cipher is a very simple method of encoding and decoding data. The cipher simply replaces characters \n",
    "with the character offset by k places. For example, if the offset is 3, we replace `a` with `d`, `b` with `e` etc. The \n",
    "cipher wraps around so we replace `y` with `b`, `z` with `c` and so on. Punctuation, spaces and numbers are \n",
    "left unchanged. In order to complete this assignment, look into the python package `string`, it may be helpful."
   ]
  },
  {
   "cell_type": "markdown",
   "metadata": {},
   "source": [
    "(a) Write a function named encode that takes as arguments a string and an integer offset and returns the encoded cipher. Be sure to document your function."
   ]
  },
  {
   "cell_type": "code",
   "execution_count": 6,
   "metadata": {
    "collapsed": true
   },
   "outputs": [],
   "source": [
    "import string\n",
    "def encode (text, offset):\n",
    "    '''This function is to take as arguments a string and an integer offset and returns the encoded cipher. '''\n",
    "    alphabet = string.ascii_lowercase\n",
    "    shifted_alphabet = alphabet[offset:] + alphabet[:offset]\n",
    "    table = str.maketrans(alphabet, shifted_alphabet)\n",
    "    return text.translate(table)\n",
    "    "
   ]
  },
  {
   "cell_type": "markdown",
   "metadata": {},
   "source": [
    "(b) Write a function named decode that takes as arguments a cipher and an integer offset and returns the decoded string."
   ]
  },
  {
   "cell_type": "code",
   "execution_count": 7,
   "metadata": {
    "collapsed": true
   },
   "outputs": [],
   "source": [
    "def decode (text, offset):\n",
    "    '''This function is to take as arguments a string and an integer offset and returns the decoded string. '''\n",
    "    alphabet = string.ascii_lowercase\n",
    "    shifted_alphabet = alphabet[(26-offset):] + alphabet[:(26-offset)]\n",
    "    table = str.maketrans(alphabet, shifted_alphabet)\n",
    "    return text.translate(table)"
   ]
  },
  {
   "cell_type": "markdown",
   "metadata": {},
   "source": [
    "(c) Write a function named letter_count that takes as argument a string and returns a tuple. The first element in the tuple is a dictionary. The dictionary's keys are comprised of every unique upper case letter from the english alphabet. The values in this dictionary are percentages of the times that letter (either lower or upper case) is present in the input string. The second element in the tuple is the number of letters either upper or lower case in the input string."
   ]
  },
  {
   "cell_type": "code",
   "execution_count": 8,
   "metadata": {
    "collapsed": true
   },
   "outputs": [],
   "source": [
    "import string\n",
    "def letter_count (text):\n",
    "    '''This function is to count letters in input and percentages'''\n",
    "    dict={} \n",
    "    for i in string.ascii_uppercase:\n",
    "        dict[i] =(text.count(i)+text.count(i.lower()))/26\n",
    "    count=(dict, len(text))\n",
    "    return count\n",
    "    \n"
   ]
  },
  {
   "cell_type": "markdown",
   "metadata": {},
   "source": [
    "(d) Use the following nursery rhyme to test all three functions above and use a random offset between 5 and 9 where needed:\n",
    "       Humpty Dumpty sat on a wall,\n",
    "       Humpty Dumpty had a great fall;\n",
    "       All the king's horses and all the king's men\n",
    "       Couldn't put Humpty together again."
   ]
  },
  {
   "cell_type": "code",
   "execution_count": 9,
   "metadata": {},
   "outputs": [
    {
     "data": {
      "text/plain": [
       "({'A': 0.46153846153846156,\n",
       "  'B': 0.0,\n",
       "  'C': 0.038461538461538464,\n",
       "  'D': 0.19230769230769232,\n",
       "  'E': 0.2692307692307692,\n",
       "  'F': 0.038461538461538464,\n",
       "  'G': 0.19230769230769232,\n",
       "  'H': 0.3076923076923077,\n",
       "  'I': 0.11538461538461539,\n",
       "  'J': 0.0,\n",
       "  'K': 0.07692307692307693,\n",
       "  'L': 0.34615384615384615,\n",
       "  'M': 0.23076923076923078,\n",
       "  'N': 0.2692307692307692,\n",
       "  'O': 0.15384615384615385,\n",
       "  'P': 0.23076923076923078,\n",
       "  'Q': 0.0,\n",
       "  'R': 0.11538461538461539,\n",
       "  'S': 0.19230769230769232,\n",
       "  'T': 0.5,\n",
       "  'U': 0.2692307692307692,\n",
       "  'V': 0.0,\n",
       "  'W': 0.038461538461538464,\n",
       "  'X': 0.0,\n",
       "  'Y': 0.19230769230769232,\n",
       "  'Z': 0.0},\n",
       " 171)"
      ]
     },
     "execution_count": 9,
     "metadata": {},
     "output_type": "execute_result"
    }
   ],
   "source": [
    "from random import randint\n",
    "rhyme=\"\"\"Humpty Dumpty sat on a wall, \n",
    "         Humpty Dumpty had a great fall; \n",
    "         All the king's horses and all the king's men \n",
    "         Couldn't put Humpty together again.\"\"\"\n",
    "\n",
    "random.seed(123)\n",
    "k=randint(5,9)\n",
    "encode(rhyme,k)\n",
    "decode(rhyme,k)\n",
    "letter_count(rhyme)\n"
   ]
  },
  {
   "cell_type": "code",
   "execution_count": null,
   "metadata": {
    "collapsed": true
   },
   "outputs": [],
   "source": []
  }
 ],
 "metadata": {
  "kernelspec": {
   "display_name": "Python 3",
   "language": "python",
   "name": "python3"
  },
  "language_info": {
   "codemirror_mode": {
    "name": "ipython",
    "version": 3
   },
   "file_extension": ".py",
   "mimetype": "text/x-python",
   "name": "python",
   "nbconvert_exporter": "python",
   "pygments_lexer": "ipython3",
   "version": "3.6.1"
  }
 },
 "nbformat": 4,
 "nbformat_minor": 2
}
