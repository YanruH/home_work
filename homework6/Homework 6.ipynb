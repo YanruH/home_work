{
 "cells": [
  {
   "cell_type": "code",
   "execution_count": 139,
   "metadata": {},
   "outputs": [
    {
     "name": "stdout",
     "output_type": "stream",
     "text": [
      "Mzruyd %j rj\n"
     ]
    }
   ],
   "source": [
    "def encode(string, offset):\n",
    "    string = list(string)\n",
    "    for i in range(len(string)):\n",
    "        if string[i] !=\" \" and string[i] != \"\\n\":\n",
    "            if string[i].isupper():\n",
    "                string[i] = chr(ord('A') + ((ord(string[i]) + offset - ord('A')) % 26))\n",
    "            elif string[i].islower():\n",
    "                string[i] = chr(ord('a') + ((ord(string[i]) + offset - ord('a')) % 26))\n",
    "    string = ''.join(string)\n",
    "    return string\n",
    "\n",
    "#test\n",
    "a = encode(\"Humpty me me\", 5)\n",
    "print(a)\n"
   ]
  },
  {
   "cell_type": "code",
   "execution_count": 124,
   "metadata": {},
   "outputs": [
    {
     "name": "stdout",
     "output_type": "stream",
     "text": [
      "Humpty me me\n"
     ]
    }
   ],
   "source": [
    "def decode(string, offset):\n",
    "    string = list(string)\n",
    "    for i in range(len(string)):\n",
    "        if string[i] !=\" \" and string[i] != \"\\n\":\n",
    "            if string[i].isupper():\n",
    "                string[i] = chr(ord('A') + ((ord(string[i]) - offset - ord('A')) % 26))\n",
    "            elif string[i].islower():\n",
    "                string[i] = chr(ord('a') + ((ord(string[i]) - offset - ord('a')) % 26))\n",
    "    string = ''.join(string)\n",
    "    return string\n",
    "\n",
    "#test\n",
    "b = decode(\"Mzruyd rj rj\", 5)\n",
    "print(b)\n",
    "    "
   ]
  },
  {
   "cell_type": "code",
   "execution_count": 142,
   "metadata": {},
   "outputs": [
    {
     "name": "stdout",
     "output_type": "stream",
     "text": [
      "({'A': 0, 'B': 0, 'C': 0, 'D': 0, 'E': 25.0, 'F': 0, 'G': 0, 'H': 25.0, 'I': 0, 'J': 0, 'K': 0, 'L': 50.0, 'M': 0, 'N': 0, 'O': 0, 'P': 0, 'Q': 0, 'R': 0, 'S': 0, 'T': 0, 'U': 0, 'V': 0, 'W': 0, 'X': 0, 'Y': 0, 'Z': 0}, 4)\n"
     ]
    }
   ],
   "source": [
    "def create_tuple(string):\n",
    "    string = list(string)\n",
    "    \n",
    "    #count the number of letters either upper or lower case in the input string\n",
    "    count_alpha = 0\n",
    "    for each in string:\n",
    "        if each.isalpha():\n",
    "            count_alpha = count_alpha + 1\n",
    "            pass\n",
    "        \n",
    "    #create a list of unique alphabet in upper case\n",
    "    alphabet = [\"A\"]\n",
    "    for i in range(25):\n",
    "        alphabet.append(chr(ord(alphabet[i]) + 1))\n",
    "        i = i + 1\n",
    "    \n",
    "    #create a list of counts of each alphabet in the string\n",
    "    count = 0\n",
    "    percentage = 0\n",
    "    counts = list()\n",
    "\n",
    "    for char in alphabet:\n",
    "        count = 0\n",
    "        percentage = 0\n",
    "        for i in range(len(string)):\n",
    "            if string[i] == char or string[i].upper() == char:\n",
    "                count = count + 1\n",
    "                percentage = round(count/count_alpha*100,2)\n",
    "                pass\n",
    "            pass\n",
    "        counts.append(percentage)\n",
    "        pass\n",
    "\n",
    "    #create a dictionary\n",
    "    new_dict = dict(zip(alphabet,counts))\n",
    "    \n",
    "    #return a result tuple\n",
    "    return (new_dict, count_alpha)\n",
    "\n",
    "#test\n",
    "print(create_tuple(\"Hell0\"))\n",
    "                        \n",
    "\n",
    "\n"
   ]
  },
  {
   "cell_type": "code",
   "execution_count": 143,
   "metadata": {
    "scrolled": true
   },
   "outputs": [
    {
     "name": "stdout",
     "output_type": "stream",
     "text": [
      "Mzruyd Izruyd xfy ts f bfqq,\n",
      "Mzruyd Izruyd mfi f lwjfy kfqq;\n",
      "Fqq ymj pnsl'x mtwxjx fsi fqq ymj pnsl'x rjs\n",
      "Htzqis'y uzy Mzruyd ytljymjw flfns.\n",
      "Humpty Dumpty sat on a wall,\n",
      "Humpty Dumpty had a great fall;\n",
      "All the king's horses and all the king's men\n",
      "Couldn't put Humpty together again.\n",
      "({'A': 10.91, 'B': 0, 'C': 0.91, 'D': 4.55, 'E': 6.36, 'F': 0.91, 'G': 4.55, 'H': 7.27, 'I': 2.73, 'J': 0, 'K': 1.82, 'L': 8.18, 'M': 5.45, 'N': 6.36, 'O': 3.64, 'P': 5.45, 'Q': 0, 'R': 2.73, 'S': 4.55, 'T': 11.82, 'U': 6.36, 'V': 0, 'W': 0.91, 'X': 0, 'Y': 4.55, 'Z': 0}, 110)\n"
     ]
    }
   ],
   "source": [
    "string = '''Humpty Dumpty sat on a wall,\n",
    "Humpty Dumpty had a great fall;\n",
    "All the king's horses and all the king's men\n",
    "Couldn't put Humpty together again.'''\n",
    "\n",
    "encoded = encode(string, 5)\n",
    "print(encoded)\n",
    "decoded = decode(encoded, 5)\n",
    "print(decoded)\n",
    "\n",
    "print(create_tuple(string))\n",
    "\n",
    "\n"
   ]
  },
  {
   "cell_type": "code",
   "execution_count": null,
   "metadata": {},
   "outputs": [],
   "source": []
  }
 ],
 "metadata": {
  "kernelspec": {
   "display_name": "Python 3",
   "language": "python",
   "name": "python3"
  },
  "language_info": {
   "codemirror_mode": {
    "name": "ipython",
    "version": 3
   },
   "file_extension": ".py",
   "mimetype": "text/x-python",
   "name": "python",
   "nbconvert_exporter": "python",
   "pygments_lexer": "ipython3",
   "version": "3.6.5"
  }
 },
 "nbformat": 4,
 "nbformat_minor": 2
}
