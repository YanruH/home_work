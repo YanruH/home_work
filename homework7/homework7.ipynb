{
 "cells": [
  {
   "cell_type": "markdown",
   "metadata": {},
   "source": [
    "# Homework 7"
   ]
  },
  {
   "cell_type": "markdown",
   "metadata": {},
   "source": [
    "## Problem 1. 50 Points\n",
    "You are given a **string** that contains $N$ uppercase English letters separated by a **|**. For example:\n",
    "\n",
    "```\n",
    "A|A|Z\n",
    "```\n",
    "\n",
    "For a given integer $I$, you can select any subset of length $I$ from the string. Assume that all subsets are selected uniformly, order doesn't matter, and you can only generate subsets for letters (don't include the $|$). For the example given above, if I=2, the complete sample space would be:\n",
    "```\n",
    "('A', 'A'), ('A', 'Z'), ('A', 'Z')\n",
    "```\n",
    "\n",
    "**Find the probability that at least one of the subsets generated will contain the letter Z.** For example, given the example above the answer would be 0.666666.\n",
    "\n",
    "Use `functional programming` and `itertools` to build a solution. Your answer should generalize and work for other similar examples like the one above.\n",
    "\n",
    "**HINT**: If I have the tuple `greeting = ('hello', 'world')`, I can search for hello and create a boolean as follows: \n",
    "\n",
    "(greeting.count('hello')>0)"
   ]
  },
  {
   "cell_type": "code",
   "execution_count": 19,
   "metadata": {},
   "outputs": [
    {
     "name": "stdout",
     "output_type": "stream",
     "text": [
      "['A', 'Z', 'Z']\n",
      "[('A', 'Z'), ('A', 'Z'), ('Z', 'Z')]\n",
      "0.6666666666666666\n"
     ]
    }
   ],
   "source": [
    "\n",
    "def prob(s,I,letter):\n",
    "    string=\"\"\n",
    "    \"\"\"This function would split the string by the symbol “|” \n",
    "    and then form the possible outcomes of combination of I number of pieces.\n",
    "    Then generate the probability of the existence of the letter inside the string inputted at the beginning \"\"\"\n",
    "    string=s.split('|')\n",
    "    print(string)\n",
    "    combo=itertools.combinations(string, I) \n",
    "    testitem=[]\n",
    "    total=0\n",
    "    qualify=0\n",
    "    for x in combo:\n",
    "        total+=1\n",
    "        testitem.append(x)\n",
    "        if letter in x:\n",
    "            qualify +=1\n",
    "    print(testitem)\n",
    "    print(qualify/total)\n",
    "    return\n",
    " \n",
    "prob('A|Z|Z',2,'A')"
   ]
  },
  {
   "cell_type": "code",
   "execution_count": null,
   "metadata": {},
   "outputs": [],
   "source": []
  },
  {
   "cell_type": "markdown",
   "metadata": {},
   "source": [
    "## Problem 2. 25 Points\n",
    "You've just been hired by Tesla! Your first job is to create a new python type that is capable of introspecting the most important part of the car - the battery!. Create this new python type so that when a battery is created it has 100% power. It's likely that power will change a lot over time, so make sure that the way in which the battery power is set and get is capable of being changed without having to change the api."
   ]
  },
  {
   "cell_type": "code",
   "execution_count": 27,
   "metadata": {},
   "outputs": [
    {
     "name": "stdout",
     "output_type": "stream",
     "text": [
      "100\n",
      "100\n",
      "<bound method battery.check of <__main__.battery object at 0x10cc457b8>>\n"
     ]
    }
   ],
   "source": [
    "class battery:\n",
    "    def _created(self):\n",
    "        self.reading = 100\n",
    "        return self.reading \n",
    "    def reading(self):\n",
    "        print('getting reading')\n",
    "        return self.reading \n",
    "    def check(self, value):\n",
    "        print('checking value ')\n",
    "        if (value<0) or (value > 100):\n",
    "            raise ValueError(\"Battery out of range.\")\n",
    "        self._check = value  #?\n",
    "        \n",
    "s = battery()\n",
    "print(s._created())\n",
    "print(s.reading)\n",
    "s.reading=110\n",
    "print(s.check)"
   ]
  },
  {
   "cell_type": "markdown",
   "metadata": {},
   "source": [
    "## Problem 3. 25 Points\n",
    "Now, it's time to create the `Car` type. This type should inherit the Battery type.  \n",
    "1. Your first job with the `Car` type is to create a method called `draw`. This method should create an iterator that decrements the battery's power by 1 each time it is called. Go ahead and instantiate this iterator every time a Car type is built.  \n",
    "\n",
    "\n",
    "2. Second, create a method called `throttle`. Each time throttle is called it returns the current power of the battery by executing next on the iterator built from `draw`."
   ]
  },
  {
   "cell_type": "code",
   "execution_count": 40,
   "metadata": {},
   "outputs": [],
   "source": [
    "class Car(battery):\n",
    "    def _draw_(self):\n",
    "        def exhaust():\n",
    "            #self.reading -=1\n",
    "            r=self.reading\n",
    "            r-=1\n",
    "            while True:\n",
    "                yield r\n",
    "        global iterator\n",
    "        iterator=exhaust()\n",
    "    \n",
    "    def throttle(self):\n",
    "        return next(iterator)\n",
    "        "
   ]
  },
  {
   "cell_type": "code",
   "execution_count": 41,
   "metadata": {},
   "outputs": [
    {
     "name": "stdout",
     "output_type": "stream",
     "text": [
      "<bound method battery.reading of <__main__.Car object at 0x10cc36780>>\n"
     ]
    },
    {
     "ename": "TypeError",
     "evalue": "unsupported operand type(s) for -=: 'method' and 'int'",
     "output_type": "error",
     "traceback": [
      "\u001b[0;31m---------------------------------------------------------------------------\u001b[0m",
      "\u001b[0;31mTypeError\u001b[0m                                 Traceback (most recent call last)",
      "\u001b[0;32m<ipython-input-41-9dd57266a766>\u001b[0m in \u001b[0;36m<module>\u001b[0;34m()\u001b[0m\n\u001b[1;32m      2\u001b[0m \u001b[0mprint\u001b[0m\u001b[0;34m(\u001b[0m\u001b[0mtest\u001b[0m\u001b[0;34m.\u001b[0m\u001b[0mreading\u001b[0m\u001b[0;34m)\u001b[0m\u001b[0;34m\u001b[0m\u001b[0m\n\u001b[1;32m      3\u001b[0m \u001b[0mtest\u001b[0m\u001b[0;34m.\u001b[0m\u001b[0m_draw_\u001b[0m\u001b[0;34m(\u001b[0m\u001b[0;34m)\u001b[0m\u001b[0;34m\u001b[0m\u001b[0m\n\u001b[0;32m----> 4\u001b[0;31m \u001b[0mprint\u001b[0m\u001b[0;34m(\u001b[0m\u001b[0mtest\u001b[0m\u001b[0;34m.\u001b[0m\u001b[0mthrottle\u001b[0m\u001b[0;34m(\u001b[0m\u001b[0;34m)\u001b[0m\u001b[0;34m)\u001b[0m\u001b[0;34m\u001b[0m\u001b[0m\n\u001b[0m\u001b[1;32m      5\u001b[0m \u001b[0mtest\u001b[0m\u001b[0;34m.\u001b[0m\u001b[0m_draw_\u001b[0m\u001b[0;34m(\u001b[0m\u001b[0;34m)\u001b[0m\u001b[0;34m\u001b[0m\u001b[0m\n\u001b[1;32m      6\u001b[0m \u001b[0mprint\u001b[0m\u001b[0;34m(\u001b[0m\u001b[0mtest\u001b[0m\u001b[0;34m.\u001b[0m\u001b[0mthrottle\u001b[0m\u001b[0;34m(\u001b[0m\u001b[0;34m)\u001b[0m\u001b[0;34m)\u001b[0m\u001b[0;34m\u001b[0m\u001b[0m\n",
      "\u001b[0;32m<ipython-input-40-fba73a21adc6>\u001b[0m in \u001b[0;36mthrottle\u001b[0;34m(self)\u001b[0m\n\u001b[1;32m     11\u001b[0m \u001b[0;34m\u001b[0m\u001b[0m\n\u001b[1;32m     12\u001b[0m     \u001b[0;32mdef\u001b[0m \u001b[0mthrottle\u001b[0m\u001b[0;34m(\u001b[0m\u001b[0mself\u001b[0m\u001b[0;34m)\u001b[0m\u001b[0;34m:\u001b[0m\u001b[0;34m\u001b[0m\u001b[0m\n\u001b[0;32m---> 13\u001b[0;31m         \u001b[0;32mreturn\u001b[0m \u001b[0mnext\u001b[0m\u001b[0;34m(\u001b[0m\u001b[0miterator\u001b[0m\u001b[0;34m)\u001b[0m\u001b[0;34m\u001b[0m\u001b[0m\n\u001b[0m\u001b[1;32m     14\u001b[0m \u001b[0;34m\u001b[0m\u001b[0m\n",
      "\u001b[0;32m<ipython-input-40-fba73a21adc6>\u001b[0m in \u001b[0;36mexhaust\u001b[0;34m()\u001b[0m\n\u001b[1;32m      4\u001b[0m             \u001b[0;31m#self.reading -=1\u001b[0m\u001b[0;34m\u001b[0m\u001b[0;34m\u001b[0m\u001b[0m\n\u001b[1;32m      5\u001b[0m             \u001b[0mr\u001b[0m\u001b[0;34m=\u001b[0m\u001b[0mself\u001b[0m\u001b[0;34m.\u001b[0m\u001b[0mreading\u001b[0m\u001b[0;34m\u001b[0m\u001b[0m\n\u001b[0;32m----> 6\u001b[0;31m             \u001b[0mr\u001b[0m\u001b[0;34m-=\u001b[0m\u001b[0;36m1\u001b[0m\u001b[0;34m\u001b[0m\u001b[0m\n\u001b[0m\u001b[1;32m      7\u001b[0m             \u001b[0;32mwhile\u001b[0m \u001b[0;32mTrue\u001b[0m\u001b[0;34m:\u001b[0m\u001b[0;34m\u001b[0m\u001b[0m\n\u001b[1;32m      8\u001b[0m                 \u001b[0;32myield\u001b[0m \u001b[0mr\u001b[0m\u001b[0;34m\u001b[0m\u001b[0m\n",
      "\u001b[0;31mTypeError\u001b[0m: unsupported operand type(s) for -=: 'method' and 'int'"
     ]
    }
   ],
   "source": [
    "test=Car()\n",
    "print(test.reading)\n",
    "test._draw_()\n",
    "print(test.throttle())\n",
    "test._draw_()\n",
    "print(test.throttle())\n"
   ]
  },
  {
   "cell_type": "code",
   "execution_count": null,
   "metadata": {},
   "outputs": [],
   "source": []
  },
  {
   "cell_type": "code",
   "execution_count": null,
   "metadata": {},
   "outputs": [],
   "source": []
  },
  {
   "cell_type": "code",
   "execution_count": null,
   "metadata": {},
   "outputs": [],
   "source": []
  },
  {
   "cell_type": "code",
   "execution_count": null,
   "metadata": {},
   "outputs": [],
   "source": []
  },
  {
   "cell_type": "code",
   "execution_count": null,
   "metadata": {},
   "outputs": [],
   "source": []
  },
  {
   "cell_type": "code",
   "execution_count": null,
   "metadata": {},
   "outputs": [],
   "source": []
  },
  {
   "cell_type": "code",
   "execution_count": null,
   "metadata": {},
   "outputs": [],
   "source": []
  },
  {
   "cell_type": "code",
   "execution_count": null,
   "metadata": {},
   "outputs": [],
   "source": []
  },
  {
   "cell_type": "code",
   "execution_count": null,
   "metadata": {},
   "outputs": [],
   "source": []
  }
 ],
 "metadata": {
  "kernelspec": {
   "display_name": "Python 3",
   "language": "python",
   "name": "python3"
  },
  "language_info": {
   "codemirror_mode": {
    "name": "ipython",
    "version": 3
   },
   "file_extension": ".py",
   "mimetype": "text/x-python",
   "name": "python",
   "nbconvert_exporter": "python",
   "pygments_lexer": "ipython3",
   "version": "3.6.5"
  }
 },
 "nbformat": 4,
 "nbformat_minor": 2
}
