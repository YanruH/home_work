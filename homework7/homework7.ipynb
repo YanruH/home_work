{
 "cells": [
  {
   "cell_type": "markdown",
   "metadata": {},
   "source": [
    "# Homework 7"
   ]
  },
  {
   "cell_type": "markdown",
   "metadata": {},
   "source": [
    "## Problem 1. 50 Points\n",
    "You are given a **string** that contains $N$ uppercase English letters separated by a **|**. For example:\n",
    "\n",
    "```\n",
    "A|A|Z\n",
    "```\n",
    "\n",
    "For a given integer $I$, you can select any subset of length $I$ from the string. Assume that all subsets are selected uniformly, order doesn't matter, and you can only generate subsets for letters (don't include the $|$). For the example given above, if I=2, the complete sample space would be:\n",
    "```\n",
    "('A', 'A'), ('A', 'Z'), ('A', 'Z')\n",
    "```\n",
    "\n",
    "**Find the probability that at least one of the subsets generated will contain the letter Z.** For example, given the example above the answer would be 0.666666.\n",
    "\n",
    "Use `functional programming` and `itertools` to build a solution. Your answer should generalize and work for other similar examples like the one above.\n",
    "\n",
    "**HINT**: If I have the tuple `greeting = ('hello', 'world')`, I can search for hello and create a boolean as follows: \n",
    "\n",
    "(greeting.count('hello')>0)"
   ]
  },
  {
   "cell_type": "code",
   "execution_count": 1,
   "metadata": {},
   "outputs": [],
   "source": [
    "import itertools\n",
    "def prob_z(input_str, I):\n",
    "    x = []\n",
    "    for i in range(len(input_str)):\n",
    "        if input_str[i] != '|':\n",
    "            x.append(input_str[i])\n",
    "    t = tuple(itertools.combinations(x, I))\n",
    "    j = 0\n",
    "    for i in range(len(t)):\n",
    "        if t[i].count('Z') > 0:\n",
    "            j = j + 1\n",
    "    return j / len(t) * 1.0\n"
   ]
  },
  {
   "cell_type": "code",
   "execution_count": 2,
   "metadata": {},
   "outputs": [
    {
     "name": "stdout",
     "output_type": "stream",
     "text": [
      "0.6666666666666666\n"
     ]
    }
   ],
   "source": [
    "print(prob_z('A|A|Z', 2))    "
   ]
  },
  {
   "cell_type": "markdown",
   "metadata": {},
   "source": [
    "## Problem 2. 25 Points\n",
    "You've just been hired by Tesla! Your first job is to create a new python type that is capable of introspecting the most important part of the car - the battery!. Create this new python type so that when a battery is created it has 100% power. It's likely that power will change a lot over time, so make sure that the way in which the battery power is set and get is capable of being changed without having to change the api."
   ]
  },
  {
   "cell_type": "code",
   "execution_count": 125,
   "metadata": {},
   "outputs": [],
   "source": [
    "class Battery:\n",
    "    def __init__(self):\n",
    "        self.power = 100\n",
    "    \n",
    "    @property\n",
    "    def power(self):\n",
    "        print('getting power level...')\n",
    "        return self._power\n",
    "    \n",
    "    @power.setter\n",
    "    def power(self, value):\n",
    "        print('setting power level...')\n",
    "        if value > 100 or value < 0:\n",
    "            raise ValueError('Battery exceeds limits. Please input a number between 0 and 100.')\n",
    "        self._power = value\n",
    "    \n",
    "    def __repr__(self):\n",
    "        \"\"\"Flexible string representation for any number of initialized variables.\"\"\"\n",
    "        return '{} at 0x{}({})'.format(\n",
    "            self.__class__.__name__,\n",
    "            id(self),\n",
    "            ', '.join('{}={}'.format(k, v)\n",
    "                      for k, v in sorted(self.__dict__.items())))\n"
   ]
  },
  {
   "cell_type": "code",
   "execution_count": 126,
   "metadata": {},
   "outputs": [
    {
     "name": "stdout",
     "output_type": "stream",
     "text": [
      "setting power level...\n",
      "getting power level...\n",
      "100\n",
      "setting power level...\n",
      "getting power level...\n",
      "20\n"
     ]
    }
   ],
   "source": [
    "a = Battery()\n",
    "print(a.power)\n",
    "a.power = 20\n",
    "print(a.power)\n",
    "#a.power = 200\n",
    "#print(a.power)"
   ]
  },
  {
   "cell_type": "markdown",
   "metadata": {},
   "source": [
    "## Problem 3. 25 Points\n",
    "Now, it's time to create the `Car` type. This type should inherit the Battery type.  \n",
    "1. Your first job with the `Car` type is to create a method called `draw`. This method should create an iterator that decrements the battery's power by 1 each time it is called. Go ahead and instantiate this iterator every time a Car type is built.  \n",
    "\n",
    "\n",
    "2. Second, create a method called `throttle`. Each time throttle is called it returns the current power of the battery by executing next on the iterator built from `draw`."
   ]
  },
  {
   "cell_type": "code",
   "execution_count": 141,
   "metadata": {},
   "outputs": [],
   "source": [
    "class Car(Battery):\n",
    "    def __init__(self):\n",
    "        super().__init__()\n",
    "        self.draw()\n",
    "\n",
    "    def draw(self):\n",
    "        x = self._power\n",
    "        self._power = self._power - 1\n",
    "        if self._power < 0:\n",
    "            raise StopIteration\n",
    "        yield x\n",
    "    \n",
    "    def throttle(self):\n",
    "        return next(self.draw(), 'Battery power eliminates')\n",
    "    "
   ]
  },
  {
   "cell_type": "code",
   "execution_count": 143,
   "metadata": {},
   "outputs": [
    {
     "name": "stdout",
     "output_type": "stream",
     "text": [
      "setting power level...\n",
      "setting power level...\n",
      "5\n",
      "4\n",
      "3\n",
      "2\n",
      "1\n",
      "Battery power eliminates\n"
     ]
    },
    {
     "name": "stderr",
     "output_type": "stream",
     "text": [
      "/Users/sinclair/anaconda3/lib/python3.6/site-packages/ipykernel_launcher.py:14: DeprecationWarning: generator 'Car.draw' raised StopIteration\n",
      "  \n"
     ]
    }
   ],
   "source": [
    "b = Car()\n",
    "b.power = 5\n",
    "\n",
    "for i in range(6):\n",
    "    print(b.throttle())\n"
   ]
  },
  {
   "cell_type": "code",
   "execution_count": null,
   "metadata": {},
   "outputs": [],
   "source": []
  }
 ],
 "metadata": {
  "kernelspec": {
   "display_name": "Python 3",
   "language": "python",
   "name": "python3"
  },
  "language_info": {
   "codemirror_mode": {
    "name": "ipython",
    "version": 3
   },
   "file_extension": ".py",
   "mimetype": "text/x-python",
   "name": "python",
   "nbconvert_exporter": "python",
   "pygments_lexer": "ipython3",
   "version": "3.6.5"
  }
 },
 "nbformat": 4,
 "nbformat_minor": 2
}
