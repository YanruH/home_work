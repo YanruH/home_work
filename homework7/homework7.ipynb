{
 "cells": [
  {
   "cell_type": "markdown",
   "metadata": {},
   "source": [
    "# Homework 7"
   ]
  },
  {
   "cell_type": "markdown",
   "metadata": {},
   "source": [
    "## Problem 1. 50 Points\n",
    "You are given a **string** that contains $N$ uppercase English letters separated by a **|**. For example:\n",
    "\n",
    "```\n",
    "A|A|Z\n",
    "```\n",
    "\n",
    "For a given integer $I$, you can select any subset of length $I$ from the string. Assume that all subsets are selected uniformly, order doesn't matter, and you can only generate subsets for letters (don't include the $|$). For the example given above, if I=2, the complete sample space would be:\n",
    "```\n",
    "('A', 'A'), ('A', 'Z'), ('A', 'Z')\n",
    "```\n",
    "\n",
    "**Find the probability that at least one of the subsets generated will contain the letter Z.** For example, given the example above the answer would be 0.666666.\n",
    "\n",
    "Use `functional programming` and `itertools` to build a solution. Your answer should generalize and work for other similar examples like the one above.\n",
    "\n",
    "**HINT**: If I have the tuple `greeting = ('hello', 'world')`, I can search for hello and create a boolean as follows: \n",
    "\n",
    "(greeting.count('hello')>0)"
   ]
  },
  {
   "cell_type": "code",
   "execution_count": 76,
   "metadata": {},
   "outputs": [],
   "source": [
    "import itertools as it\n",
    "def cleanstring(str):\n",
    "    '''This is a function that gets rid of the | in a string and stores all alphabets in the string to a list'''\n",
    "    return [x for x in str if x != '|']\n",
    "\n",
    "def genCombi(lst,num):\n",
    "    '''This is a function that returns a list of all possible combinations of n values in a list of values'''\n",
    "    return list(it.combinations(lst,num))\n",
    "\n",
    "def findz(lst):\n",
    "    '''This function takes in a list of combinations of alphabets and returns a list of tuples containing letter Z'''\n",
    "    return [x for x in lst if x.count('Z')>0]\n",
    "    \n",
    "def zprob(lst):\n",
    "    '''This is a function that calculates the probability that at least one of the subsets generated will contain the letter Z'''\n",
    "    return len(findz(lst))/len(lst)\n",
    "    \n",
    "def finalfunc(str,num):\n",
    "    '''This function takes in a string of upper case alphabets separated by |, as well as an integer\n",
    "    and returns the probability of Z in a combination among all possible combinations of n alphabets in the string'''\n",
    "    cleanedstring=cleanstring(str)\n",
    "    combilist=genCombi(cleanedstring,num)\n",
    "    return zprob(combilist)\n",
    "    \n"
   ]
  },
  {
   "cell_type": "code",
   "execution_count": 77,
   "metadata": {},
   "outputs": [
    {
     "name": "stdout",
     "output_type": "stream",
     "text": [
      "0.6666666666666666\n",
      "0.0\n",
      "1.0\n",
      "0.9\n"
     ]
    }
   ],
   "source": [
    "print(finalfunc(\"A|A|Z\",2))\n",
    "print(finalfunc(\"A|A|A\",2))\n",
    "print(finalfunc(\"A|A|Z|Z\",3))\n",
    "print(finalfunc(\"A|A|Z|Z|A\",3))"
   ]
  },
  {
   "cell_type": "markdown",
   "metadata": {},
   "source": [
    "## Problem 2. 25 Points\n",
    "You've just been hired by Tesla! Your first job is to create a new python type that is capable of introspecting the most important part of the car - the battery!. Create this new python type so that when a battery is created it has 100% power. It's likely that power will change a lot over time, so make sure that the way in which the battery power is set and get is capable of being changed without having to change the api."
   ]
  },
  {
   "cell_type": "code",
   "execution_count": 126,
   "metadata": {},
   "outputs": [],
   "source": [
    "class Battery:\n",
    "    def __init__(self):\n",
    "        self.power=100\n",
    "        \n",
    "    @property\n",
    "    def power(self):\n",
    "        return self._power\n",
    "    \n",
    "    @power.setter\n",
    "    def power(self,value):\n",
    "        if value>100 or value<0:\n",
    "            raise ValueError(\"Battery can't be more than 100 or less than 0\")\n",
    "            pass\n",
    "        else:\n",
    "            self._power=value\n",
    "            pass\n",
    "        pass\n",
    "   \n",
    "    "
   ]
  },
  {
   "cell_type": "code",
   "execution_count": 127,
   "metadata": {},
   "outputs": [
    {
     "name": "stdout",
     "output_type": "stream",
     "text": [
      "100\n"
     ]
    },
    {
     "ename": "ValueError",
     "evalue": "Battery can't be more than 100 or less than 0",
     "output_type": "error",
     "traceback": [
      "\u001b[0;31m---------------------------------------------------------------------------\u001b[0m",
      "\u001b[0;31mValueError\u001b[0m                                Traceback (most recent call last)",
      "\u001b[0;32m<ipython-input-127-d6cfffd0b545>\u001b[0m in \u001b[0;36m<module>\u001b[0;34m()\u001b[0m\n\u001b[1;32m      1\u001b[0m \u001b[0mbat1\u001b[0m\u001b[0;34m=\u001b[0m\u001b[0mBattery\u001b[0m\u001b[0;34m(\u001b[0m\u001b[0;34m)\u001b[0m\u001b[0;34m\u001b[0m\u001b[0m\n\u001b[1;32m      2\u001b[0m \u001b[0mprint\u001b[0m\u001b[0;34m(\u001b[0m\u001b[0mbat1\u001b[0m\u001b[0;34m.\u001b[0m\u001b[0mpower\u001b[0m\u001b[0;34m)\u001b[0m\u001b[0;34m\u001b[0m\u001b[0m\n\u001b[0;32m----> 3\u001b[0;31m \u001b[0mbat1\u001b[0m\u001b[0;34m.\u001b[0m\u001b[0mpower\u001b[0m\u001b[0;34m=\u001b[0m\u001b[0;36m500\u001b[0m\u001b[0;34m\u001b[0m\u001b[0m\n\u001b[0m",
      "\u001b[0;32m<ipython-input-126-a9b8c7ac2dd8>\u001b[0m in \u001b[0;36mpower\u001b[0;34m(self, value)\u001b[0m\n\u001b[1;32m     10\u001b[0m     \u001b[0;32mdef\u001b[0m \u001b[0mpower\u001b[0m\u001b[0;34m(\u001b[0m\u001b[0mself\u001b[0m\u001b[0;34m,\u001b[0m\u001b[0mvalue\u001b[0m\u001b[0;34m)\u001b[0m\u001b[0;34m:\u001b[0m\u001b[0;34m\u001b[0m\u001b[0m\n\u001b[1;32m     11\u001b[0m         \u001b[0;32mif\u001b[0m \u001b[0mvalue\u001b[0m\u001b[0;34m>\u001b[0m\u001b[0;36m100\u001b[0m \u001b[0;32mor\u001b[0m \u001b[0mvalue\u001b[0m\u001b[0;34m<\u001b[0m\u001b[0;36m0\u001b[0m\u001b[0;34m:\u001b[0m\u001b[0;34m\u001b[0m\u001b[0m\n\u001b[0;32m---> 12\u001b[0;31m             \u001b[0;32mraise\u001b[0m \u001b[0mValueError\u001b[0m\u001b[0;34m(\u001b[0m\u001b[0;34m\"Battery can't be more than 100 or less than 0\"\u001b[0m\u001b[0;34m)\u001b[0m\u001b[0;34m\u001b[0m\u001b[0m\n\u001b[0m\u001b[1;32m     13\u001b[0m             \u001b[0;32mpass\u001b[0m\u001b[0;34m\u001b[0m\u001b[0m\n\u001b[1;32m     14\u001b[0m         \u001b[0;32melse\u001b[0m\u001b[0;34m:\u001b[0m\u001b[0;34m\u001b[0m\u001b[0m\n",
      "\u001b[0;31mValueError\u001b[0m: Battery can't be more than 100 or less than 0"
     ]
    }
   ],
   "source": [
    "bat1=Battery()\n",
    "print(bat1.power)\n",
    "bat1.power=500\n"
   ]
  },
  {
   "cell_type": "markdown",
   "metadata": {},
   "source": [
    "## Problem 3. 25 Points\n",
    "Now, it's time to create the `Car` type. This type should inherit the Battery type.  \n",
    "1. Your first job with the `Car` type is to create a method called `draw`. This method should create an iterator that decrements the battery's power by 1 each time it is called. Go ahead and instantiate this iterator every time a Car type is built.  \n",
    "\n",
    "\n",
    "2. Second, create a method called `throttle`. Each time throttle is called it returns the current power of the battery by executing next on the iterator built from `draw`."
   ]
  },
  {
   "cell_type": "code",
   "execution_count": 129,
   "metadata": {},
   "outputs": [],
   "source": [
    "class Car(Battery):\n",
    "    def __init__(self):\n",
    "        super().__init__()\n",
    "        self.batteryiter=self.__draw__()\n",
    "        \n",
    "    def __draw__(self):\n",
    "        iterator=iter(range(100,0,-1))\n",
    "        return iterator\n",
    "        \n",
    "    def __throttle__(self):\n",
    "        self.power=next(self.batteryiter)\n",
    "        return self.power\n",
    "        \n",
    "        \n",
    "        "
   ]
  },
  {
   "cell_type": "code",
   "execution_count": 130,
   "metadata": {},
   "outputs": [
    {
     "name": "stdout",
     "output_type": "stream",
     "text": [
      "100\n",
      "99\n",
      "98\n",
      "97\n",
      "96\n",
      "95\n"
     ]
    }
   ],
   "source": [
    "newcar=Car()\n",
    "print(newcar.__throttle__())\n",
    "print(newcar.__throttle__())\n",
    "print(newcar.__throttle__())\n",
    "print(newcar.__throttle__())\n",
    "print(newcar.__throttle__())\n",
    "print(newcar.__throttle__())"
   ]
  },
  {
   "cell_type": "code",
   "execution_count": null,
   "metadata": {},
   "outputs": [],
   "source": []
  }
 ],
 "metadata": {
  "kernelspec": {
   "display_name": "Python 3",
   "language": "python",
   "name": "python3"
  },
  "language_info": {
   "codemirror_mode": {
    "name": "ipython",
    "version": 3
   },
   "file_extension": ".py",
   "mimetype": "text/x-python",
   "name": "python",
   "nbconvert_exporter": "python",
   "pygments_lexer": "ipython3",
   "version": "3.6.5"
  }
 },
 "nbformat": 4,
 "nbformat_minor": 2
}
