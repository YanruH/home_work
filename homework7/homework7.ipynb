{
 "cells": [
  {
   "cell_type": "markdown",
   "metadata": {},
   "source": [
    "# Homework 7"
   ]
  },
  {
   "cell_type": "markdown",
   "metadata": {},
   "source": [
    "## Problem 1. 50 Points\n",
    "You are given a **string** that contains $N$ uppercase English letters separated by a **|**. For example:\n",
    "\n",
    "```\n",
    "A|A|Z\n",
    "```\n",
    "\n",
    "For a given integer $I$, you can select any subset of length $I$ from the string. Assume that all subsets are selected uniformly, order doesn't matter, and you can only generate subsets for letters (don't include the $|$). For the example given above, if I=2, the complete sample space would be:\n",
    "```\n",
    "('A', 'A'), ('A', 'Z'), ('A', 'Z')\n",
    "```\n",
    "\n",
    "**Find the probability that at least one of the subsets generated will contain the letter Z.** For example, given the example above the answer would be 0.666666.\n",
    "\n",
    "Use `functional programming` and `itertools` to build a solution. Your answer should generalize and work for other similar examples like the one above.\n",
    "\n",
    "**HINT**: If I have the tuple `greeting = ('hello', 'world')`, I can search for hello and create a boolean as follows: \n",
    "\n",
    "(greeting.count('hello')>0)"
   ]
  },
  {
   "cell_type": "code",
   "execution_count": null,
   "metadata": {},
   "outputs": [],
   "source": [
    "import itertools\n",
    "\n",
    "def letterProb(string, I, letter):\n",
    "    \"\"\"\n",
    "    Returns the percentage probability of a defined letter being in a list of tuples.\n",
    "    The list of tuples is made up of all unique letter combinations of an input string, \n",
    "    and each tuple length is defined by an input integer. \n",
    "    \n",
    "    :type string: str - individual uppercase characters seperated by delimeter\n",
    "    :type I: int\n",
    "    :type letter: str\n",
    "    \"\"\"\n",
    "    #Troubleshooting\n",
    "    if not isinstance(string, str): #troubleshooting for non-string\n",
    "        raise ValueError(\"Input Not String Type\")\n",
    "    if '|' not in string: #troubleshooting for string input\n",
    "        raise ValueError(\"Incorrect String Input Syntax\")\n",
    "    if not isinstance(I, int): #troubleshooting for non-integer\n",
    "        raise ValueError(\"'I' Not Integer Type\")\n",
    "    if not isinstance(letter, str): #troubleshooting for non-letter\n",
    "        raise ValueError(\"Letter Not String Type\")\n",
    "    if not letter.isupper(): #troubleshooting for letter case\n",
    "        raise ValueError(\"Letter in Incorrect Case\") \n",
    "    \n",
    "    #Main functionality\n",
    "    else:\n",
    "        string = tuple(string.split(\"|\")) #split string\n",
    "        \n",
    "        for s in string: #troubleshooting for multi-char str between delim\n",
    "            if len(s) >1:\n",
    "                raise ValueError(\"Length of Single Character > 1\") \n",
    "            if not s.isupper():\n",
    "                raise ValueError(\"At Least One Input Letter Not Upper Case\") \n",
    "        \n",
    "        tupleList = list(itertools.combinations(string, I)) #create list of unique tuples\n",
    "        letterCount = 0 #start letter counter at 0\n",
    "        \n",
    "        for tup in tupleList: #using each tuple in the list of tuples, find whether or not said letter is in said tuple\n",
    "            if letter in tup:\n",
    "                letterCount += 1 #add each tuple the letter is in to counter\n",
    "            else:\n",
    "                continue\n",
    "        \n",
    "        prob = (letterCount)/(len(tupleList)) #divide final tally by number of tuples\n",
    "        print(prob) #print probability of letter being in a randomly chosen generated tuple\n",
    "\n",
    "    \n",
    "##Test\n",
    "letterProb(\"A|Z|D|Z|F|G|Z\", 4, 'Z')\n"
   ]
  },
  {
   "cell_type": "markdown",
   "metadata": {},
   "source": [
    "## Problem 2. 25 Points\n",
    "You've just been hired by Tesla! Your first job is to create a new python type that is capable of introspecting the most important part of the car - the battery!. Create this new python type so that when a battery is created it has 100% power. It's likely that power will change a lot over time, so make sure that the way in which the battery power is set and get is capable of being changed without having to change the api."
   ]
  },
  {
   "cell_type": "code",
   "execution_count": null,
   "metadata": {},
   "outputs": [],
   "source": [
    "class Battery:\n",
    "    \"\"\"\n",
    "    Battery class created to indicate power level. \n",
    "    \"\"\"\n",
    "    def __init__(self, battery = 100): #default value to 100\n",
    "        self.battery = battery #return initial default value to battery power level\n",
    "        return \n",
    "\n",
    "    @property #get battery power level\n",
    "    def battery(self):\n",
    "        return self._battery\n",
    "\n",
    "    @battery.setter #set battery power level\n",
    "    def battery(self, value):\n",
    "        if (value > 100) or (value < 0): #create range for battery level allowance, raise error if out of range\n",
    "            raise ValueError(\"Power Level Exceeds Capability\")\n",
    "        self._battery = value\n",
    "        \n",
    "    def __repr__(self): #represent battery power level as string\n",
    "        return ('{}% Power'.format(self.battery))\n",
    "    \n",
    "##Test\n",
    "B = Battery()\n",
    "print(B)\n",
    "B.battery=99\n",
    "print(B)\n"
   ]
  },
  {
   "cell_type": "markdown",
   "metadata": {},
   "source": [
    "## Problem 3. 25 Points\n",
    "Now, it's time to create the `Car` type. This type should inherit the Battery type.  \n",
    "1. Your first job with the `Car` type is to create a method called `draw`. This method should create an iterator that decrements the battery's power by 1 each time it is called. Go ahead and instantiate this iterator every time a Car type is built.  \n",
    "\n",
    "\n",
    "2. Second, create a method called `throttle`. Each time throttle is called it returns the current power of the battery by executing next on the iterator built from `draw`."
   ]
  },
  {
   "cell_type": "code",
   "execution_count": null,
   "metadata": {},
   "outputs": [],
   "source": [
    "class Car(Battery):\n",
    "    \"\"\"\n",
    "    Car class inherits from Battery.\n",
    "    Car class creates draw and throttle methods, and in doing so,\n",
    "    reflects actions on battery power level from Battery class.  \n",
    "    \"\"\"\n",
    "    def __init__(self, battery = 100): #inherit attributes from battery\n",
    "        super().__init__(battery)\n",
    "        self.iterator = self.draw() #indicate iterator and draw process\n",
    "    \n",
    "    def draw(self): #create iterator for throttle\n",
    "        print('Updating Power Level')\n",
    "        iterator = iter(range(self.battery,0,-1))\n",
    "        return iterator\n",
    "    \n",
    "    def throttle(self): #create method to execute iterator created in draw\n",
    "        print('Setting Power Level')\n",
    "        self.battery = next(self.iterator)\n",
    "        if (self._battery > 100) or (self._battery < 0):\n",
    "            raise ValueError(\"Power Level Limits Exceeded\")\n",
    "        return ('{}% Power'.format(self.battery))\n",
    "    \n",
    "    \n",
    "##Test\n",
    "c= Car() #initial power level\n",
    "print(c)\n",
    "c = Car(97) #allowance for setting new power level\n",
    "print(c.throttle())\n",
    "print(c.throttle())\n"
   ]
  }
 ],
 "metadata": {
  "kernelspec": {
   "display_name": "Python 3",
   "language": "python",
   "name": "python3"
  },
  "language_info": {
   "codemirror_mode": {
    "name": "ipython",
    "version": 3
   },
   "file_extension": ".py",
   "mimetype": "text/x-python",
   "name": "python",
   "nbconvert_exporter": "python",
   "pygments_lexer": "ipython3",
   "version": "3.6.5"
  }
 },
 "nbformat": 4,
 "nbformat_minor": 2
}
