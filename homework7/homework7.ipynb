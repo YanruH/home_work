{
 "cells": [
  {
   "cell_type": "markdown",
   "metadata": {},
   "source": [
    "# Homework 7"
   ]
  },
  {
   "cell_type": "markdown",
   "metadata": {},
   "source": [
    "## Problem 1. 50 Points\n",
    "You are given a **string** that contains $N$ uppercase English letters separated by a **|**. For example:\n",
    "\n",
    "```\n",
    "A|A|Z\n",
    "```\n",
    "\n",
    "For a given integer $I$, you can select any subset of length $I$ from the string. Assume that all subsets are selected uniformly, order doesn't matter, and you can only generate subsets for letters (don't include the $|$). For the example given above, if I=2, the complete sample space would be:\n",
    "```\n",
    "('A', 'A'), ('A', 'Z'), ('A', 'Z')\n",
    "```\n",
    "\n",
    "**Find the probability that at least one of the subsets generated will contain the letter Z.** For example, given the example above the answer would be 0.666666.\n",
    "\n",
    "Use `functional programming` and `itertools` to build a solution. Your answer should generalize and work for other similar examples like the one above.\n",
    "\n",
    "**HINT**: If I have the tuple `greeting = ('hello', 'world')`, I can search for hello and create a boolean as follows: \n",
    "\n",
    "(greeting.count('hello')>0)"
   ]
  },
  {
   "cell_type": "code",
   "execution_count": 1,
   "metadata": {},
   "outputs": [
    {
     "name": "stdout",
     "output_type": "stream",
     "text": [
      "0.6666666666666666\n"
     ]
    }
   ],
   "source": [
    "import itertools\n",
    "\n",
    "def probability(string, integer, letter):\n",
    "    '''The function inputs a string that contains N uppercase English letters separated by a |\n",
    "    Ans a integer which means the length of subset from the string.\n",
    "    The function returns the probability that at least one of the subsets generated will contain the letter'''\n",
    "    original_list = string.split('|')\n",
    "    combination = []\n",
    "    for i in itertools.combinations(original_list, integer):\n",
    "        combination.append(i)\n",
    "    num = 0\n",
    "    for x in combination:\n",
    "        if x.count(letter)>0:\n",
    "            num += 1\n",
    "    prob = num / len(combination)\n",
    "    return prob\n",
    "\n",
    "#test\n",
    "print(probability('A|A|Z', 2, 'Z'))"
   ]
  },
  {
   "cell_type": "markdown",
   "metadata": {},
   "source": [
    "## Problem 2. 25 Points\n",
    "You've just been hired by Tesla! Your first job is to create a new python type that is capable of introspecting the most important part of the car - the battery!. Create this new python type so that when a battery is created it has 100% power. It's likely that power will change a lot over time, so make sure that the way in which the battery power is set and get is capable of being changed without having to change the api."
   ]
  },
  {
   "cell_type": "code",
   "execution_count": null,
   "metadata": {},
   "outputs": [
    {
     "name": "stdout",
     "output_type": "stream",
     "text": [
      "100\n",
      "50\n"
     ]
    }
   ],
   "source": [
    "class Battery:\n",
    "    def __init__(self):\n",
    "        self.battery = 100\n",
    "    \n",
    "    @property\n",
    "    def battery(self):\n",
    "        return self._battery\n",
    "    \n",
    "    @battery.setter\n",
    "    def battery(self, value):\n",
    "        if (value > 100) or (value < 0):\n",
    "            raise ValueError(\"Battery exceeds limits.\")\n",
    "        self._battery = value\n",
    "\n",
    "# test\n",
    "a = Battery()\n",
    "print(a.battery)\n",
    "a.battery = 50\n",
    "print(a.battery)"
   ]
  },
  {
   "cell_type": "markdown",
   "metadata": {},
   "source": [
    "## Problem 3. 25 Points\n",
    "Now, it's time to create the `Car` type. This type should inherit the Battery type.  \n",
    "1. Your first job with the `Car` type is to create a method called `draw`. This method should create an iterator that decrements the battery's power by 1 each time it is called. Go ahead and instantiate this iterator every time a Car type is built.  \n",
    "\n",
    "\n",
    "2. Second, create a method called `throttle`. Each time throttle is called it returns the current power of the battery by executing next on the iterator built from `draw`."
   ]
  },
  {
   "cell_type": "code",
   "execution_count": 3,
   "metadata": {},
   "outputs": [
    {
     "name": "stdout",
     "output_type": "stream",
     "text": [
      "100\n",
      "99\n",
      "98\n",
      "98\n",
      "97\n"
     ]
    }
   ],
   "source": [
    "class Car(Battery):\n",
    "    '''Class Car inherits from Battery'''\n",
    "    def __init__(self):\n",
    "        super().__init__()\n",
    "    \n",
    "    def draw(self):\n",
    "        def generator():\n",
    "            n = self._battery - 1\n",
    "            while True:\n",
    "                yield n\n",
    "            n -=1\n",
    "        global iterator\n",
    "        iterator = generator()\n",
    "    \n",
    "    def throttle(self):\n",
    "        self._battery = next(iterator)\n",
    "        return self._battery\n",
    "#test        \n",
    "b = Car()\n",
    "print(b.battery)\n",
    "\n",
    "b.draw()\n",
    "print(b.throttle())\n",
    "\n",
    "b.draw()\n",
    "print(b.throttle())\n",
    "b.draw()\n",
    "print(b.battery)\n",
    "print(b.throttle())"
   ]
  }
 ],
 "metadata": {
  "kernelspec": {
   "display_name": "Python 3",
   "language": "python",
   "name": "python3"
  },
  "language_info": {
   "codemirror_mode": {
    "name": "ipython",
    "version": 3
   },
   "file_extension": ".py",
   "mimetype": "text/x-python",
   "name": "python",
   "nbconvert_exporter": "python",
   "pygments_lexer": "ipython3",
   "version": "3.6.5"
  }
 },
 "nbformat": 4,
 "nbformat_minor": 2
}
