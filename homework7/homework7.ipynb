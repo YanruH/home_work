{
 "cells": [
  {
   "cell_type": "markdown",
   "metadata": {},
   "source": [
    "# Homework 7"
   ]
  },
  {
   "cell_type": "markdown",
   "metadata": {},
   "source": [
    "## Problem 1. 50 Points\n",
    "You are given a **string** that contains $N$ uppercase English letters separated by a **|**. For example:\n",
    "\n",
    "```\n",
    "A|A|Z\n",
    "```\n",
    "\n",
    "For a given integer $I$, you can select any subset of length $I$ from the string. Assume that all subsets are selected uniformly, order doesn't matter, and you can only generate subsets for letters (don't include the $|$). For the example given above, if I=2, the complete sample space would be:\n",
    "```\n",
    "('A', 'A'), ('A', 'Z'), ('A', 'Z')\n",
    "```\n",
    "\n",
    "**Find the probability that at least one of the subsets generated will contain the letter Z.** For example, given the example above the answer would be 0.666666.\n",
    "\n",
    "Use `functional programming` and `itertools` to build a solution. Your answer should generalize and work for other similar examples like the one above.\n",
    "\n",
    "**HINT**: If I have the tuple `greeting = ('hello', 'world')`, I can search for hello and create a boolean as follows: \n",
    "\n",
    "(greeting.count('hello')>0)"
   ]
  },
  {
   "cell_type": "code",
   "execution_count": 2,
   "metadata": {},
   "outputs": [
    {
     "data": {
      "text/plain": [
       "0.6666666666666666"
      ]
     },
     "execution_count": 2,
     "metadata": {},
     "output_type": "execute_result"
    }
   ],
   "source": [
    "from itertools import combinations \n",
    "def prob (string, i, letter):\n",
    "    a = string.split('|')\n",
    "    b = list(combinations(a, i))\n",
    "    counter1 = len(b)\n",
    "    counter2 = 0\n",
    "    for item in b: \n",
    "        if (item.count(letter)>0):\n",
    "            counter2 = counter2+1\n",
    "    return (counter2/counter1)\n",
    "        \n",
    "\n",
    "\n",
    "\n",
    "x = ('A|A|Z')\n",
    "prob(x, 2, 'Z')\n"
   ]
  },
  {
   "cell_type": "markdown",
   "metadata": {},
   "source": [
    "## Problem 2. 25 Points\n",
    "You've just been hired by Tesla! Your first job is to create a new python type that is capable of introspecting the most important part of the car - the battery!. Create this new python type so that when a battery is created it has 100% power. It's likely that power will change a lot over time, so make sure that the way in which the battery power is set and get is capable of being changed without having to change the api."
   ]
  },
  {
   "cell_type": "code",
   "execution_count": 3,
   "metadata": {},
   "outputs": [
    {
     "name": "stdout",
     "output_type": "stream",
     "text": [
      "The battery now has 100% power!\n",
      "The battery now has 50% power!\n",
      "The battery now has 100% power!\n"
     ]
    }
   ],
   "source": [
    "class Battery: \n",
    "    def __init__(self):\n",
    "        self.power = 100\n",
    "    \n",
    "    def get(self):\n",
    "        print(\"The battery now has \" + str(self.power) + '% power!')\n",
    "    \n",
    "    def set(self, power):\n",
    "        self.power = power\n",
    "\n",
    "\n",
    "\n",
    "\n",
    "xx = Battery()\n",
    "xx.get()\n",
    "xx.set(50)\n",
    "xx.get()\n",
    "xx.set(100)\n",
    "xx.get()"
   ]
  },
  {
   "cell_type": "markdown",
   "metadata": {},
   "source": [
    "## Problem 3. 25 Points\n",
    "Now, it's time to create the `Car` type. This type should inherit the Battery type.  \n",
    "1. Your first job with the `Car` type is to create a method called `draw`. This method should create an iterator that decrements the battery's power by 1 each time it is called. Go ahead and instantiate this iterator every time a Car type is built.  \n",
    "\n",
    "\n",
    "2. Second, create a method called `throttle`. Each time throttle is called it returns the current power of the battery by executing next on the iterator built from `draw`."
   ]
  },
  {
   "cell_type": "code",
   "execution_count": 4,
   "metadata": {},
   "outputs": [
    {
     "name": "stdout",
     "output_type": "stream",
     "text": [
      "The battery now has 100% power!\n",
      "The battery now has 60% power!\n",
      "The battery now has 59% power!\n",
      "The battery now has 58% power!\n"
     ]
    }
   ],
   "source": [
    "class Car(Battery):\n",
    "    def __init__(self):\n",
    "        Battery.__init__(self)\n",
    "        self.draw()\n",
    "        \n",
    "    def __iter__(self):\n",
    "        return self\n",
    "\n",
    "    def __next__(self):\n",
    "        if(self.power < 0):\n",
    "            raise StopIteration\n",
    "        else:\n",
    "            self.power-=1\n",
    "            return self.power\n",
    "\n",
    "    def draw(self):\n",
    "        self.iterator = iter(self)\n",
    "\n",
    "    def throttle(self):\n",
    "        self.power = next(self.iterator)\n",
    "        self.get()\n",
    "\n",
    "\n",
    "car = Car()\n",
    "car.get()\n",
    "car.set(60)\n",
    "car.get()\n",
    "car.throttle()\n",
    "car.throttle()\n"
   ]
  }
 ],
 "metadata": {
  "kernelspec": {
   "display_name": "Python 3",
   "language": "python",
   "name": "python3"
  },
  "language_info": {
   "codemirror_mode": {
    "name": "ipython",
    "version": 3
   },
   "file_extension": ".py",
   "mimetype": "text/x-python",
   "name": "python",
   "nbconvert_exporter": "python",
   "pygments_lexer": "ipython3",
   "version": "3.5.4"
  }
 },
 "nbformat": 4,
 "nbformat_minor": 2
}
