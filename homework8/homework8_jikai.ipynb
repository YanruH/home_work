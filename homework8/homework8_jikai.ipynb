{
 "cells": [
  {
   "cell_type": "markdown",
   "metadata": {},
   "source": [
    "# Homework 8\n",
    "**Do Not turn in homework early. We will plan to submit your pull requests at the beginning of class Tuesday. Early submissions will be penalized.**"
   ]
  },
  {
   "cell_type": "markdown",
   "metadata": {},
   "source": [
    "## Problem 1. 25 Points\n",
    "Create a class called `Client`. When a client object is instantiated, it should set two data attributes: `username` and `password`. Give this class a unique representation which only shows the username, but obfuscates the password by changing the actual password to all X's that have the same length as the original password. For instance when someone prints a client object, it should show something like:\n",
    "\n",
    "`<Client username:benneely password:XXXXXX\\>`\n",
    "\n",
    "Where the original password had `6` letters."
   ]
  },
  {
   "cell_type": "code",
   "execution_count": 198,
   "metadata": {},
   "outputs": [
    {
     "name": "stdout",
     "output_type": "stream",
     "text": [
      "<Client username:jjj password:XXXXXX\\>\n"
     ]
    }
   ],
   "source": [
    "class Client:\n",
    "    def __init__(self, username, password):\n",
    "        self.username = username\n",
    "        self.password = password\n",
    "    \n",
    "    def __repr__(self):\n",
    "        return '<{} username:{} password:{}\\>'.format(\n",
    "            self.__class__.__name__,\n",
    "            self.username,\n",
    "            \"XXXXXX\")\n",
    "\n",
    "#Test\n",
    "c = Client(\"jjj\", \"asdfsa\")\n",
    "print(c)\n",
    "\n",
    "    \n",
    "    "
   ]
  },
  {
   "cell_type": "markdown",
   "metadata": {},
   "source": [
    "## Problem 2. 25 Points\n",
    "Create a class `GitHubCaller`. This class should inherit from the Client class. GitHubCaller should have a data attribute named `base_url`. During instantiation, set this value to `https://api.github.com`. It should also have a property attribute called `endpoint`. During instantiation, set this value to `/orgs/bios821-2018`. Create a method for this class called `getit`. This method should `return` a python dictionary that is the result of an authenticated `GET` request to the endpoint. All other functionality (e.g. representation) should be handled by the `Client` class. "
   ]
  },
  {
   "cell_type": "code",
   "execution_count": 222,
   "metadata": {},
   "outputs": [
    {
     "data": {
      "text/plain": [
       "{'login': 'bios821-2018',\n",
       " 'id': 43327426,\n",
       " 'node_id': 'MDEyOk9yZ2FuaXphdGlvbjQzMzI3NDI2',\n",
       " 'url': 'https://api.github.com/orgs/bios821-2018',\n",
       " 'repos_url': 'https://api.github.com/orgs/bios821-2018/repos',\n",
       " 'events_url': 'https://api.github.com/orgs/bios821-2018/events',\n",
       " 'hooks_url': 'https://api.github.com/orgs/bios821-2018/hooks',\n",
       " 'issues_url': 'https://api.github.com/orgs/bios821-2018/issues',\n",
       " 'members_url': 'https://api.github.com/orgs/bios821-2018/members{/member}',\n",
       " 'public_members_url': 'https://api.github.com/orgs/bios821-2018/public_members{/member}',\n",
       " 'avatar_url': 'https://avatars2.githubusercontent.com/u/43327426?v=4',\n",
       " 'description': '',\n",
       " 'name': 'bios821',\n",
       " 'company': None,\n",
       " 'blog': '',\n",
       " 'location': None,\n",
       " 'email': '',\n",
       " 'is_verified': False,\n",
       " 'has_organization_projects': True,\n",
       " 'has_repository_projects': True,\n",
       " 'public_repos': 6,\n",
       " 'public_gists': 0,\n",
       " 'followers': 0,\n",
       " 'following': 0,\n",
       " 'html_url': 'https://github.com/bios821-2018',\n",
       " 'created_at': '2018-09-17T01:49:43Z',\n",
       " 'updated_at': '2018-09-17T01:56:30Z',\n",
       " 'type': 'Organization'}"
      ]
     },
     "execution_count": 222,
     "metadata": {},
     "output_type": "execute_result"
    }
   ],
   "source": [
    "import requests\n",
    "\n",
    "class GitHubCaller(Client):\n",
    "    def __init__(self, base_url, endpoint, username, password):\n",
    "        self.base_url = base_url\n",
    "        self.endpoint = endpoint\n",
    "        super().__init__(username, password)\n",
    "    \n",
    "    @property\n",
    "    def endpoint(self):\n",
    "        return self._endpoint\n",
    "    \n",
    "    @endpoint.setter\n",
    "    def endpoint(self, value):\n",
    "        self._endpoint = value\n",
    "    \n",
    "    def getit(self):\n",
    "        result = requests.get(self.base_url+self._endpoint).json()\n",
    "        return result\n",
    "\n",
    "base_url = \"https://api.github.com\"\n",
    "endpoint = \"/orgs/bios821-2018\"\n",
    "username = \"hello\"\n",
    "password = \"hola\"\n",
    "g = GitHubCaller(base_url, endpoint, username, password)\n",
    "g.getit()"
   ]
  },
  {
   "cell_type": "markdown",
   "metadata": {},
   "source": [
    "## Problem 3. 15 Points\n",
    "Create an object from GitHubCaller and test 3 endpoints. You may need to search for the Github api documentation."
   ]
  },
  {
   "cell_type": "code",
   "execution_count": 223,
   "metadata": {},
   "outputs": [
    {
     "name": "stdout",
     "output_type": "stream",
     "text": [
      "{'message': 'Not Found', 'documentation_url': 'https://developer.github.com/v3/users/#get-a-single-user'}\n",
      "---************************************************************************---\n",
      "{'message': 'Requires authentication', 'documentation_url': 'https://developer.github.com/v3/users/followers/#list-followers-of-a-user'}\n",
      "---************************************************************************---\n",
      "{'timeline_url': 'https://github.com/timeline', 'user_url': 'https://github.com/{user}', 'security_advisories_url': 'https://github.com/security-advisories', '_links': {'timeline': {'href': 'https://github.com/timeline', 'type': 'application/atom+xml'}, 'user': {'href': 'https://github.com/{user}', 'type': 'application/atom+xml'}, 'security_advisories': {'href': 'https://github.com/security-advisories', 'type': 'application/atom+xml'}}}\n"
     ]
    }
   ],
   "source": [
    "base_url = \"https://api.github.com\"\n",
    "\n",
    "endpoint1 = \"/users/{user}\"\n",
    "endpoint2 = \"/user/followers\"\n",
    "endpoint3 = \"/feeds\"\n",
    "\n",
    "username = \"hello\"\n",
    "password = \"hola\"\n",
    "\n",
    "g.endpoint = endpoint1\n",
    "print(g.getit())\n",
    "print(\"---************************************************************************---\")\n",
    "g.endpoint = endpoint2\n",
    "print(g.getit())\n",
    "print(\"---************************************************************************---\")\n",
    "g.endpoint = endpoint3\n",
    "print(g.getit())\n",
    "\n"
   ]
  },
  {
   "cell_type": "markdown",
   "metadata": {},
   "source": [
    "## Problem 4. 35 Points\n",
    "At the end of the `numpy` notebook from class, I've added a section that shows how one could simulate a nonlinear relationship between two arrays. Using this example, create two new arrays whose dependency is parabolic. The vertex of the parabola should be at x=2. If any of the x values are negative discard them. Don't forget to also discard the corresponding y elements. Use an `assert` statement to ensure the arrays have the same shape."
   ]
  },
  {
   "cell_type": "code",
   "execution_count": 90,
   "metadata": {},
   "outputs": [],
   "source": [
    "import numpy as np\n",
    "\n",
    "data_x = np.random.randn(100)\n",
    "data_x_pos = data_x[data_x>=0]\n",
    "\n",
    "quad_coeff = np.random.randn()\n",
    "const_coeff = np.random.randn()\n",
    "\n",
    "data_y1_para = quad_coeff * (data_x_pos - 2) ** 2 + const_coeff\n",
    "data_y2_para = quad_coeff * (data_x_pos - 2) ** 2 + const_coeff\n",
    "\n",
    "assert np.allclose(data_y1_para, data_y2_para), \"Shape is not the same\"\n"
   ]
  }
 ],
 "metadata": {
  "kernelspec": {
   "display_name": "Python 3",
   "language": "python",
   "name": "python3"
  },
  "language_info": {
   "codemirror_mode": {
    "name": "ipython",
    "version": 3
   },
   "file_extension": ".py",
   "mimetype": "text/x-python",
   "name": "python",
   "nbconvert_exporter": "python",
   "pygments_lexer": "ipython3",
   "version": "3.6.5"
  }
 },
 "nbformat": 4,
 "nbformat_minor": 2
}
