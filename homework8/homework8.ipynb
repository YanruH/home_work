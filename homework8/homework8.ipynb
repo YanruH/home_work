{
 "cells": [
  {
   "cell_type": "markdown",
   "metadata": {},
   "source": [
    "# Homework 8\n",
    "**Do Not turn in homework early. We will plan to submit your pull requests at the beginning of class Tuesday. Early submissions will be penalized.**"
   ]
  },
  {
   "cell_type": "markdown",
   "metadata": {},
   "source": [
    "## Problem 1. 25 Points\n",
    "Create a class called `Client`. When a client object is instantiated, it should set two data attributes: `username` and `password`. Give this class a unique representation which only shows the username, but obfuscates the password by changing the actual password to all X's that have the same length as the original password. For instance when someone prints a client object, it should show something like:\n",
    "\n",
    "`<Client username:benneely password:XXXXXX\\>`\n",
    "\n",
    "Where the original password had `6` letters."
   ]
  },
  {
   "cell_type": "code",
   "execution_count": 2,
   "metadata": {},
   "outputs": [],
   "source": [
    "class Client:\n",
    "    def __init__(self, username, password):\n",
    "        self.username = str(username)\n",
    "        self.password = str(password)\n",
    "    \n",
    "    def __repr__(self):\n",
    "        \"\"\"representation will be username plus an obfuscated password number\"\"\"\n",
    "        n = len(self.password)\n",
    "        return \"<Client username:{} password:{}\\>\".format(\n",
    "        self.username, \"X\" * n\n",
    "        )"
   ]
  },
  {
   "cell_type": "code",
   "execution_count": 3,
   "metadata": {},
   "outputs": [],
   "source": [
    "a = Client('jingxuanzhang', 122345)"
   ]
  },
  {
   "cell_type": "code",
   "execution_count": 4,
   "metadata": {},
   "outputs": [
    {
     "data": {
      "text/plain": [
       "<Client username:jingxuanzhang password:XXXXXX\\>"
      ]
     },
     "execution_count": 4,
     "metadata": {},
     "output_type": "execute_result"
    }
   ],
   "source": [
    "a"
   ]
  },
  {
   "cell_type": "markdown",
   "metadata": {},
   "source": [
    "## Problem 2. 25 Points\n",
    "Create a class `GitHubCaller`. This class should inherit from the Client class. GitHubCaller should have a data attribute named `base_url`. During instantiation, set this value to `https://api.github.com`. It should also have a property attribute called `endpoint`. During instantiation, set this value to `/orgs/bios821-2018`. Create a method for this class called `getit`. This method should `return` a python dictionary that is the result of an authenticated `GET` request to the endpoint. All other functionality (e.g. representation) should be handled by the `Client` class. "
   ]
  },
  {
   "cell_type": "code",
   "execution_count": 5,
   "metadata": {},
   "outputs": [],
   "source": [
    "import requests\n",
    "class GitHubCaller(Client):\n",
    "    def __init__(self, username, password):\n",
    "        self.base_url = \"https://api.github.com\"\n",
    "        super().__init__(username, password)\n",
    "    \n",
    "    @property\n",
    "    def endpoint(self):\n",
    "        return self._endpoint\n",
    "    \n",
    "    @endpoint.setter\n",
    "    def endpoint(self, endpoint_url):\n",
    "        self._endpoint = endpoint_url\n",
    "    \n",
    "    def getit(self):\n",
    "        blabla = requests.get(self.base_url+self.endpoint, auth = (self.username, self.password))\n",
    "        return blabla.json()\n"
   ]
  },
  {
   "cell_type": "code",
   "execution_count": 6,
   "metadata": {},
   "outputs": [
    {
     "name": "stdout",
     "output_type": "stream",
     "text": [
      "<class 'dict'>\n"
     ]
    },
    {
     "data": {
      "text/plain": [
       "{'message': 'Bad credentials',\n",
       " 'documentation_url': 'https://developer.github.com/v3'}"
      ]
     },
     "execution_count": 6,
     "metadata": {},
     "output_type": "execute_result"
    }
   ],
   "source": [
    "b = GitHubCaller('zjx', 'woshizjx')\n",
    "b.endpoint = \"/orgs/bios821-2018\"\n",
    "print(type(b.getit()))\n",
    "b.getit()"
   ]
  },
  {
   "cell_type": "markdown",
   "metadata": {},
   "source": [
    "## Problem 3. 15 Points\n",
    "Create an object from GitHubCaller and test 3 endpoints. You may need to search for the Github api documentation."
   ]
  },
  {
   "cell_type": "code",
   "execution_count": 7,
   "metadata": {},
   "outputs": [
    {
     "data": {
      "text/plain": [
       "{'message': 'Bad credentials',\n",
       " 'documentation_url': 'https://developer.github.com/v3'}"
      ]
     },
     "execution_count": 7,
     "metadata": {},
     "output_type": "execute_result"
    }
   ],
   "source": [
    "c = GitHubCaller('zjx', 'woshizjx')\n",
    "c.endpoint = '/orgs/bios821-2018/repos'\n",
    "c.getit()"
   ]
  },
  {
   "cell_type": "code",
   "execution_count": 8,
   "metadata": {},
   "outputs": [
    {
     "data": {
      "text/plain": [
       "{'message': 'Bad credentials',\n",
       " 'documentation_url': 'https://developer.github.com/v3'}"
      ]
     },
     "execution_count": 8,
     "metadata": {},
     "output_type": "execute_result"
    }
   ],
   "source": [
    "c.endpoint = '/orgs/bios821-2018/events'\n",
    "c.getit()"
   ]
  },
  {
   "cell_type": "code",
   "execution_count": 9,
   "metadata": {},
   "outputs": [
    {
     "data": {
      "text/plain": [
       "{'message': 'Bad credentials',\n",
       " 'documentation_url': 'https://developer.github.com/v3'}"
      ]
     },
     "execution_count": 9,
     "metadata": {},
     "output_type": "execute_result"
    }
   ],
   "source": [
    "c.endpoint = '/orgs/bios821-2018/issues'\n",
    "c.getit()"
   ]
  },
  {
   "cell_type": "markdown",
   "metadata": {},
   "source": [
    "## Problem 4. 35 Points\n",
    "At the end of the `numpy` notebook from class, I've added a section that shows how one could simulate a nonlinear relationship between two arrays. Using this example, create two new arrays whose dependency is parabolic. The vertex of the parabola should be at x=2. If any of the x values are negative discard them. Don't forget to also discard the corresponding y elements. Use an `assert` statement to ensure the arrays have the same shape."
   ]
  },
  {
   "cell_type": "code",
   "execution_count": 10,
   "metadata": {},
   "outputs": [
    {
     "data": {
      "text/plain": [
       "<matplotlib.collections.PathCollection at 0x113e38470>"
      ]
     },
     "execution_count": 10,
     "metadata": {},
     "output_type": "execute_result"
    },
    {
     "data": {
      "image/png": "[encoded data removed]",
      "text/plain": [
       "<Figure size 432x288 with 1 Axes>"
      ]
     },
     "metadata": {},
     "output_type": "display_data"
    }
   ],
   "source": [
    "import numpy as np\n",
    "import matplotlib.pyplot as plt\n",
    "\n",
    "x = np.random.uniform(high=10, low=-10, size=200)\n",
    "y = -np.power(x, 2) + 4 * x\n",
    "n = x.size\n",
    "x_new = list(x)\n",
    "y_new = list(y)\n",
    "for i in range(x.size):\n",
    "    if x[i] < 0:\n",
    "        del x_new[i-n]\n",
    "        del y_new[i-n]\n",
    "x = np.array(x_new)\n",
    "y = np.array(y_new)\n",
    "assert x.size == y.size\n",
    "\n",
    "%matplotlib inline\n",
    "plt.scatter(x, y)"
   ]
  },
  {
   "cell_type": "code",
   "execution_count": null,
   "metadata": {},
   "outputs": [],
   "source": []
  }
 ],
 "metadata": {
  "kernelspec": {
   "display_name": "Python 3",
   "language": "python",
   "name": "python3"
  },
  "language_info": {
   "codemirror_mode": {
    "name": "ipython",
    "version": 3
   },
   "file_extension": ".py",
   "mimetype": "text/x-python",
   "name": "python",
   "nbconvert_exporter": "python",
   "pygments_lexer": "ipython3",
   "version": "3.6.5"
  }
 },
 "nbformat": 4,
 "nbformat_minor": 2
}
